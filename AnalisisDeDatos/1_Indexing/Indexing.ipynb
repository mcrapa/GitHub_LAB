{
  "nbformat": 4,
  "nbformat_minor": 0,
  "metadata": {
    "kernelspec": {
      "display_name": "conda_python3",
      "language": "python",
      "name": "conda_python3"
    },
    "language_info": {
      "codemirror_mode": {
        "name": "ipython",
        "version": 3
      },
      "file_extension": ".py",
      "mimetype": "text/x-python",
      "name": "python",
      "nbconvert_exporter": "python",
      "pygments_lexer": "ipython3",
      "version": "3.6.10"
    },
    "colab": {
      "name": "Indexing.ipynb",
      "provenance": []
    }
  },
  "cells": [
    {
      "cell_type": "markdown",
      "metadata": {
        "id": "CtG_cBkpk1bO"
      },
      "source": [
        "<a href=\"https://colab.research.google.com/github/institutohumai/cursos-python/blob/master/AnalisisDeDatos/1_Indexing/Indexing.ipynb\"> <img src='https://colab.research.google.com/assets/colab-badge.svg' /> </a>\n",
        "<div align=\"center\"> Recordá abrir en una nueva pestaña </div>"
      ]
    },
    {
      "cell_type": "code",
      "metadata": {
        "id": "Xky-bym9k1bX"
      },
      "source": [
        "# Siempre al principio, importamos las librerías.\n",
        "import pandas as pd\n",
        "import numpy as np"
      ],
      "execution_count": 54,
      "outputs": []
    },
    {
      "cell_type": "markdown",
      "metadata": {
        "id": "XuADwAdvk1bY"
      },
      "source": [
        "# Tabla de Contenidos\n",
        "\n",
        "    I. Análisis de datos con Pandas\n",
        "    II. Los objetos fundamentales de Pandas\n",
        "        I. Series\n",
        "        II. DataFrames\n",
        "        III. Índices\n",
        "    III. Exploración\n",
        "        I. Filtrando un DataFrame (Indexing)\n",
        "            I. Boolean Indexing\n",
        "                I. Máscara booleana\n",
        "                II. Máscara booleana con muchas condiciones\n",
        "            II. Boolean indexing con query()\n",
        "            III. Fancy Indexing\n",
        "        II. Funciones de Agregación\n",
        "    IV. Otros análisis descriptivos\n",
        "        I. Para las variables numéricas\n",
        "        II. Para las variables categóricas\n",
        "        III. Ordenar por columnas y limitar la cantidad de resultados\n",
        "    V. Anexo: volviendo al tema de la vectorización"
      ]
    },
    {
      "cell_type": "markdown",
      "metadata": {
        "id": "0e2ndS15k1bZ"
      },
      "source": [
        "# Exploración\n",
        "\n",
        "Vamos a analizar datos de una fuente real. Los ingresos de los funcionarios son información pública que se libera anualmente en el <a href='https://data.buenosaires.gob.ar/dataset/sueldo-funcionarios'>portal de datos abiertos</a> de GCBA.  \n",
        "\n",
        "En general los 4 primeros pasos para analizar un data set son:\n",
        "1. Leerlo\n",
        "2. Consultar cuáles son las columnas\n",
        "3. Extraer una muestra\n",
        "4. Verificar cuántos registros tiene"
      ]
    },
    {
      "cell_type": "markdown",
      "metadata": {
        "id": "Tg_vxzEEk1bZ"
      },
      "source": [
        "## 1- Para leer el data set usamos la función de pandas read_csv\n",
        "\n",
        "Con esta función podemos leer archivos que estén en una url pública o en una ubicación del disco accesible desde la Jupyter Notebook. "
      ]
    },
    {
      "cell_type": "code",
      "metadata": {
        "id": "gbfVuM7ak1ba"
      },
      "source": [
        "df = pd.read_csv('http://cdn.buenosaires.gob.ar/datosabiertos/datasets/sueldo-funcionarios/sueldo_funcionarios_2019.csv')   "
      ],
      "execution_count": 55,
      "outputs": []
    },
    {
      "cell_type": "markdown",
      "metadata": {
        "id": "C6yujAJ3k1ba"
      },
      "source": [
        "## 2- Consultamos las columnas\n"
      ]
    },
    {
      "cell_type": "code",
      "metadata": {
        "colab": {
          "base_uri": "https://localhost:8080/"
        },
        "id": "z9Oi9Wd9k1ba",
        "outputId": "36966945-ff22-44da-bc79-d501c9286c6e"
      },
      "source": [
        "df.columns"
      ],
      "execution_count": 56,
      "outputs": [
        {
          "output_type": "execute_result",
          "data": {
            "text/plain": [
              "Index(['cuil', 'anio', 'mes', 'funcionario_apellido', 'funcionario_nombre',\n",
              "       'reparticion', 'asignacion_por_cargo_i', 'aguinaldo_ii',\n",
              "       'total_salario_bruto_i_+_ii', 'observaciones'],\n",
              "      dtype='object')"
            ]
          },
          "metadata": {
            "tags": []
          },
          "execution_count": 56
        }
      ]
    },
    {
      "cell_type": "markdown",
      "metadata": {
        "id": "A3DYA1HAk1bb"
      },
      "source": [
        "## 3- Extraemos una muestra"
      ]
    },
    {
      "cell_type": "code",
      "metadata": {
        "colab": {
          "base_uri": "https://localhost:8080/",
          "height": 281
        },
        "id": "GWJBfOs6k1bb",
        "outputId": "d1aba71a-4823-4742-a692-6868751c9390"
      },
      "source": [
        "df.sample(5)"
      ],
      "execution_count": 57,
      "outputs": [
        {
          "output_type": "execute_result",
          "data": {
            "text/html": [
              "<div>\n",
              "<style scoped>\n",
              "    .dataframe tbody tr th:only-of-type {\n",
              "        vertical-align: middle;\n",
              "    }\n",
              "\n",
              "    .dataframe tbody tr th {\n",
              "        vertical-align: top;\n",
              "    }\n",
              "\n",
              "    .dataframe thead th {\n",
              "        text-align: right;\n",
              "    }\n",
              "</style>\n",
              "<table border=\"1\" class=\"dataframe\">\n",
              "  <thead>\n",
              "    <tr style=\"text-align: right;\">\n",
              "      <th></th>\n",
              "      <th>cuil</th>\n",
              "      <th>anio</th>\n",
              "      <th>mes</th>\n",
              "      <th>funcionario_apellido</th>\n",
              "      <th>funcionario_nombre</th>\n",
              "      <th>reparticion</th>\n",
              "      <th>asignacion_por_cargo_i</th>\n",
              "      <th>aguinaldo_ii</th>\n",
              "      <th>total_salario_bruto_i_+_ii</th>\n",
              "      <th>observaciones</th>\n",
              "    </tr>\n",
              "  </thead>\n",
              "  <tbody>\n",
              "    <tr>\n",
              "      <th>10</th>\n",
              "      <td>20-24941711-5</td>\n",
              "      <td>2019</td>\n",
              "      <td>1</td>\n",
              "      <td>MURA</td>\n",
              "      <td>MARTIN</td>\n",
              "      <td>Ministerio de Economía y Finanzas</td>\n",
              "      <td>224516.62</td>\n",
              "      <td>0.0</td>\n",
              "      <td>224516.62</td>\n",
              "      <td>NaN</td>\n",
              "    </tr>\n",
              "    <tr>\n",
              "      <th>326</th>\n",
              "      <td>27-17593512-1</td>\n",
              "      <td>2019</td>\n",
              "      <td>11</td>\n",
              "      <td>MONTIEL</td>\n",
              "      <td>MARIA LETICIA</td>\n",
              "      <td>SECR Legal y Técnica</td>\n",
              "      <td>267913.50</td>\n",
              "      <td>0.0</td>\n",
              "      <td>267913.50</td>\n",
              "      <td>NaN</td>\n",
              "    </tr>\n",
              "    <tr>\n",
              "      <th>319</th>\n",
              "      <td>20-17110752-1</td>\n",
              "      <td>2019</td>\n",
              "      <td>11</td>\n",
              "      <td>MACCHIAVELLI</td>\n",
              "      <td>EDUARDO ALBERTO</td>\n",
              "      <td>Ministerio de Ambiente y Espacio Público</td>\n",
              "      <td>275089.75</td>\n",
              "      <td>0.0</td>\n",
              "      <td>275089.75</td>\n",
              "      <td>NaN</td>\n",
              "    </tr>\n",
              "    <tr>\n",
              "      <th>126</th>\n",
              "      <td>20-17692128-6</td>\n",
              "      <td>2019</td>\n",
              "      <td>5</td>\n",
              "      <td>RODRIGUEZ LARRETA</td>\n",
              "      <td>HORACIO ANTONIO</td>\n",
              "      <td>Jefe de Gobierno</td>\n",
              "      <td>217520.38</td>\n",
              "      <td>0.0</td>\n",
              "      <td>217520.38</td>\n",
              "      <td>NaN</td>\n",
              "    </tr>\n",
              "    <tr>\n",
              "      <th>153</th>\n",
              "      <td>27-26690980-8</td>\n",
              "      <td>2019</td>\n",
              "      <td>5</td>\n",
              "      <td>UHALDE</td>\n",
              "      <td>MARIA PAULA</td>\n",
              "      <td>SECR Cultura Ciudadana y Función Pública</td>\n",
              "      <td>226866.41</td>\n",
              "      <td>0.0</td>\n",
              "      <td>226866.41</td>\n",
              "      <td>NaN</td>\n",
              "    </tr>\n",
              "  </tbody>\n",
              "</table>\n",
              "</div>"
            ],
            "text/plain": [
              "              cuil  anio  ...  total_salario_bruto_i_+_ii observaciones\n",
              "10   20-24941711-5  2019  ...                   224516.62           NaN\n",
              "326  27-17593512-1  2019  ...                   267913.50           NaN\n",
              "319  20-17110752-1  2019  ...                   275089.75           NaN\n",
              "126  20-17692128-6  2019  ...                   217520.38           NaN\n",
              "153  27-26690980-8  2019  ...                   226866.41           NaN\n",
              "\n",
              "[5 rows x 10 columns]"
            ]
          },
          "metadata": {
            "tags": []
          },
          "execution_count": 57
        }
      ]
    },
    {
      "cell_type": "markdown",
      "metadata": {
        "id": "E9raqtQCk1bb"
      },
      "source": [
        "## 4- Consultamos la cantidad de filas y de columnas"
      ]
    },
    {
      "cell_type": "code",
      "metadata": {
        "colab": {
          "base_uri": "https://localhost:8080/"
        },
        "id": "OyAAJUxbk1bc",
        "outputId": "2e1c6cb3-8cd8-4d8f-a31a-9de9cf7bdfd3"
      },
      "source": [
        "# La propiedad shape nos devuelve una tupla (filas,columnas)\n",
        "df.shape"
      ],
      "execution_count": 58,
      "outputs": [
        {
          "output_type": "execute_result",
          "data": {
            "text/plain": [
              "(385, 10)"
            ]
          },
          "metadata": {
            "tags": []
          },
          "execution_count": 58
        }
      ]
    },
    {
      "cell_type": "markdown",
      "metadata": {
        "id": "EKtXyM9ck1bc"
      },
      "source": [
        "# Vectorización con Pandas\n",
        "\n",
        "Pandas es una de las librerías de Python más usadas para análisis de datos. El nombre pandas viene de \"Panel Data Analysis\" y su funcionalidad permite hacer operaciones sobre datos que se encuentran en memoria de manera eficiente. \n",
        "\n",
        "Pandas es útil para trabajar sobre datos tabulares, con dos condiciones importantes:\n",
        "\n",
        "I. Los datos se encuentran enteramente en la memoria RAM. Con lo cual, el tamaño de los datos que podemos manipular está limitado por el hardware. Como regla de pulgar, es una buena práctica no ocupar más de 1/3 de la memoria RAM de nuestro dispositivo con el dataset. Así, si estamos trabajando localmente en una notebook con 8GB de memoria RAM no es recomendable procesar datasets de más de 2.33GB.\n",
        "\n",
        "II. En pandas, las operaciones sobre filas y columnas son, en general, eficientes porque se hacen de forma \"vectorizada\". En realidad esta optimización, se hace desde numpy, una librería para realizar operaciones matemáticas que se utilizó a su vez para escribir pandas. \n",
        "\n",
        "Las operaciones vectorizadas son las que se realizan en bloque en vez de caso por caso. Las computadoras de hoy tienen la capacidad de recibir muchas instrucciones juntas y procesar varias de ellas a la vez. Por ejemplo, si nuestro hardware tiene la capacidad de procesar 4 operaciones juntas, el resultado de vectorizar una operación matemática es el siguiente:\n",
        "\n",
        "<img src = 'https://datasets-humai.s3.amazonaws.com/images/vectorizacion.png' /> \n",
        "\n",
        "\n",
        "En el primer caso hay que hacer 5 operaciones y en el segundo caso sólo dos.\n",
        "\n",
        "Es importante entender, entonces, que Pandas trabaja de esta manera y que por eso es una de las herramientas más elegidas para manipular datos en memoria.\n"
      ]
    },
    {
      "cell_type": "markdown",
      "metadata": {
        "id": "cz3QVjwJk1bd"
      },
      "source": [
        "\n",
        "\n",
        "# Los objetos fundamentales de Pandas\n",
        "\n",
        "## Series\n",
        "\n",
        "Las series son \"columnas\" que de una tabla que están asociadas a un índice y a un nombre. Igual que una lista común de Python es una secuencia de elementos ordenados, pero a diferencia de la lista está asociada a más información."
      ]
    },
    {
      "cell_type": "code",
      "metadata": {
        "id": "QzFYFsc4k1bd"
      },
      "source": [
        "# Las series se pueden crear a partir de una lista\n",
        "serie = pd.Series(['a','b','c'])"
      ],
      "execution_count": 59,
      "outputs": []
    },
    {
      "cell_type": "code",
      "metadata": {
        "colab": {
          "base_uri": "https://localhost:8080/"
        },
        "id": "yuPHjMoOk1bd",
        "outputId": "d0cef166-5610-4945-a1ae-b9a4d06e356f"
      },
      "source": [
        "# Propiedades importantes de las series\n",
        "print('Tipo de objetos que tiene ', serie.dtype)\n",
        "print('Nombre ', serie.name)\n",
        "print('Index ',serie.index)\n",
        "print('Valores ',serie.values)\n"
      ],
      "execution_count": 60,
      "outputs": [
        {
          "output_type": "stream",
          "text": [
            "Tipo de objetos que tiene  object\n",
            "Nombre  None\n",
            "Index  RangeIndex(start=0, stop=3, step=1)\n",
            "Valores  ['a' 'b' 'c']\n"
          ],
          "name": "stdout"
        }
      ]
    },
    {
      "cell_type": "markdown",
      "metadata": {
        "id": "go86TVQ1k1be"
      },
      "source": [
        "## DataFrames\n",
        "\n",
        "Los DataFrames son \"tablas\", compuestas por varias \"columnas\" o series que comparten todas un mismo índice. En general los DataFrames se crean a partir de leer tablas de archivos (pueden ser en formato json o csv) pero a veces también se crean a partir de listas de diccionarios o de otras maneras. \n",
        "\n",
        "Los DataFrames tienen un objeto Index que describe los nombres de columnas y otro objeto Index que describen los nombres de las filas."
      ]
    },
    {
      "cell_type": "code",
      "metadata": {
        "id": "6WahaeIgk1be"
      },
      "source": [
        "# Leemos un dataset público\n",
        "df = pd.read_csv('http://cdn.buenosaires.gob.ar/datosabiertos/datasets/sueldo-funcionarios/sueldo_funcionarios_2019.csv')"
      ],
      "execution_count": 89,
      "outputs": []
    },
    {
      "cell_type": "code",
      "metadata": {
        "colab": {
          "base_uri": "https://localhost:8080/"
        },
        "id": "UEBcUISqk1bf",
        "outputId": "1abc7942-a5ea-485e-be93-5733ad2bea1b"
      },
      "source": [
        "# Propiedades importantes de los dataframes\n",
        "print('Columnas ', df.columns)\n",
        "print('Index ', df.index)\n",
        "print('Dimensiones ',df.shape)\n"
      ],
      "execution_count": 63,
      "outputs": [
        {
          "output_type": "stream",
          "text": [
            "Columnas  Index(['cuil', 'anio', 'mes', 'funcionario_apellido', 'funcionario_nombre',\n",
            "       'reparticion', 'asignacion_por_cargo_i', 'aguinaldo_ii',\n",
            "       'total_salario_bruto_i_+_ii', 'observaciones'],\n",
            "      dtype='object')\n",
            "Index  RangeIndex(start=0, stop=385, step=1)\n",
            "Dimensiones  (385, 10)\n"
          ],
          "name": "stdout"
        }
      ]
    },
    {
      "cell_type": "code",
      "metadata": {
        "colab": {
          "base_uri": "https://localhost:8080/",
          "height": 281
        },
        "id": "X2tlR6Cpk1bf",
        "outputId": "991db12f-ac47-479a-a60f-5d714a595621"
      },
      "source": [
        "# Consultar las primeras filas\n",
        "df.head()"
      ],
      "execution_count": 64,
      "outputs": [
        {
          "output_type": "execute_result",
          "data": {
            "text/html": [
              "<div>\n",
              "<style scoped>\n",
              "    .dataframe tbody tr th:only-of-type {\n",
              "        vertical-align: middle;\n",
              "    }\n",
              "\n",
              "    .dataframe tbody tr th {\n",
              "        vertical-align: top;\n",
              "    }\n",
              "\n",
              "    .dataframe thead th {\n",
              "        text-align: right;\n",
              "    }\n",
              "</style>\n",
              "<table border=\"1\" class=\"dataframe\">\n",
              "  <thead>\n",
              "    <tr style=\"text-align: right;\">\n",
              "      <th></th>\n",
              "      <th>cuil</th>\n",
              "      <th>anio</th>\n",
              "      <th>mes</th>\n",
              "      <th>funcionario_apellido</th>\n",
              "      <th>funcionario_nombre</th>\n",
              "      <th>reparticion</th>\n",
              "      <th>asignacion_por_cargo_i</th>\n",
              "      <th>aguinaldo_ii</th>\n",
              "      <th>total_salario_bruto_i_+_ii</th>\n",
              "      <th>observaciones</th>\n",
              "    </tr>\n",
              "  </thead>\n",
              "  <tbody>\n",
              "    <tr>\n",
              "      <th>0</th>\n",
              "      <td>20-17692128-6</td>\n",
              "      <td>2019</td>\n",
              "      <td>1</td>\n",
              "      <td>RODRIGUEZ LARRETA</td>\n",
              "      <td>HORACIO ANTONIO</td>\n",
              "      <td>Jefe de Gobierno</td>\n",
              "      <td>197745.80</td>\n",
              "      <td>0.0</td>\n",
              "      <td>197745.80</td>\n",
              "      <td>NaN</td>\n",
              "    </tr>\n",
              "    <tr>\n",
              "      <th>1</th>\n",
              "      <td>20-17735449-0</td>\n",
              "      <td>2019</td>\n",
              "      <td>1</td>\n",
              "      <td>SANTILLI</td>\n",
              "      <td>DIEGO CESAR</td>\n",
              "      <td>Vicejefatura de Gobierno</td>\n",
              "      <td>197745.80</td>\n",
              "      <td>0.0</td>\n",
              "      <td>197745.80</td>\n",
              "      <td>NaN</td>\n",
              "    </tr>\n",
              "    <tr>\n",
              "      <th>2</th>\n",
              "      <td>27-24483014-0</td>\n",
              "      <td>2019</td>\n",
              "      <td>1</td>\n",
              "      <td>ACUÑA</td>\n",
              "      <td>MARIA SOLEDAD</td>\n",
              "      <td>Ministerio de Educación e Innovación</td>\n",
              "      <td>224516.62</td>\n",
              "      <td>0.0</td>\n",
              "      <td>224516.62</td>\n",
              "      <td>NaN</td>\n",
              "    </tr>\n",
              "    <tr>\n",
              "      <th>3</th>\n",
              "      <td>20-13872301-2</td>\n",
              "      <td>2019</td>\n",
              "      <td>1</td>\n",
              "      <td>ASTARLOA</td>\n",
              "      <td>GABRIEL MARIA</td>\n",
              "      <td>Procuración General de la Ciudad de Buenos Aires</td>\n",
              "      <td>224516.62</td>\n",
              "      <td>0.0</td>\n",
              "      <td>224516.62</td>\n",
              "      <td>NaN</td>\n",
              "    </tr>\n",
              "    <tr>\n",
              "      <th>4</th>\n",
              "      <td>20-25641207-2</td>\n",
              "      <td>2019</td>\n",
              "      <td>1</td>\n",
              "      <td>AVOGADRO</td>\n",
              "      <td>ENRIQUE LUIS</td>\n",
              "      <td>Ministerio de Cultura</td>\n",
              "      <td>224516.62</td>\n",
              "      <td>0.0</td>\n",
              "      <td>224516.62</td>\n",
              "      <td>NaN</td>\n",
              "    </tr>\n",
              "  </tbody>\n",
              "</table>\n",
              "</div>"
            ],
            "text/plain": [
              "            cuil  anio  ...  total_salario_bruto_i_+_ii observaciones\n",
              "0  20-17692128-6  2019  ...                   197745.80           NaN\n",
              "1  20-17735449-0  2019  ...                   197745.80           NaN\n",
              "2  27-24483014-0  2019  ...                   224516.62           NaN\n",
              "3  20-13872301-2  2019  ...                   224516.62           NaN\n",
              "4  20-25641207-2  2019  ...                   224516.62           NaN\n",
              "\n",
              "[5 rows x 10 columns]"
            ]
          },
          "metadata": {
            "tags": []
          },
          "execution_count": 64
        }
      ]
    },
    {
      "cell_type": "markdown",
      "metadata": {
        "id": "EOHJD-Kpk1bf"
      },
      "source": [
        "Si queremos extraer una serie del DataFrame, podemos hacerlo de la misma forma en que extraemos un valor de un diccionario.\n",
        "\n"
      ]
    },
    {
      "cell_type": "code",
      "metadata": {
        "id": "m__i0a3Bk1bf"
      },
      "source": [
        "serie_mes = df['mes']"
      ],
      "execution_count": 65,
      "outputs": []
    },
    {
      "cell_type": "code",
      "metadata": {
        "colab": {
          "base_uri": "https://localhost:8080/"
        },
        "id": "hOU6-tUhk1bg",
        "outputId": "3d9973b4-b6b6-4339-a663-9d0b39a846e7"
      },
      "source": [
        "type(serie_mes)"
      ],
      "execution_count": 66,
      "outputs": [
        {
          "output_type": "execute_result",
          "data": {
            "text/plain": [
              "pandas.core.series.Series"
            ]
          },
          "metadata": {
            "tags": []
          },
          "execution_count": 66
        }
      ]
    },
    {
      "cell_type": "markdown",
      "metadata": {
        "id": "LGqHizj3k1bg"
      },
      "source": [
        "## Índices\n",
        "\n",
        "Los índices acompañan a las series y a los Data Frames. Son conjuntos ordenados e inmutables de elementos"
      ]
    },
    {
      "cell_type": "code",
      "metadata": {
        "colab": {
          "base_uri": "https://localhost:8080/"
        },
        "id": "KSx4_UQSk1bg",
        "outputId": "344fbb35-d2a7-472d-927d-31b494043afa"
      },
      "source": [
        "df.index"
      ],
      "execution_count": 71,
      "outputs": [
        {
          "output_type": "execute_result",
          "data": {
            "text/plain": [
              "RangeIndex(start=0, stop=385, step=1)"
            ]
          },
          "metadata": {
            "tags": []
          },
          "execution_count": 71
        }
      ]
    },
    {
      "cell_type": "code",
      "metadata": {
        "colab": {
          "base_uri": "https://localhost:8080/"
        },
        "id": "Zx6n4N2Mk1bg",
        "outputId": "e782726a-035e-4e24-e2fb-6e37bcba61eb"
      },
      "source": [
        "df.columns"
      ],
      "execution_count": 72,
      "outputs": [
        {
          "output_type": "execute_result",
          "data": {
            "text/plain": [
              "Index(['cuil', 'anio', 'mes', 'funcionario_apellido', 'funcionario_nombre',\n",
              "       'reparticion', 'asignacion_por_cargo_i', 'aguinaldo_ii',\n",
              "       'total_salario_bruto_i_+_ii', 'observaciones'],\n",
              "      dtype='object')"
            ]
          },
          "metadata": {
            "tags": []
          },
          "execution_count": 72
        }
      ]
    },
    {
      "cell_type": "code",
      "metadata": {
        "colab": {
          "base_uri": "https://localhost:8080/"
        },
        "id": "_qL2F1LJk1bh",
        "outputId": "655c9efc-7885-4ccb-e50b-9b24718ed6f1"
      },
      "source": [
        "ind = pd.Index([2, 3, 5, 7, 11])\n",
        "ind"
      ],
      "execution_count": 73,
      "outputs": [
        {
          "output_type": "execute_result",
          "data": {
            "text/plain": [
              "Int64Index([2, 3, 5, 7, 11], dtype='int64')"
            ]
          },
          "metadata": {
            "tags": []
          },
          "execution_count": 73
        }
      ]
    },
    {
      "cell_type": "code",
      "metadata": {
        "colab": {
          "base_uri": "https://localhost:8080/",
          "height": 292
        },
        "id": "fq8TH-R7k1bh",
        "outputId": "6207c236-f521-45de-9afb-e66d909eea1e"
      },
      "source": [
        "ind[1] = 0"
      ],
      "execution_count": 81,
      "outputs": [
        {
          "output_type": "error",
          "ename": "TypeError",
          "evalue": "ignored",
          "traceback": [
            "\u001b[0;31m---------------------------------------------------------------------------\u001b[0m",
            "\u001b[0;31mTypeError\u001b[0m                                 Traceback (most recent call last)",
            "\u001b[0;32m<ipython-input-81-906a9fa1424c>\u001b[0m in \u001b[0;36m<module>\u001b[0;34m()\u001b[0m\n\u001b[0;32m----> 1\u001b[0;31m \u001b[0mind\u001b[0m\u001b[0;34m[\u001b[0m\u001b[0;36m1\u001b[0m\u001b[0;34m]\u001b[0m \u001b[0;34m=\u001b[0m \u001b[0;36m0\u001b[0m\u001b[0;34m\u001b[0m\u001b[0;34m\u001b[0m\u001b[0m\n\u001b[0m",
            "\u001b[0;32m/usr/local/lib/python3.7/dist-packages/pandas/core/indexes/base.py\u001b[0m in \u001b[0;36m__setitem__\u001b[0;34m(self, key, value)\u001b[0m\n\u001b[1;32m   4082\u001b[0m \u001b[0;34m\u001b[0m\u001b[0m\n\u001b[1;32m   4083\u001b[0m     \u001b[0;32mdef\u001b[0m \u001b[0m__setitem__\u001b[0m\u001b[0;34m(\u001b[0m\u001b[0mself\u001b[0m\u001b[0;34m,\u001b[0m \u001b[0mkey\u001b[0m\u001b[0;34m,\u001b[0m \u001b[0mvalue\u001b[0m\u001b[0;34m)\u001b[0m\u001b[0;34m:\u001b[0m\u001b[0;34m\u001b[0m\u001b[0;34m\u001b[0m\u001b[0m\n\u001b[0;32m-> 4084\u001b[0;31m         \u001b[0;32mraise\u001b[0m \u001b[0mTypeError\u001b[0m\u001b[0;34m(\u001b[0m\u001b[0;34m\"Index does not support mutable operations\"\u001b[0m\u001b[0;34m)\u001b[0m\u001b[0;34m\u001b[0m\u001b[0;34m\u001b[0m\u001b[0m\n\u001b[0m\u001b[1;32m   4085\u001b[0m \u001b[0;34m\u001b[0m\u001b[0m\n\u001b[1;32m   4086\u001b[0m     \u001b[0;32mdef\u001b[0m \u001b[0m__getitem__\u001b[0m\u001b[0;34m(\u001b[0m\u001b[0mself\u001b[0m\u001b[0;34m,\u001b[0m \u001b[0mkey\u001b[0m\u001b[0;34m)\u001b[0m\u001b[0;34m:\u001b[0m\u001b[0;34m\u001b[0m\u001b[0;34m\u001b[0m\u001b[0m\n",
            "\u001b[0;31mTypeError\u001b[0m: Index does not support mutable operations"
          ]
        }
      ]
    },
    {
      "cell_type": "markdown",
      "metadata": {
        "id": "zcZ0sew4k1bh"
      },
      "source": [
        "### Ejercicio\n",
        "Exploren el dataset público que se encuentra en la siguiente url: https://datasets-humai.s3.amazonaws.com/datasets/titanic.csv ¿De qué se trata? ¿Cuántas filas tiene? ¿Cuántas columnas? Al leerlo, pueden almacenarlo en la variable df_titanic. "
      ]
    },
    {
      "cell_type": "code",
      "metadata": {
        "colab": {
          "base_uri": "https://localhost:8080/",
          "height": 197
        },
        "id": "6i8yuIrrk1bi",
        "outputId": "ed393921-7e3a-4905-b428-53eeafabb69b"
      },
      "source": [
        "df_titanic = pd.read_csv('https://datasets-humai.s3.amazonaws.com/datasets/titanic.csv', sep='|')\n",
        "df_titanic.head()"
      ],
      "execution_count": 108,
      "outputs": [
        {
          "output_type": "execute_result",
          "data": {
            "text/html": [
              "<div>\n",
              "<style scoped>\n",
              "    .dataframe tbody tr th:only-of-type {\n",
              "        vertical-align: middle;\n",
              "    }\n",
              "\n",
              "    .dataframe tbody tr th {\n",
              "        vertical-align: top;\n",
              "    }\n",
              "\n",
              "    .dataframe thead th {\n",
              "        text-align: right;\n",
              "    }\n",
              "</style>\n",
              "<table border=\"1\" class=\"dataframe\">\n",
              "  <thead>\n",
              "    <tr style=\"text-align: right;\">\n",
              "      <th></th>\n",
              "      <th>PassengerId</th>\n",
              "      <th>Survived</th>\n",
              "      <th>Pclass</th>\n",
              "      <th>Name</th>\n",
              "      <th>Sex</th>\n",
              "      <th>Age</th>\n",
              "      <th>SibSp</th>\n",
              "      <th>Parch</th>\n",
              "      <th>Ticket</th>\n",
              "      <th>Fare</th>\n",
              "      <th>Cabin</th>\n",
              "      <th>Embarked</th>\n",
              "    </tr>\n",
              "  </thead>\n",
              "  <tbody>\n",
              "    <tr>\n",
              "      <th>0</th>\n",
              "      <td>1</td>\n",
              "      <td>0</td>\n",
              "      <td>3</td>\n",
              "      <td>Braund, Mr. Owen Harris</td>\n",
              "      <td>male</td>\n",
              "      <td>22.0</td>\n",
              "      <td>1</td>\n",
              "      <td>0</td>\n",
              "      <td>A/5 21171</td>\n",
              "      <td>7.2500</td>\n",
              "      <td>NaN</td>\n",
              "      <td>S</td>\n",
              "    </tr>\n",
              "    <tr>\n",
              "      <th>1</th>\n",
              "      <td>2</td>\n",
              "      <td>1</td>\n",
              "      <td>1</td>\n",
              "      <td>Cumings, Mrs. John Bradley (Florence Briggs Th...</td>\n",
              "      <td>female</td>\n",
              "      <td>38.0</td>\n",
              "      <td>1</td>\n",
              "      <td>0</td>\n",
              "      <td>PC 17599</td>\n",
              "      <td>71.2833</td>\n",
              "      <td>C85</td>\n",
              "      <td>C</td>\n",
              "    </tr>\n",
              "    <tr>\n",
              "      <th>2</th>\n",
              "      <td>3</td>\n",
              "      <td>1</td>\n",
              "      <td>3</td>\n",
              "      <td>Heikkinen, Miss. Laina</td>\n",
              "      <td>female</td>\n",
              "      <td>26.0</td>\n",
              "      <td>0</td>\n",
              "      <td>0</td>\n",
              "      <td>STON/O2. 3101282</td>\n",
              "      <td>7.9250</td>\n",
              "      <td>NaN</td>\n",
              "      <td>S</td>\n",
              "    </tr>\n",
              "    <tr>\n",
              "      <th>3</th>\n",
              "      <td>4</td>\n",
              "      <td>1</td>\n",
              "      <td>1</td>\n",
              "      <td>Futrelle, Mrs. Jacques Heath (Lily May Peel)</td>\n",
              "      <td>female</td>\n",
              "      <td>35.0</td>\n",
              "      <td>1</td>\n",
              "      <td>0</td>\n",
              "      <td>113803</td>\n",
              "      <td>53.1000</td>\n",
              "      <td>C123</td>\n",
              "      <td>S</td>\n",
              "    </tr>\n",
              "    <tr>\n",
              "      <th>4</th>\n",
              "      <td>5</td>\n",
              "      <td>0</td>\n",
              "      <td>3</td>\n",
              "      <td>Allen, Mr. William Henry</td>\n",
              "      <td>male</td>\n",
              "      <td>35.0</td>\n",
              "      <td>0</td>\n",
              "      <td>0</td>\n",
              "      <td>373450</td>\n",
              "      <td>8.0500</td>\n",
              "      <td>NaN</td>\n",
              "      <td>S</td>\n",
              "    </tr>\n",
              "  </tbody>\n",
              "</table>\n",
              "</div>"
            ],
            "text/plain": [
              "   PassengerId  Survived  Pclass  ...     Fare Cabin  Embarked\n",
              "0            1         0       3  ...   7.2500   NaN         S\n",
              "1            2         1       1  ...  71.2833   C85         C\n",
              "2            3         1       3  ...   7.9250   NaN         S\n",
              "3            4         1       1  ...  53.1000  C123         S\n",
              "4            5         0       3  ...   8.0500   NaN         S\n",
              "\n",
              "[5 rows x 12 columns]"
            ]
          },
          "metadata": {
            "tags": []
          },
          "execution_count": 108
        }
      ]
    },
    {
      "cell_type": "code",
      "metadata": {
        "colab": {
          "base_uri": "https://localhost:8080/"
        },
        "id": "_WXj6dzzk1bi",
        "outputId": "e27a7945-09e1-4561-8f8f-c96f5d10c008"
      },
      "source": [
        "filas = df_titanic.shape[0]\n",
        "filas"
      ],
      "execution_count": 111,
      "outputs": [
        {
          "output_type": "execute_result",
          "data": {
            "text/plain": [
              "891"
            ]
          },
          "metadata": {
            "tags": []
          },
          "execution_count": 111
        }
      ]
    },
    {
      "cell_type": "code",
      "metadata": {
        "colab": {
          "base_uri": "https://localhost:8080/"
        },
        "id": "EZ90BY7Tk1bi",
        "outputId": "1b6f8384-a6fa-49cd-9508-445f60bacd02"
      },
      "source": [
        "columnas = df_titanic.shape[1]\n",
        "columnas"
      ],
      "execution_count": 112,
      "outputs": [
        {
          "output_type": "execute_result",
          "data": {
            "text/plain": [
              "12"
            ]
          },
          "metadata": {
            "tags": []
          },
          "execution_count": 112
        }
      ]
    },
    {
      "cell_type": "markdown",
      "metadata": {
        "id": "U0--0TLKk1bi"
      },
      "source": [
        "## Filtrando un DataFrame (Indexing)\n",
        "\n",
        "Hay muchas técnicas para filtrar un DataFrame. Podemos querer filtrar por columnas o por filas, por posición o por nombre. También podemos querer filtrar por condiciones que se cumplen o no. Cuando no queremos filtrar sobre una dimensión (filas o columnas) usamos \":\" para seleccionar todo.\n",
        "\n",
        "\n",
        "<img src='https://github.com/institutohumai/cursos-python/blob/master/AnalisisDeDatos/1_Indexing/img/indexing.png?raw=1' style='height:350px' />\n",
        "\n"
      ]
    },
    {
      "cell_type": "markdown",
      "metadata": {
        "id": "w9Tyk17Pk1bj"
      },
      "source": [
        "### Boolean Indexing\n",
        "\n",
        "Supongamos que queremos tomar el dataset de funcionarios y quedarnos únicamente con los que pertenecen al Ministerio de Cultura.\n",
        "Para eso lo que hacemos es indexar al DataFrame por una condición booleana. Eso implica que debemos crear una serie compuesta por valores True y False para aplicarla como índice a las filas.\n",
        "\n",
        "Los operadores que sirven para evaluar condiciones sobre las series son:\n",
        "\n",
        "\n",
        "| S  | Descripción   | S  | Descripción   |   |\n",
        "|----|---------------|----|---------------|---|\n",
        "| >= | Mayor o Igual | <= | Menor o Igual |   |\n",
        "| == | Igual         | != | Distinto      |   |\n",
        "| >  | Mayor         | <  | Menor         |   |"
      ]
    },
    {
      "cell_type": "markdown",
      "metadata": {
        "id": "EmHJakhck1bj"
      },
      "source": [
        "#### Máscara booleana\n",
        "\n",
        "Veamos lo que pasa cuando le aplicamos a una serie una condición que devuelve un booleano"
      ]
    },
    {
      "cell_type": "code",
      "metadata": {
        "colab": {
          "base_uri": "https://localhost:8080/"
        },
        "id": "tUoPSs7Ek1bj",
        "outputId": "c4781a0f-cc56-4346-a43f-0271c5a425bd"
      },
      "source": [
        "df['anio'] != 2019"
      ],
      "execution_count": 113,
      "outputs": [
        {
          "output_type": "execute_result",
          "data": {
            "text/plain": [
              "0      False\n",
              "1      False\n",
              "2      False\n",
              "3      False\n",
              "4      False\n",
              "       ...  \n",
              "380    False\n",
              "381    False\n",
              "382    False\n",
              "383    False\n",
              "384    False\n",
              "Name: anio, Length: 385, dtype: bool"
            ]
          },
          "metadata": {
            "tags": []
          },
          "execution_count": 113
        }
      ]
    },
    {
      "cell_type": "code",
      "metadata": {
        "id": "UVsTxkXzk1bk"
      },
      "source": [
        "mascara_booleana = df['anio'] != 2019"
      ],
      "execution_count": 114,
      "outputs": []
    },
    {
      "cell_type": "markdown",
      "metadata": {
        "id": "48-ljqPOk1bk"
      },
      "source": [
        "Nos devuelve una serie de la misma longitud que la original y que contiene sólo valores True o False. "
      ]
    },
    {
      "cell_type": "code",
      "metadata": {
        "colab": {
          "base_uri": "https://localhost:8080/"
        },
        "id": "mpKLn0Eik1bk",
        "outputId": "e7343704-75f9-486e-8fda-a97c99489ca8"
      },
      "source": [
        "type(mascara_booleana)"
      ],
      "execution_count": 115,
      "outputs": [
        {
          "output_type": "execute_result",
          "data": {
            "text/plain": [
              "pandas.core.series.Series"
            ]
          },
          "metadata": {
            "tags": []
          },
          "execution_count": 115
        }
      ]
    },
    {
      "cell_type": "code",
      "metadata": {
        "colab": {
          "base_uri": "https://localhost:8080/"
        },
        "id": "k_TrQaQHk1bk",
        "outputId": "09714c8c-cab6-4850-8347-b15009b020ba"
      },
      "source": [
        "mascara_booleana.shape"
      ],
      "execution_count": 116,
      "outputs": [
        {
          "output_type": "execute_result",
          "data": {
            "text/plain": [
              "(385,)"
            ]
          },
          "metadata": {
            "tags": []
          },
          "execution_count": 116
        }
      ]
    },
    {
      "cell_type": "code",
      "metadata": {
        "colab": {
          "base_uri": "https://localhost:8080/"
        },
        "id": "OqkSJ7qEk1bl",
        "outputId": "b2f700ea-5d6c-4a2c-ce8f-441f56973261"
      },
      "source": [
        "mascara_booleana.dtype"
      ],
      "execution_count": 117,
      "outputs": [
        {
          "output_type": "execute_result",
          "data": {
            "text/plain": [
              "dtype('bool')"
            ]
          },
          "metadata": {
            "tags": []
          },
          "execution_count": 117
        }
      ]
    },
    {
      "cell_type": "markdown",
      "metadata": {
        "id": "zmo-TwqYk1bl"
      },
      "source": [
        "Ahora seleccionemos entonces, los registros que corresponden al Ministerio de Cultura."
      ]
    },
    {
      "cell_type": "code",
      "metadata": {
        "colab": {
          "base_uri": "https://localhost:8080/",
          "height": 391
        },
        "id": "o8xrvdjFk1bl",
        "outputId": "1e937ea8-f558-4932-86de-d8c0ca9d8172"
      },
      "source": [
        "df_min_cul = df.loc[df['reparticion'] == 'Ministerio de Cultura',:]\n",
        "df_min_cul.head()"
      ],
      "execution_count": 118,
      "outputs": [
        {
          "output_type": "execute_result",
          "data": {
            "text/html": [
              "<div>\n",
              "<style scoped>\n",
              "    .dataframe tbody tr th:only-of-type {\n",
              "        vertical-align: middle;\n",
              "    }\n",
              "\n",
              "    .dataframe tbody tr th {\n",
              "        vertical-align: top;\n",
              "    }\n",
              "\n",
              "    .dataframe thead th {\n",
              "        text-align: right;\n",
              "    }\n",
              "</style>\n",
              "<table border=\"1\" class=\"dataframe\">\n",
              "  <thead>\n",
              "    <tr style=\"text-align: right;\">\n",
              "      <th></th>\n",
              "      <th>cuil</th>\n",
              "      <th>anio</th>\n",
              "      <th>mes</th>\n",
              "      <th>funcionario_apellido</th>\n",
              "      <th>funcionario_nombre</th>\n",
              "      <th>reparticion</th>\n",
              "      <th>asignacion_por_cargo_i</th>\n",
              "      <th>aguinaldo_ii</th>\n",
              "      <th>total_salario_bruto_i_+_ii</th>\n",
              "      <th>observaciones</th>\n",
              "    </tr>\n",
              "  </thead>\n",
              "  <tbody>\n",
              "    <tr>\n",
              "      <th>4</th>\n",
              "      <td>20-25641207-2</td>\n",
              "      <td>2019</td>\n",
              "      <td>1</td>\n",
              "      <td>AVOGADRO</td>\n",
              "      <td>ENRIQUE LUIS</td>\n",
              "      <td>Ministerio de Cultura</td>\n",
              "      <td>224516.62</td>\n",
              "      <td>0.0</td>\n",
              "      <td>224516.62</td>\n",
              "      <td>NaN</td>\n",
              "    </tr>\n",
              "    <tr>\n",
              "      <th>36</th>\n",
              "      <td>20-25641207-2</td>\n",
              "      <td>2019</td>\n",
              "      <td>2</td>\n",
              "      <td>AVOGADRO</td>\n",
              "      <td>ENRIQUE LUIS</td>\n",
              "      <td>Ministerio de Cultura</td>\n",
              "      <td>224516.62</td>\n",
              "      <td>0.0</td>\n",
              "      <td>224516.62</td>\n",
              "      <td>NaN</td>\n",
              "    </tr>\n",
              "    <tr>\n",
              "      <th>68</th>\n",
              "      <td>20-25641207-2</td>\n",
              "      <td>2019</td>\n",
              "      <td>3</td>\n",
              "      <td>AVOGADRO</td>\n",
              "      <td>ENRIQUE LUIS</td>\n",
              "      <td>Ministerio de Cultura</td>\n",
              "      <td>231167.76</td>\n",
              "      <td>0.0</td>\n",
              "      <td>231167.76</td>\n",
              "      <td>NaN</td>\n",
              "    </tr>\n",
              "    <tr>\n",
              "      <th>99</th>\n",
              "      <td>20-25641207-2</td>\n",
              "      <td>2019</td>\n",
              "      <td>4</td>\n",
              "      <td>AVOGADRO</td>\n",
              "      <td>ENRIQUE LUIS</td>\n",
              "      <td>Ministerio de Cultura</td>\n",
              "      <td>249661.60</td>\n",
              "      <td>0.0</td>\n",
              "      <td>249661.60</td>\n",
              "      <td>NaN</td>\n",
              "    </tr>\n",
              "    <tr>\n",
              "      <th>130</th>\n",
              "      <td>20-25641207-2</td>\n",
              "      <td>2019</td>\n",
              "      <td>5</td>\n",
              "      <td>AVOGADRO</td>\n",
              "      <td>ENRIQUE LUIS</td>\n",
              "      <td>Ministerio de Cultura</td>\n",
              "      <td>249661.60</td>\n",
              "      <td>0.0</td>\n",
              "      <td>249661.60</td>\n",
              "      <td>NaN</td>\n",
              "    </tr>\n",
              "  </tbody>\n",
              "</table>\n",
              "</div>"
            ],
            "text/plain": [
              "              cuil  anio  ...  total_salario_bruto_i_+_ii observaciones\n",
              "4    20-25641207-2  2019  ...                   224516.62           NaN\n",
              "36   20-25641207-2  2019  ...                   224516.62           NaN\n",
              "68   20-25641207-2  2019  ...                   231167.76           NaN\n",
              "99   20-25641207-2  2019  ...                   249661.60           NaN\n",
              "130  20-25641207-2  2019  ...                   249661.60           NaN\n",
              "\n",
              "[5 rows x 10 columns]"
            ]
          },
          "metadata": {
            "tags": []
          },
          "execution_count": 118
        }
      ]
    },
    {
      "cell_type": "code",
      "metadata": {
        "colab": {
          "base_uri": "https://localhost:8080/"
        },
        "id": "VKi077HEk1bl",
        "outputId": "5c7df610-af79-461f-e983-61556e54e85b"
      },
      "source": [
        "# Veamos la cantidad de casos\n",
        "df_min_cul.shape"
      ],
      "execution_count": 119,
      "outputs": [
        {
          "output_type": "execute_result",
          "data": {
            "text/plain": [
              "(12, 10)"
            ]
          },
          "metadata": {
            "tags": []
          },
          "execution_count": 119
        }
      ]
    },
    {
      "cell_type": "markdown",
      "metadata": {
        "id": "n_sV1C2Nk1bm"
      },
      "source": [
        "Algo que puede llegar a confundir sobre el Indexing en Pandas es que en algunos casos se puede ser menos explícito a la hora de filtrar. Por ejemplo si ponemos una condición Booleana, pandas asume que el tipo de indexing es loc y que el filtro es sobre las filas y no sobre las columnas:\n"
      ]
    },
    {
      "cell_type": "code",
      "metadata": {
        "colab": {
          "base_uri": "https://localhost:8080/",
          "height": 391
        },
        "id": "GcSSqzEak1bm",
        "outputId": "e47d3c49-e46d-40fb-beab-f8f78fef427c"
      },
      "source": [
        "df_min_cul = df[df['reparticion'] == 'Ministerio de Cultura']\n",
        "df_min_cul.head()"
      ],
      "execution_count": 121,
      "outputs": [
        {
          "output_type": "execute_result",
          "data": {
            "text/html": [
              "<div>\n",
              "<style scoped>\n",
              "    .dataframe tbody tr th:only-of-type {\n",
              "        vertical-align: middle;\n",
              "    }\n",
              "\n",
              "    .dataframe tbody tr th {\n",
              "        vertical-align: top;\n",
              "    }\n",
              "\n",
              "    .dataframe thead th {\n",
              "        text-align: right;\n",
              "    }\n",
              "</style>\n",
              "<table border=\"1\" class=\"dataframe\">\n",
              "  <thead>\n",
              "    <tr style=\"text-align: right;\">\n",
              "      <th></th>\n",
              "      <th>cuil</th>\n",
              "      <th>anio</th>\n",
              "      <th>mes</th>\n",
              "      <th>funcionario_apellido</th>\n",
              "      <th>funcionario_nombre</th>\n",
              "      <th>reparticion</th>\n",
              "      <th>asignacion_por_cargo_i</th>\n",
              "      <th>aguinaldo_ii</th>\n",
              "      <th>total_salario_bruto_i_+_ii</th>\n",
              "      <th>observaciones</th>\n",
              "    </tr>\n",
              "  </thead>\n",
              "  <tbody>\n",
              "    <tr>\n",
              "      <th>4</th>\n",
              "      <td>20-25641207-2</td>\n",
              "      <td>2019</td>\n",
              "      <td>1</td>\n",
              "      <td>AVOGADRO</td>\n",
              "      <td>ENRIQUE LUIS</td>\n",
              "      <td>Ministerio de Cultura</td>\n",
              "      <td>224516.62</td>\n",
              "      <td>0.0</td>\n",
              "      <td>224516.62</td>\n",
              "      <td>NaN</td>\n",
              "    </tr>\n",
              "    <tr>\n",
              "      <th>36</th>\n",
              "      <td>20-25641207-2</td>\n",
              "      <td>2019</td>\n",
              "      <td>2</td>\n",
              "      <td>AVOGADRO</td>\n",
              "      <td>ENRIQUE LUIS</td>\n",
              "      <td>Ministerio de Cultura</td>\n",
              "      <td>224516.62</td>\n",
              "      <td>0.0</td>\n",
              "      <td>224516.62</td>\n",
              "      <td>NaN</td>\n",
              "    </tr>\n",
              "    <tr>\n",
              "      <th>68</th>\n",
              "      <td>20-25641207-2</td>\n",
              "      <td>2019</td>\n",
              "      <td>3</td>\n",
              "      <td>AVOGADRO</td>\n",
              "      <td>ENRIQUE LUIS</td>\n",
              "      <td>Ministerio de Cultura</td>\n",
              "      <td>231167.76</td>\n",
              "      <td>0.0</td>\n",
              "      <td>231167.76</td>\n",
              "      <td>NaN</td>\n",
              "    </tr>\n",
              "    <tr>\n",
              "      <th>99</th>\n",
              "      <td>20-25641207-2</td>\n",
              "      <td>2019</td>\n",
              "      <td>4</td>\n",
              "      <td>AVOGADRO</td>\n",
              "      <td>ENRIQUE LUIS</td>\n",
              "      <td>Ministerio de Cultura</td>\n",
              "      <td>249661.60</td>\n",
              "      <td>0.0</td>\n",
              "      <td>249661.60</td>\n",
              "      <td>NaN</td>\n",
              "    </tr>\n",
              "    <tr>\n",
              "      <th>130</th>\n",
              "      <td>20-25641207-2</td>\n",
              "      <td>2019</td>\n",
              "      <td>5</td>\n",
              "      <td>AVOGADRO</td>\n",
              "      <td>ENRIQUE LUIS</td>\n",
              "      <td>Ministerio de Cultura</td>\n",
              "      <td>249661.60</td>\n",
              "      <td>0.0</td>\n",
              "      <td>249661.60</td>\n",
              "      <td>NaN</td>\n",
              "    </tr>\n",
              "  </tbody>\n",
              "</table>\n",
              "</div>"
            ],
            "text/plain": [
              "              cuil  anio  ...  total_salario_bruto_i_+_ii observaciones\n",
              "4    20-25641207-2  2019  ...                   224516.62           NaN\n",
              "36   20-25641207-2  2019  ...                   224516.62           NaN\n",
              "68   20-25641207-2  2019  ...                   231167.76           NaN\n",
              "99   20-25641207-2  2019  ...                   249661.60           NaN\n",
              "130  20-25641207-2  2019  ...                   249661.60           NaN\n",
              "\n",
              "[5 rows x 10 columns]"
            ]
          },
          "metadata": {
            "tags": []
          },
          "execution_count": 121
        }
      ]
    },
    {
      "cell_type": "code",
      "metadata": {
        "colab": {
          "base_uri": "https://localhost:8080/"
        },
        "id": "cR8CgEPyk1bm",
        "outputId": "50e57d95-3f7f-4985-b5a8-0e8c3f177f95"
      },
      "source": [
        "df_min_cul.shape"
      ],
      "execution_count": 106,
      "outputs": [
        {
          "output_type": "execute_result",
          "data": {
            "text/plain": [
              "(12, 10)"
            ]
          },
          "metadata": {
            "tags": []
          },
          "execution_count": 106
        }
      ]
    },
    {
      "cell_type": "markdown",
      "metadata": {
        "id": "JulRdlk0k1bm"
      },
      "source": [
        "Probemos con otra condición.\n",
        "\n",
        "### Ejercicio\n",
        "\n",
        "Traer todos los sueldos de la segunda mitad del año..."
      ]
    },
    {
      "cell_type": "code",
      "metadata": {
        "colab": {
          "base_uri": "https://localhost:8080/",
          "height": 825
        },
        "id": "QqrQ9y0yk1bm",
        "outputId": "8426e744-7ead-4187-fd6b-46e74fad581b"
      },
      "source": [
        "#df_segunda_mitad = df.loc[df['mes']>6, :]\n",
        "df_segunda_mitad = df[df['mes']>6]\n",
        "df_segunda_mitad"
      ],
      "execution_count": 128,
      "outputs": [
        {
          "output_type": "execute_result",
          "data": {
            "text/html": [
              "<div>\n",
              "<style scoped>\n",
              "    .dataframe tbody tr th:only-of-type {\n",
              "        vertical-align: middle;\n",
              "    }\n",
              "\n",
              "    .dataframe tbody tr th {\n",
              "        vertical-align: top;\n",
              "    }\n",
              "\n",
              "    .dataframe thead th {\n",
              "        text-align: right;\n",
              "    }\n",
              "</style>\n",
              "<table border=\"1\" class=\"dataframe\">\n",
              "  <thead>\n",
              "    <tr style=\"text-align: right;\">\n",
              "      <th></th>\n",
              "      <th>cuil</th>\n",
              "      <th>anio</th>\n",
              "      <th>mes</th>\n",
              "      <th>funcionario_apellido</th>\n",
              "      <th>funcionario_nombre</th>\n",
              "      <th>reparticion</th>\n",
              "      <th>asignacion_por_cargo_i</th>\n",
              "      <th>aguinaldo_ii</th>\n",
              "      <th>total_salario_bruto_i_+_ii</th>\n",
              "      <th>observaciones</th>\n",
              "    </tr>\n",
              "  </thead>\n",
              "  <tbody>\n",
              "    <tr>\n",
              "      <th>188</th>\n",
              "      <td>20-17692128-6</td>\n",
              "      <td>2019</td>\n",
              "      <td>7</td>\n",
              "      <td>RODRIGUEZ LARRETA</td>\n",
              "      <td>HORACIO ANTONIO</td>\n",
              "      <td>Jefe de Gobierno</td>\n",
              "      <td>228396.40</td>\n",
              "      <td>0.00</td>\n",
              "      <td>228396.40</td>\n",
              "      <td>NaN</td>\n",
              "    </tr>\n",
              "    <tr>\n",
              "      <th>189</th>\n",
              "      <td>20-17735449-0</td>\n",
              "      <td>2019</td>\n",
              "      <td>7</td>\n",
              "      <td>SANTILLI</td>\n",
              "      <td>DIEGO CESAR</td>\n",
              "      <td>Vicejefatura de Gobierno</td>\n",
              "      <td>228396.40</td>\n",
              "      <td>0.00</td>\n",
              "      <td>228396.40</td>\n",
              "      <td>NaN</td>\n",
              "    </tr>\n",
              "    <tr>\n",
              "      <th>190</th>\n",
              "      <td>27-24483014-0</td>\n",
              "      <td>2019</td>\n",
              "      <td>7</td>\n",
              "      <td>ACUÑA</td>\n",
              "      <td>MARIA SOLEDAD</td>\n",
              "      <td>Ministerio de Educación e Innovación</td>\n",
              "      <td>263531.98</td>\n",
              "      <td>0.00</td>\n",
              "      <td>263531.98</td>\n",
              "      <td>NaN</td>\n",
              "    </tr>\n",
              "    <tr>\n",
              "      <th>191</th>\n",
              "      <td>20-13872301-2</td>\n",
              "      <td>2019</td>\n",
              "      <td>7</td>\n",
              "      <td>ASTARLOA</td>\n",
              "      <td>GABRIEL MARIA</td>\n",
              "      <td>Procuración General de la Ciudad de Buenos Aires</td>\n",
              "      <td>263531.98</td>\n",
              "      <td>0.00</td>\n",
              "      <td>263531.98</td>\n",
              "      <td>NaN</td>\n",
              "    </tr>\n",
              "    <tr>\n",
              "      <th>192</th>\n",
              "      <td>20-25641207-2</td>\n",
              "      <td>2019</td>\n",
              "      <td>7</td>\n",
              "      <td>AVOGADRO</td>\n",
              "      <td>ENRIQUE LUIS</td>\n",
              "      <td>Ministerio de Cultura</td>\n",
              "      <td>263531.98</td>\n",
              "      <td>0.00</td>\n",
              "      <td>263531.98</td>\n",
              "      <td>NaN</td>\n",
              "    </tr>\n",
              "    <tr>\n",
              "      <th>...</th>\n",
              "      <td>...</td>\n",
              "      <td>...</td>\n",
              "      <td>...</td>\n",
              "      <td>...</td>\n",
              "      <td>...</td>\n",
              "      <td>...</td>\n",
              "      <td>...</td>\n",
              "      <td>...</td>\n",
              "      <td>...</td>\n",
              "      <td>...</td>\n",
              "    </tr>\n",
              "    <tr>\n",
              "      <th>380</th>\n",
              "      <td>20-26735689-1</td>\n",
              "      <td>2019</td>\n",
              "      <td>12</td>\n",
              "      <td>MENDEZ</td>\n",
              "      <td>JUAN JOSE</td>\n",
              "      <td>SECR Transporte y Obras Públicas</td>\n",
              "      <td>249972.86</td>\n",
              "      <td>124986.43</td>\n",
              "      <td>374959.29</td>\n",
              "      <td>NaN</td>\n",
              "    </tr>\n",
              "    <tr>\n",
              "      <th>381</th>\n",
              "      <td>20-23864572-8</td>\n",
              "      <td>2019</td>\n",
              "      <td>12</td>\n",
              "      <td>STRAFACE</td>\n",
              "      <td>FERNANDO DIEGO</td>\n",
              "      <td>SECR General y Relaciones Internacionales</td>\n",
              "      <td>275089.75</td>\n",
              "      <td>137544.87</td>\n",
              "      <td>412634.62</td>\n",
              "      <td>NaN</td>\n",
              "    </tr>\n",
              "    <tr>\n",
              "      <th>382</th>\n",
              "      <td>20-21981279-6</td>\n",
              "      <td>2019</td>\n",
              "      <td>12</td>\n",
              "      <td>SCRENCI SILVA</td>\n",
              "      <td>BRUNO GUIDO</td>\n",
              "      <td>Ministerio de Gobierno</td>\n",
              "      <td>275089.75</td>\n",
              "      <td>137544.87</td>\n",
              "      <td>412634.62</td>\n",
              "      <td>NaN</td>\n",
              "    </tr>\n",
              "    <tr>\n",
              "      <th>383</th>\n",
              "      <td>20-30593774-7</td>\n",
              "      <td>2019</td>\n",
              "      <td>12</td>\n",
              "      <td>AVELLANEDA</td>\n",
              "      <td>PATRICIO IGNACIO</td>\n",
              "      <td>SECR Planificación, Evaluación y Coordinación ...</td>\n",
              "      <td>249972.86</td>\n",
              "      <td>124986.43</td>\n",
              "      <td>374959.29</td>\n",
              "      <td>NaN</td>\n",
              "    </tr>\n",
              "    <tr>\n",
              "      <th>384</th>\n",
              "      <td>27-27011181-0</td>\n",
              "      <td>2019</td>\n",
              "      <td>12</td>\n",
              "      <td>FERNANDEZ</td>\n",
              "      <td>KARINA BEATRIZ</td>\n",
              "      <td>SECR Asuntos Estratégicos</td>\n",
              "      <td>187539.45</td>\n",
              "      <td>15628.29</td>\n",
              "      <td>203167.74</td>\n",
              "      <td>alta desde el 10/12</td>\n",
              "    </tr>\n",
              "  </tbody>\n",
              "</table>\n",
              "<p>197 rows × 10 columns</p>\n",
              "</div>"
            ],
            "text/plain": [
              "              cuil  anio  ...  total_salario_bruto_i_+_ii        observaciones\n",
              "188  20-17692128-6  2019  ...                   228396.40                  NaN\n",
              "189  20-17735449-0  2019  ...                   228396.40                  NaN\n",
              "190  27-24483014-0  2019  ...                   263531.98                  NaN\n",
              "191  20-13872301-2  2019  ...                   263531.98                  NaN\n",
              "192  20-25641207-2  2019  ...                   263531.98                  NaN\n",
              "..             ...   ...  ...                         ...                  ...\n",
              "380  20-26735689-1  2019  ...                   374959.29                  NaN\n",
              "381  20-23864572-8  2019  ...                   412634.62                  NaN\n",
              "382  20-21981279-6  2019  ...                   412634.62                  NaN\n",
              "383  20-30593774-7  2019  ...                   374959.29                  NaN\n",
              "384  27-27011181-0  2019  ...                   203167.74  alta desde el 10/12\n",
              "\n",
              "[197 rows x 10 columns]"
            ]
          },
          "metadata": {
            "tags": []
          },
          "execution_count": 128
        }
      ]
    },
    {
      "cell_type": "markdown",
      "metadata": {
        "id": "A3NDHuc9k1bn"
      },
      "source": [
        "### Ejercicio\n",
        "Volviendo al DataFrame del Titanic ¿Cuántos pasajeros sobrevivieron y cuántos no? ¿Cuántos pagaron una tarifa menor a 25?"
      ]
    },
    {
      "cell_type": "code",
      "metadata": {
        "colab": {
          "base_uri": "https://localhost:8080/",
          "height": 108
        },
        "id": "xR03kO99k1bn",
        "outputId": "a743e22b-26e4-45ad-8f75-c59e9cf58d90"
      },
      "source": [
        "df_titanic_sobrevivieron = df_titanic.loc[df_titanic['Survived'] == 1]\n",
        "df_titanic_no_sobrevivieron = df_titanic.loc[df_titanic['Survived'] == 0]\n",
        "#df_titanic.columns\n",
        "df_titanic.head(2)"
      ],
      "execution_count": 143,
      "outputs": [
        {
          "output_type": "execute_result",
          "data": {
            "text/html": [
              "<div>\n",
              "<style scoped>\n",
              "    .dataframe tbody tr th:only-of-type {\n",
              "        vertical-align: middle;\n",
              "    }\n",
              "\n",
              "    .dataframe tbody tr th {\n",
              "        vertical-align: top;\n",
              "    }\n",
              "\n",
              "    .dataframe thead th {\n",
              "        text-align: right;\n",
              "    }\n",
              "</style>\n",
              "<table border=\"1\" class=\"dataframe\">\n",
              "  <thead>\n",
              "    <tr style=\"text-align: right;\">\n",
              "      <th></th>\n",
              "      <th>PassengerId</th>\n",
              "      <th>Survived</th>\n",
              "      <th>Pclass</th>\n",
              "      <th>Name</th>\n",
              "      <th>Sex</th>\n",
              "      <th>Age</th>\n",
              "      <th>SibSp</th>\n",
              "      <th>Parch</th>\n",
              "      <th>Ticket</th>\n",
              "      <th>Fare</th>\n",
              "      <th>Cabin</th>\n",
              "      <th>Embarked</th>\n",
              "    </tr>\n",
              "  </thead>\n",
              "  <tbody>\n",
              "    <tr>\n",
              "      <th>0</th>\n",
              "      <td>1</td>\n",
              "      <td>0</td>\n",
              "      <td>3</td>\n",
              "      <td>Braund, Mr. Owen Harris</td>\n",
              "      <td>male</td>\n",
              "      <td>22.0</td>\n",
              "      <td>1</td>\n",
              "      <td>0</td>\n",
              "      <td>A/5 21171</td>\n",
              "      <td>7.2500</td>\n",
              "      <td>NaN</td>\n",
              "      <td>S</td>\n",
              "    </tr>\n",
              "    <tr>\n",
              "      <th>1</th>\n",
              "      <td>2</td>\n",
              "      <td>1</td>\n",
              "      <td>1</td>\n",
              "      <td>Cumings, Mrs. John Bradley (Florence Briggs Th...</td>\n",
              "      <td>female</td>\n",
              "      <td>38.0</td>\n",
              "      <td>1</td>\n",
              "      <td>0</td>\n",
              "      <td>PC 17599</td>\n",
              "      <td>71.2833</td>\n",
              "      <td>C85</td>\n",
              "      <td>C</td>\n",
              "    </tr>\n",
              "  </tbody>\n",
              "</table>\n",
              "</div>"
            ],
            "text/plain": [
              "   PassengerId  Survived  Pclass  ...     Fare Cabin  Embarked\n",
              "0            1         0       3  ...   7.2500   NaN         S\n",
              "1            2         1       1  ...  71.2833   C85         C\n",
              "\n",
              "[2 rows x 12 columns]"
            ]
          },
          "metadata": {
            "tags": []
          },
          "execution_count": 143
        }
      ]
    },
    {
      "cell_type": "code",
      "metadata": {
        "colab": {
          "base_uri": "https://localhost:8080/"
        },
        "id": "f0LPToZCk1bn",
        "outputId": "5a3f0f73-7e35-4025-8412-a4a747f51b22"
      },
      "source": [
        "print('sobrevivieron',df_titanic_sobrevivieron.shape[0],'personas')\n",
        "print('murieron',df_titanic_no_sobrevivieron.shape[0],'personas')"
      ],
      "execution_count": 140,
      "outputs": [
        {
          "output_type": "stream",
          "text": [
            "sobrevivieron 342 personas\n",
            "murieron 549 personas\n"
          ],
          "name": "stdout"
        }
      ]
    },
    {
      "cell_type": "code",
      "metadata": {
        "colab": {
          "base_uri": "https://localhost:8080/"
        },
        "id": "1cex9N9Xk1bn",
        "outputId": "d2fda4a9-b21f-4753-ed70-66e45b55f2a8"
      },
      "source": [
        "df_titanic['Survived'].value_counts()"
      ],
      "execution_count": 145,
      "outputs": [
        {
          "output_type": "execute_result",
          "data": {
            "text/plain": [
              "0    549\n",
              "1    342\n",
              "Name: Survived, dtype: int64"
            ]
          },
          "metadata": {
            "tags": []
          },
          "execution_count": 145
        }
      ]
    },
    {
      "cell_type": "code",
      "metadata": {
        "colab": {
          "base_uri": "https://localhost:8080/",
          "height": 407
        },
        "id": "iFsZgGlfk1bn",
        "outputId": "5e3a5b37-8fb4-4097-eae4-9960fd2c820b"
      },
      "source": [
        "df_titanic_baja_tarifa = df_titanic.loc[df_titanic['Fare']<25]\n",
        "df_titanic_baja_tarifa"
      ],
      "execution_count": 148,
      "outputs": [
        {
          "output_type": "execute_result",
          "data": {
            "text/html": [
              "<div>\n",
              "<style scoped>\n",
              "    .dataframe tbody tr th:only-of-type {\n",
              "        vertical-align: middle;\n",
              "    }\n",
              "\n",
              "    .dataframe tbody tr th {\n",
              "        vertical-align: top;\n",
              "    }\n",
              "\n",
              "    .dataframe thead th {\n",
              "        text-align: right;\n",
              "    }\n",
              "</style>\n",
              "<table border=\"1\" class=\"dataframe\">\n",
              "  <thead>\n",
              "    <tr style=\"text-align: right;\">\n",
              "      <th></th>\n",
              "      <th>PassengerId</th>\n",
              "      <th>Survived</th>\n",
              "      <th>Pclass</th>\n",
              "      <th>Name</th>\n",
              "      <th>Sex</th>\n",
              "      <th>Age</th>\n",
              "      <th>SibSp</th>\n",
              "      <th>Parch</th>\n",
              "      <th>Ticket</th>\n",
              "      <th>Fare</th>\n",
              "      <th>Cabin</th>\n",
              "      <th>Embarked</th>\n",
              "    </tr>\n",
              "  </thead>\n",
              "  <tbody>\n",
              "    <tr>\n",
              "      <th>0</th>\n",
              "      <td>1</td>\n",
              "      <td>0</td>\n",
              "      <td>3</td>\n",
              "      <td>Braund, Mr. Owen Harris</td>\n",
              "      <td>male</td>\n",
              "      <td>22.0</td>\n",
              "      <td>1</td>\n",
              "      <td>0</td>\n",
              "      <td>A/5 21171</td>\n",
              "      <td>7.2500</td>\n",
              "      <td>NaN</td>\n",
              "      <td>S</td>\n",
              "    </tr>\n",
              "    <tr>\n",
              "      <th>2</th>\n",
              "      <td>3</td>\n",
              "      <td>1</td>\n",
              "      <td>3</td>\n",
              "      <td>Heikkinen, Miss. Laina</td>\n",
              "      <td>female</td>\n",
              "      <td>26.0</td>\n",
              "      <td>0</td>\n",
              "      <td>0</td>\n",
              "      <td>STON/O2. 3101282</td>\n",
              "      <td>7.9250</td>\n",
              "      <td>NaN</td>\n",
              "      <td>S</td>\n",
              "    </tr>\n",
              "    <tr>\n",
              "      <th>4</th>\n",
              "      <td>5</td>\n",
              "      <td>0</td>\n",
              "      <td>3</td>\n",
              "      <td>Allen, Mr. William Henry</td>\n",
              "      <td>male</td>\n",
              "      <td>35.0</td>\n",
              "      <td>0</td>\n",
              "      <td>0</td>\n",
              "      <td>373450</td>\n",
              "      <td>8.0500</td>\n",
              "      <td>NaN</td>\n",
              "      <td>S</td>\n",
              "    </tr>\n",
              "    <tr>\n",
              "      <th>5</th>\n",
              "      <td>6</td>\n",
              "      <td>0</td>\n",
              "      <td>3</td>\n",
              "      <td>Moran, Mr. James</td>\n",
              "      <td>male</td>\n",
              "      <td>NaN</td>\n",
              "      <td>0</td>\n",
              "      <td>0</td>\n",
              "      <td>330877</td>\n",
              "      <td>8.4583</td>\n",
              "      <td>NaN</td>\n",
              "      <td>Q</td>\n",
              "    </tr>\n",
              "    <tr>\n",
              "      <th>7</th>\n",
              "      <td>8</td>\n",
              "      <td>0</td>\n",
              "      <td>3</td>\n",
              "      <td>Palsson, Master. Gosta Leonard</td>\n",
              "      <td>male</td>\n",
              "      <td>2.0</td>\n",
              "      <td>3</td>\n",
              "      <td>1</td>\n",
              "      <td>349909</td>\n",
              "      <td>21.0750</td>\n",
              "      <td>NaN</td>\n",
              "      <td>S</td>\n",
              "    </tr>\n",
              "    <tr>\n",
              "      <th>...</th>\n",
              "      <td>...</td>\n",
              "      <td>...</td>\n",
              "      <td>...</td>\n",
              "      <td>...</td>\n",
              "      <td>...</td>\n",
              "      <td>...</td>\n",
              "      <td>...</td>\n",
              "      <td>...</td>\n",
              "      <td>...</td>\n",
              "      <td>...</td>\n",
              "      <td>...</td>\n",
              "      <td>...</td>\n",
              "    </tr>\n",
              "    <tr>\n",
              "      <th>883</th>\n",
              "      <td>884</td>\n",
              "      <td>0</td>\n",
              "      <td>2</td>\n",
              "      <td>Banfield, Mr. Frederick James</td>\n",
              "      <td>male</td>\n",
              "      <td>28.0</td>\n",
              "      <td>0</td>\n",
              "      <td>0</td>\n",
              "      <td>C.A./SOTON 34068</td>\n",
              "      <td>10.5000</td>\n",
              "      <td>NaN</td>\n",
              "      <td>S</td>\n",
              "    </tr>\n",
              "    <tr>\n",
              "      <th>884</th>\n",
              "      <td>885</td>\n",
              "      <td>0</td>\n",
              "      <td>3</td>\n",
              "      <td>Sutehall, Mr. Henry Jr</td>\n",
              "      <td>male</td>\n",
              "      <td>25.0</td>\n",
              "      <td>0</td>\n",
              "      <td>0</td>\n",
              "      <td>SOTON/OQ 392076</td>\n",
              "      <td>7.0500</td>\n",
              "      <td>NaN</td>\n",
              "      <td>S</td>\n",
              "    </tr>\n",
              "    <tr>\n",
              "      <th>886</th>\n",
              "      <td>887</td>\n",
              "      <td>0</td>\n",
              "      <td>2</td>\n",
              "      <td>Montvila, Rev. Juozas</td>\n",
              "      <td>male</td>\n",
              "      <td>27.0</td>\n",
              "      <td>0</td>\n",
              "      <td>0</td>\n",
              "      <td>211536</td>\n",
              "      <td>13.0000</td>\n",
              "      <td>NaN</td>\n",
              "      <td>S</td>\n",
              "    </tr>\n",
              "    <tr>\n",
              "      <th>888</th>\n",
              "      <td>889</td>\n",
              "      <td>0</td>\n",
              "      <td>3</td>\n",
              "      <td>Johnston, Miss. Catherine Helen \"Carrie\"</td>\n",
              "      <td>female</td>\n",
              "      <td>NaN</td>\n",
              "      <td>1</td>\n",
              "      <td>2</td>\n",
              "      <td>W./C. 6607</td>\n",
              "      <td>23.4500</td>\n",
              "      <td>NaN</td>\n",
              "      <td>S</td>\n",
              "    </tr>\n",
              "    <tr>\n",
              "      <th>890</th>\n",
              "      <td>891</td>\n",
              "      <td>0</td>\n",
              "      <td>3</td>\n",
              "      <td>Dooley, Mr. Patrick</td>\n",
              "      <td>male</td>\n",
              "      <td>32.0</td>\n",
              "      <td>0</td>\n",
              "      <td>0</td>\n",
              "      <td>370376</td>\n",
              "      <td>7.7500</td>\n",
              "      <td>NaN</td>\n",
              "      <td>Q</td>\n",
              "    </tr>\n",
              "  </tbody>\n",
              "</table>\n",
              "<p>557 rows × 12 columns</p>\n",
              "</div>"
            ],
            "text/plain": [
              "     PassengerId  Survived  Pclass  ...     Fare Cabin  Embarked\n",
              "0              1         0       3  ...   7.2500   NaN         S\n",
              "2              3         1       3  ...   7.9250   NaN         S\n",
              "4              5         0       3  ...   8.0500   NaN         S\n",
              "5              6         0       3  ...   8.4583   NaN         Q\n",
              "7              8         0       3  ...  21.0750   NaN         S\n",
              "..           ...       ...     ...  ...      ...   ...       ...\n",
              "883          884         0       2  ...  10.5000   NaN         S\n",
              "884          885         0       3  ...   7.0500   NaN         S\n",
              "886          887         0       2  ...  13.0000   NaN         S\n",
              "888          889         0       3  ...  23.4500   NaN         S\n",
              "890          891         0       3  ...   7.7500   NaN         Q\n",
              "\n",
              "[557 rows x 12 columns]"
            ]
          },
          "metadata": {
            "tags": []
          },
          "execution_count": 148
        }
      ]
    },
    {
      "cell_type": "code",
      "metadata": {
        "colab": {
          "base_uri": "https://localhost:8080/"
        },
        "id": "O_bAfYylt6Ok",
        "outputId": "cd2830e8-9813-42ce-e2bc-90967a08f321"
      },
      "source": [
        "df_titanic_baja_tarifa.shape[0]"
      ],
      "execution_count": 152,
      "outputs": [
        {
          "output_type": "execute_result",
          "data": {
            "text/plain": [
              "557"
            ]
          },
          "metadata": {
            "tags": []
          },
          "execution_count": 152
        }
      ]
    },
    {
      "cell_type": "code",
      "metadata": {
        "id": "BImvwJd5uDMV"
      },
      "source": [
        ""
      ],
      "execution_count": 151,
      "outputs": []
    },
    {
      "cell_type": "markdown",
      "metadata": {
        "id": "EgoIUS_2k1bn"
      },
      "source": [
        "#### Máscara booleana con muchas condiciones\n",
        "\n",
        "Ahora tratemos de filtrar el dataset por dos condiciones: por ejemplo tomar los sueldos de abril de la secretaria de innovación. \n",
        "Para eso tenemos que combinar dos máscaras booleanas con una condición.\n",
        "\n",
        "| S | Descripcion        | S  | Descripcion |   |\n",
        "|---|--------------------|----|-------------|---|\n",
        "| & | AND (y)            | \\| | OR (o)      |   |\n",
        "| ^ | XOR (o exclusivo)  | ~  | NOT (no)    |   |\n",
        "\n",
        "\n",
        "\n",
        "Por ejemplo: seleccionemos los casos donde o bien se haya cobrado aguinaldo o bien el salario total haya sido mayor que 240.000, pero no las dos cosas. \n"
      ]
    },
    {
      "cell_type": "code",
      "metadata": {
        "colab": {
          "base_uri": "https://localhost:8080/",
          "height": 807
        },
        "id": "r9DvBOfPk1bo",
        "outputId": "2508b244-014c-41e1-b946-afbf197ac9ca"
      },
      "source": [
        "df[(df['total_salario_bruto_i_+_ii'] > 240000) ^ (df['aguinaldo_ii'] > 0)]"
      ],
      "execution_count": 153,
      "outputs": [
        {
          "output_type": "execute_result",
          "data": {
            "text/html": [
              "<div>\n",
              "<style scoped>\n",
              "    .dataframe tbody tr th:only-of-type {\n",
              "        vertical-align: middle;\n",
              "    }\n",
              "\n",
              "    .dataframe tbody tr th {\n",
              "        vertical-align: top;\n",
              "    }\n",
              "\n",
              "    .dataframe thead th {\n",
              "        text-align: right;\n",
              "    }\n",
              "</style>\n",
              "<table border=\"1\" class=\"dataframe\">\n",
              "  <thead>\n",
              "    <tr style=\"text-align: right;\">\n",
              "      <th></th>\n",
              "      <th>cuil</th>\n",
              "      <th>anio</th>\n",
              "      <th>mes</th>\n",
              "      <th>funcionario_apellido</th>\n",
              "      <th>funcionario_nombre</th>\n",
              "      <th>reparticion</th>\n",
              "      <th>asignacion_por_cargo_i</th>\n",
              "      <th>aguinaldo_ii</th>\n",
              "      <th>total_salario_bruto_i_+_ii</th>\n",
              "      <th>observaciones</th>\n",
              "    </tr>\n",
              "  </thead>\n",
              "  <tbody>\n",
              "    <tr>\n",
              "      <th>55</th>\n",
              "      <td>20-26781618-3</td>\n",
              "      <td>2019</td>\n",
              "      <td>2</td>\n",
              "      <td>LARRE</td>\n",
              "      <td>PEDRO ANDRES</td>\n",
              "      <td>SECR Ciencia, Tecnologia e Innovacion</td>\n",
              "      <td>204017.27</td>\n",
              "      <td>34002.88</td>\n",
              "      <td>238020.15</td>\n",
              "      <td>baja 28/2/2019</td>\n",
              "    </tr>\n",
              "    <tr>\n",
              "      <th>97</th>\n",
              "      <td>27-24483014-0</td>\n",
              "      <td>2019</td>\n",
              "      <td>4</td>\n",
              "      <td>ACUÑA</td>\n",
              "      <td>MARIA SOLEDAD</td>\n",
              "      <td>Ministerio de Educación e Innovación</td>\n",
              "      <td>249661.60</td>\n",
              "      <td>0.00</td>\n",
              "      <td>249661.60</td>\n",
              "      <td>NaN</td>\n",
              "    </tr>\n",
              "    <tr>\n",
              "      <th>98</th>\n",
              "      <td>20-13872301-2</td>\n",
              "      <td>2019</td>\n",
              "      <td>4</td>\n",
              "      <td>ASTARLOA</td>\n",
              "      <td>GABRIEL MARIA</td>\n",
              "      <td>Procuración General de la Ciudad de Buenos Aires</td>\n",
              "      <td>249661.60</td>\n",
              "      <td>0.00</td>\n",
              "      <td>249661.60</td>\n",
              "      <td>NaN</td>\n",
              "    </tr>\n",
              "    <tr>\n",
              "      <th>99</th>\n",
              "      <td>20-25641207-2</td>\n",
              "      <td>2019</td>\n",
              "      <td>4</td>\n",
              "      <td>AVOGADRO</td>\n",
              "      <td>ENRIQUE LUIS</td>\n",
              "      <td>Ministerio de Cultura</td>\n",
              "      <td>249661.60</td>\n",
              "      <td>0.00</td>\n",
              "      <td>249661.60</td>\n",
              "      <td>NaN</td>\n",
              "    </tr>\n",
              "    <tr>\n",
              "      <th>100</th>\n",
              "      <td>27-13221055-7</td>\n",
              "      <td>2019</td>\n",
              "      <td>4</td>\n",
              "      <td>BOU PEREZ</td>\n",
              "      <td>ANA MARIA</td>\n",
              "      <td>Ministerio de Salud</td>\n",
              "      <td>249661.60</td>\n",
              "      <td>0.00</td>\n",
              "      <td>249661.60</td>\n",
              "      <td>NaN</td>\n",
              "    </tr>\n",
              "    <tr>\n",
              "      <th>...</th>\n",
              "      <td>...</td>\n",
              "      <td>...</td>\n",
              "      <td>...</td>\n",
              "      <td>...</td>\n",
              "      <td>...</td>\n",
              "      <td>...</td>\n",
              "      <td>...</td>\n",
              "      <td>...</td>\n",
              "      <td>...</td>\n",
              "      <td>...</td>\n",
              "    </tr>\n",
              "    <tr>\n",
              "      <th>360</th>\n",
              "      <td>20-28908968-4</td>\n",
              "      <td>2019</td>\n",
              "      <td>12</td>\n",
              "      <td>COELHO CHICANO</td>\n",
              "      <td>CHRISTIAN</td>\n",
              "      <td>SS Contenidos</td>\n",
              "      <td>74991.86</td>\n",
              "      <td>110404.68</td>\n",
              "      <td>185396.54</td>\n",
              "      <td>baja al 9/12</td>\n",
              "    </tr>\n",
              "    <tr>\n",
              "      <th>361</th>\n",
              "      <td>20-28908968-4</td>\n",
              "      <td>2019</td>\n",
              "      <td>12</td>\n",
              "      <td>COELHO CHICANO</td>\n",
              "      <td>CHRISTIAN</td>\n",
              "      <td>SECR de Medios</td>\n",
              "      <td>187539.45</td>\n",
              "      <td>15628.29</td>\n",
              "      <td>203167.74</td>\n",
              "      <td>alta desde el 10/12</td>\n",
              "    </tr>\n",
              "    <tr>\n",
              "      <th>362</th>\n",
              "      <td>20-24424714-9</td>\n",
              "      <td>2019</td>\n",
              "      <td>12</td>\n",
              "      <td>D'ALESSANDRO</td>\n",
              "      <td>MARCELO SILVIO</td>\n",
              "      <td>SECR Justicia y Seguridad</td>\n",
              "      <td>74991.86</td>\n",
              "      <td>110404.68</td>\n",
              "      <td>185396.54</td>\n",
              "      <td>baja al 9/12</td>\n",
              "    </tr>\n",
              "    <tr>\n",
              "      <th>363</th>\n",
              "      <td>20-24424714-9</td>\n",
              "      <td>2019</td>\n",
              "      <td>12</td>\n",
              "      <td>D'ALESSANDRO</td>\n",
              "      <td>MARCELO SILVIO</td>\n",
              "      <td>SECR Justicia y Seguridad</td>\n",
              "      <td>187539.45</td>\n",
              "      <td>15628.29</td>\n",
              "      <td>203167.74</td>\n",
              "      <td>alta desde el 10/12</td>\n",
              "    </tr>\n",
              "    <tr>\n",
              "      <th>384</th>\n",
              "      <td>27-27011181-0</td>\n",
              "      <td>2019</td>\n",
              "      <td>12</td>\n",
              "      <td>FERNANDEZ</td>\n",
              "      <td>KARINA BEATRIZ</td>\n",
              "      <td>SECR Asuntos Estratégicos</td>\n",
              "      <td>187539.45</td>\n",
              "      <td>15628.29</td>\n",
              "      <td>203167.74</td>\n",
              "      <td>alta desde el 10/12</td>\n",
              "    </tr>\n",
              "  </tbody>\n",
              "</table>\n",
              "<p>170 rows × 10 columns</p>\n",
              "</div>"
            ],
            "text/plain": [
              "              cuil  anio  ...  total_salario_bruto_i_+_ii        observaciones\n",
              "55   20-26781618-3  2019  ...                   238020.15       baja 28/2/2019\n",
              "97   27-24483014-0  2019  ...                   249661.60                  NaN\n",
              "98   20-13872301-2  2019  ...                   249661.60                  NaN\n",
              "99   20-25641207-2  2019  ...                   249661.60                  NaN\n",
              "100  27-13221055-7  2019  ...                   249661.60                  NaN\n",
              "..             ...   ...  ...                         ...                  ...\n",
              "360  20-28908968-4  2019  ...                   185396.54         baja al 9/12\n",
              "361  20-28908968-4  2019  ...                   203167.74  alta desde el 10/12\n",
              "362  20-24424714-9  2019  ...                   185396.54         baja al 9/12\n",
              "363  20-24424714-9  2019  ...                   203167.74  alta desde el 10/12\n",
              "384  27-27011181-0  2019  ...                   203167.74  alta desde el 10/12\n",
              "\n",
              "[170 rows x 10 columns]"
            ]
          },
          "metadata": {
            "tags": []
          },
          "execution_count": 153
        }
      ]
    },
    {
      "cell_type": "markdown",
      "metadata": {
        "id": "xJ3mzr3lk1bo"
      },
      "source": [
        "Ahora veamos los sueldos de febrero de la SECR Ciencia, Tecnologia e Innovacion."
      ]
    },
    {
      "cell_type": "code",
      "metadata": {
        "colab": {
          "base_uri": "https://localhost:8080/",
          "height": 150
        },
        "id": "mPaWf_RKk1bo",
        "outputId": "059993ff-8e73-4fc6-d3c6-c64a9a57d3d0"
      },
      "source": [
        "df[(df['mes'] == 2) & (df['reparticion'] == 'SECR Ciencia, Tecnologia e Innovacion')]"
      ],
      "execution_count": 154,
      "outputs": [
        {
          "output_type": "execute_result",
          "data": {
            "text/html": [
              "<div>\n",
              "<style scoped>\n",
              "    .dataframe tbody tr th:only-of-type {\n",
              "        vertical-align: middle;\n",
              "    }\n",
              "\n",
              "    .dataframe tbody tr th {\n",
              "        vertical-align: top;\n",
              "    }\n",
              "\n",
              "    .dataframe thead th {\n",
              "        text-align: right;\n",
              "    }\n",
              "</style>\n",
              "<table border=\"1\" class=\"dataframe\">\n",
              "  <thead>\n",
              "    <tr style=\"text-align: right;\">\n",
              "      <th></th>\n",
              "      <th>cuil</th>\n",
              "      <th>anio</th>\n",
              "      <th>mes</th>\n",
              "      <th>funcionario_apellido</th>\n",
              "      <th>funcionario_nombre</th>\n",
              "      <th>reparticion</th>\n",
              "      <th>asignacion_por_cargo_i</th>\n",
              "      <th>aguinaldo_ii</th>\n",
              "      <th>total_salario_bruto_i_+_ii</th>\n",
              "      <th>observaciones</th>\n",
              "    </tr>\n",
              "  </thead>\n",
              "  <tbody>\n",
              "    <tr>\n",
              "      <th>55</th>\n",
              "      <td>20-26781618-3</td>\n",
              "      <td>2019</td>\n",
              "      <td>2</td>\n",
              "      <td>LARRE</td>\n",
              "      <td>PEDRO ANDRES</td>\n",
              "      <td>SECR Ciencia, Tecnologia e Innovacion</td>\n",
              "      <td>204017.27</td>\n",
              "      <td>34002.88</td>\n",
              "      <td>238020.15</td>\n",
              "      <td>baja 28/2/2019</td>\n",
              "    </tr>\n",
              "  </tbody>\n",
              "</table>\n",
              "</div>"
            ],
            "text/plain": [
              "             cuil  anio  ...  total_salario_bruto_i_+_ii   observaciones\n",
              "55  20-26781618-3  2019  ...                   238020.15  baja 28/2/2019\n",
              "\n",
              "[1 rows x 10 columns]"
            ]
          },
          "metadata": {
            "tags": []
          },
          "execution_count": 154
        }
      ]
    },
    {
      "cell_type": "markdown",
      "metadata": {
        "id": "xPEZfeDUk1bo"
      },
      "source": [
        "### Boolean indexing con query()\n",
        "\n",
        "La sintaxis que se utiliza para hacer Boolean indexing es un poco repetitiva. Noten que filtrar (aún en su expresión más corta sin loc ni especificar filas o columnas) implica ESCRIBIR DOS VECES el nombre del dataset. Para crear un shortcut, Pandas ofrece la función .query() \n",
        "\n"
      ]
    },
    {
      "cell_type": "code",
      "metadata": {
        "colab": {
          "base_uri": "https://localhost:8080/",
          "height": 391
        },
        "id": "vu1tlrzHk1bp",
        "outputId": "f0b92760-d4df-4000-f8f0-df7fffa35a1f"
      },
      "source": [
        "df_cult = df.query('reparticion == \"Ministerio de Cultura\"')\n",
        "df_cult.head()"
      ],
      "execution_count": 158,
      "outputs": [
        {
          "output_type": "execute_result",
          "data": {
            "text/html": [
              "<div>\n",
              "<style scoped>\n",
              "    .dataframe tbody tr th:only-of-type {\n",
              "        vertical-align: middle;\n",
              "    }\n",
              "\n",
              "    .dataframe tbody tr th {\n",
              "        vertical-align: top;\n",
              "    }\n",
              "\n",
              "    .dataframe thead th {\n",
              "        text-align: right;\n",
              "    }\n",
              "</style>\n",
              "<table border=\"1\" class=\"dataframe\">\n",
              "  <thead>\n",
              "    <tr style=\"text-align: right;\">\n",
              "      <th></th>\n",
              "      <th>cuil</th>\n",
              "      <th>anio</th>\n",
              "      <th>mes</th>\n",
              "      <th>funcionario_apellido</th>\n",
              "      <th>funcionario_nombre</th>\n",
              "      <th>reparticion</th>\n",
              "      <th>asignacion_por_cargo_i</th>\n",
              "      <th>aguinaldo_ii</th>\n",
              "      <th>total_salario_bruto_i_+_ii</th>\n",
              "      <th>observaciones</th>\n",
              "    </tr>\n",
              "  </thead>\n",
              "  <tbody>\n",
              "    <tr>\n",
              "      <th>4</th>\n",
              "      <td>20-25641207-2</td>\n",
              "      <td>2019</td>\n",
              "      <td>1</td>\n",
              "      <td>AVOGADRO</td>\n",
              "      <td>ENRIQUE LUIS</td>\n",
              "      <td>Ministerio de Cultura</td>\n",
              "      <td>224516.62</td>\n",
              "      <td>0.0</td>\n",
              "      <td>224516.62</td>\n",
              "      <td>NaN</td>\n",
              "    </tr>\n",
              "    <tr>\n",
              "      <th>36</th>\n",
              "      <td>20-25641207-2</td>\n",
              "      <td>2019</td>\n",
              "      <td>2</td>\n",
              "      <td>AVOGADRO</td>\n",
              "      <td>ENRIQUE LUIS</td>\n",
              "      <td>Ministerio de Cultura</td>\n",
              "      <td>224516.62</td>\n",
              "      <td>0.0</td>\n",
              "      <td>224516.62</td>\n",
              "      <td>NaN</td>\n",
              "    </tr>\n",
              "    <tr>\n",
              "      <th>68</th>\n",
              "      <td>20-25641207-2</td>\n",
              "      <td>2019</td>\n",
              "      <td>3</td>\n",
              "      <td>AVOGADRO</td>\n",
              "      <td>ENRIQUE LUIS</td>\n",
              "      <td>Ministerio de Cultura</td>\n",
              "      <td>231167.76</td>\n",
              "      <td>0.0</td>\n",
              "      <td>231167.76</td>\n",
              "      <td>NaN</td>\n",
              "    </tr>\n",
              "    <tr>\n",
              "      <th>99</th>\n",
              "      <td>20-25641207-2</td>\n",
              "      <td>2019</td>\n",
              "      <td>4</td>\n",
              "      <td>AVOGADRO</td>\n",
              "      <td>ENRIQUE LUIS</td>\n",
              "      <td>Ministerio de Cultura</td>\n",
              "      <td>249661.60</td>\n",
              "      <td>0.0</td>\n",
              "      <td>249661.60</td>\n",
              "      <td>NaN</td>\n",
              "    </tr>\n",
              "    <tr>\n",
              "      <th>130</th>\n",
              "      <td>20-25641207-2</td>\n",
              "      <td>2019</td>\n",
              "      <td>5</td>\n",
              "      <td>AVOGADRO</td>\n",
              "      <td>ENRIQUE LUIS</td>\n",
              "      <td>Ministerio de Cultura</td>\n",
              "      <td>249661.60</td>\n",
              "      <td>0.0</td>\n",
              "      <td>249661.60</td>\n",
              "      <td>NaN</td>\n",
              "    </tr>\n",
              "  </tbody>\n",
              "</table>\n",
              "</div>"
            ],
            "text/plain": [
              "              cuil  anio  ...  total_salario_bruto_i_+_ii observaciones\n",
              "4    20-25641207-2  2019  ...                   224516.62           NaN\n",
              "36   20-25641207-2  2019  ...                   224516.62           NaN\n",
              "68   20-25641207-2  2019  ...                   231167.76           NaN\n",
              "99   20-25641207-2  2019  ...                   249661.60           NaN\n",
              "130  20-25641207-2  2019  ...                   249661.60           NaN\n",
              "\n",
              "[5 rows x 10 columns]"
            ]
          },
          "metadata": {
            "tags": []
          },
          "execution_count": 158
        }
      ]
    },
    {
      "cell_type": "markdown",
      "metadata": {
        "id": "Dl8Aljtxk1bp"
      },
      "source": [
        "También se puede hacer query sobre múltiples condiciones."
      ]
    },
    {
      "cell_type": "code",
      "metadata": {
        "colab": {
          "base_uri": "https://localhost:8080/",
          "height": 425
        },
        "id": "dvBYcaPOk1bp",
        "outputId": "94adee49-7897-42fe-929c-ff1777cd8df1"
      },
      "source": [
        "df2 = df.query('asignacion_por_cargo_i > 240000 & aguinaldo_ii > 0')\n",
        "df2.head()"
      ],
      "execution_count": 160,
      "outputs": [
        {
          "output_type": "execute_result",
          "data": {
            "text/html": [
              "<div>\n",
              "<style scoped>\n",
              "    .dataframe tbody tr th:only-of-type {\n",
              "        vertical-align: middle;\n",
              "    }\n",
              "\n",
              "    .dataframe tbody tr th {\n",
              "        vertical-align: top;\n",
              "    }\n",
              "\n",
              "    .dataframe thead th {\n",
              "        text-align: right;\n",
              "    }\n",
              "</style>\n",
              "<table border=\"1\" class=\"dataframe\">\n",
              "  <thead>\n",
              "    <tr style=\"text-align: right;\">\n",
              "      <th></th>\n",
              "      <th>cuil</th>\n",
              "      <th>anio</th>\n",
              "      <th>mes</th>\n",
              "      <th>funcionario_apellido</th>\n",
              "      <th>funcionario_nombre</th>\n",
              "      <th>reparticion</th>\n",
              "      <th>asignacion_por_cargo_i</th>\n",
              "      <th>aguinaldo_ii</th>\n",
              "      <th>total_salario_bruto_i_+_ii</th>\n",
              "      <th>observaciones</th>\n",
              "    </tr>\n",
              "  </thead>\n",
              "  <tbody>\n",
              "    <tr>\n",
              "      <th>159</th>\n",
              "      <td>27-24483014-0</td>\n",
              "      <td>2019</td>\n",
              "      <td>6</td>\n",
              "      <td>ACUÑA</td>\n",
              "      <td>MARIA SOLEDAD</td>\n",
              "      <td>Ministerio de Educación e Innovación</td>\n",
              "      <td>249661.6</td>\n",
              "      <td>124830.80</td>\n",
              "      <td>374492.40</td>\n",
              "      <td>NaN</td>\n",
              "    </tr>\n",
              "    <tr>\n",
              "      <th>160</th>\n",
              "      <td>20-13872301-2</td>\n",
              "      <td>2019</td>\n",
              "      <td>6</td>\n",
              "      <td>ASTARLOA</td>\n",
              "      <td>GABRIEL MARIA</td>\n",
              "      <td>Procuración General de la Ciudad de Buenos Aires</td>\n",
              "      <td>249661.6</td>\n",
              "      <td>165196.76</td>\n",
              "      <td>414858.36</td>\n",
              "      <td>NaN</td>\n",
              "    </tr>\n",
              "    <tr>\n",
              "      <th>161</th>\n",
              "      <td>20-25641207-2</td>\n",
              "      <td>2019</td>\n",
              "      <td>6</td>\n",
              "      <td>AVOGADRO</td>\n",
              "      <td>ENRIQUE LUIS</td>\n",
              "      <td>Ministerio de Cultura</td>\n",
              "      <td>249661.6</td>\n",
              "      <td>124830.80</td>\n",
              "      <td>374492.40</td>\n",
              "      <td>NaN</td>\n",
              "    </tr>\n",
              "    <tr>\n",
              "      <th>162</th>\n",
              "      <td>27-13221055-7</td>\n",
              "      <td>2019</td>\n",
              "      <td>6</td>\n",
              "      <td>BOU PEREZ</td>\n",
              "      <td>ANA MARIA</td>\n",
              "      <td>Ministerio de Salud</td>\n",
              "      <td>249661.6</td>\n",
              "      <td>124830.80</td>\n",
              "      <td>374492.40</td>\n",
              "      <td>NaN</td>\n",
              "    </tr>\n",
              "    <tr>\n",
              "      <th>163</th>\n",
              "      <td>27-13092400-5</td>\n",
              "      <td>2019</td>\n",
              "      <td>6</td>\n",
              "      <td>FREDA</td>\n",
              "      <td>MONICA BEATRIZ</td>\n",
              "      <td>Sindicatura General de la Ciudad de Buenos Aires</td>\n",
              "      <td>249661.6</td>\n",
              "      <td>124830.80</td>\n",
              "      <td>374492.40</td>\n",
              "      <td>NaN</td>\n",
              "    </tr>\n",
              "  </tbody>\n",
              "</table>\n",
              "</div>"
            ],
            "text/plain": [
              "              cuil  anio  ...  total_salario_bruto_i_+_ii observaciones\n",
              "159  27-24483014-0  2019  ...                   374492.40           NaN\n",
              "160  20-13872301-2  2019  ...                   414858.36           NaN\n",
              "161  20-25641207-2  2019  ...                   374492.40           NaN\n",
              "162  27-13221055-7  2019  ...                   374492.40           NaN\n",
              "163  27-13092400-5  2019  ...                   374492.40           NaN\n",
              "\n",
              "[5 rows x 10 columns]"
            ]
          },
          "metadata": {
            "tags": []
          },
          "execution_count": 160
        }
      ]
    },
    {
      "cell_type": "code",
      "metadata": {
        "colab": {
          "base_uri": "https://localhost:8080/"
        },
        "id": "15zSoUuNk1bq",
        "outputId": "d797c6c3-75e4-453d-e03b-b5d819cb5c67"
      },
      "source": [
        "df2.shape"
      ],
      "execution_count": 161,
      "outputs": [
        {
          "output_type": "execute_result",
          "data": {
            "text/plain": [
              "(34, 10)"
            ]
          },
          "metadata": {
            "tags": []
          },
          "execution_count": 161
        }
      ]
    },
    {
      "cell_type": "markdown",
      "metadata": {
        "id": "X9yDc87rk1bq"
      },
      "source": [
        "### Ejercicio: Piensen cómo traducir a la sintaxis de query, estas consultas que ya hicimos:"
      ]
    },
    {
      "cell_type": "code",
      "metadata": {
        "colab": {
          "base_uri": "https://localhost:8080/"
        },
        "id": "9XfGQTBnk1bq",
        "outputId": "82ea3775-a987-47bf-b00c-5108dbe8ecfd"
      },
      "source": [
        "#df_sem2 = df[df['mes'] > 6]\n",
        "df_sem2 = df.query('mes > 6')\n",
        "df_sem2.shape"
      ],
      "execution_count": 166,
      "outputs": [
        {
          "output_type": "execute_result",
          "data": {
            "text/plain": [
              "(197, 10)"
            ]
          },
          "metadata": {
            "tags": []
          },
          "execution_count": 166
        }
      ]
    },
    {
      "cell_type": "code",
      "metadata": {
        "colab": {
          "base_uri": "https://localhost:8080/",
          "height": 150
        },
        "id": "S-5GDWYrk1bq",
        "outputId": "ea5fc13b-741d-4359-9d01-f287156f8e8b"
      },
      "source": [
        "# df[(df['mes'] == 2) & (df['reparticion'] == 'SECR Ciencia, Tecnologia e Innovacion')]\n",
        "df_feb_SECR = df.query('mes == 2 & reparticion == \"SECR Ciencia, Tecnologia e Innovacion\"')\n",
        "df_feb_SECR.head()\n"
      ],
      "execution_count": 169,
      "outputs": [
        {
          "output_type": "execute_result",
          "data": {
            "text/html": [
              "<div>\n",
              "<style scoped>\n",
              "    .dataframe tbody tr th:only-of-type {\n",
              "        vertical-align: middle;\n",
              "    }\n",
              "\n",
              "    .dataframe tbody tr th {\n",
              "        vertical-align: top;\n",
              "    }\n",
              "\n",
              "    .dataframe thead th {\n",
              "        text-align: right;\n",
              "    }\n",
              "</style>\n",
              "<table border=\"1\" class=\"dataframe\">\n",
              "  <thead>\n",
              "    <tr style=\"text-align: right;\">\n",
              "      <th></th>\n",
              "      <th>cuil</th>\n",
              "      <th>anio</th>\n",
              "      <th>mes</th>\n",
              "      <th>funcionario_apellido</th>\n",
              "      <th>funcionario_nombre</th>\n",
              "      <th>reparticion</th>\n",
              "      <th>asignacion_por_cargo_i</th>\n",
              "      <th>aguinaldo_ii</th>\n",
              "      <th>total_salario_bruto_i_+_ii</th>\n",
              "      <th>observaciones</th>\n",
              "    </tr>\n",
              "  </thead>\n",
              "  <tbody>\n",
              "    <tr>\n",
              "      <th>55</th>\n",
              "      <td>20-26781618-3</td>\n",
              "      <td>2019</td>\n",
              "      <td>2</td>\n",
              "      <td>LARRE</td>\n",
              "      <td>PEDRO ANDRES</td>\n",
              "      <td>SECR Ciencia, Tecnologia e Innovacion</td>\n",
              "      <td>204017.27</td>\n",
              "      <td>34002.88</td>\n",
              "      <td>238020.15</td>\n",
              "      <td>baja 28/2/2019</td>\n",
              "    </tr>\n",
              "  </tbody>\n",
              "</table>\n",
              "</div>"
            ],
            "text/plain": [
              "             cuil  anio  ...  total_salario_bruto_i_+_ii   observaciones\n",
              "55  20-26781618-3  2019  ...                   238020.15  baja 28/2/2019\n",
              "\n",
              "[1 rows x 10 columns]"
            ]
          },
          "metadata": {
            "tags": []
          },
          "execution_count": 169
        }
      ]
    },
    {
      "cell_type": "markdown",
      "metadata": {
        "id": "0VgX-6tIk1bq"
      },
      "source": [
        "### Fancy Indexing\n",
        "\n",
        "Ahora vamos a quedarnos con un subconjunto de columnas del DataFrame."
      ]
    },
    {
      "cell_type": "code",
      "metadata": {
        "id": "n9IbVMdgk1br"
      },
      "source": [
        "df_view = df.loc[:,['anio','mes']]"
      ],
      "execution_count": 171,
      "outputs": []
    },
    {
      "cell_type": "code",
      "metadata": {
        "colab": {
          "base_uri": "https://localhost:8080/"
        },
        "id": "HGmEZYy5k1br",
        "outputId": "7d0a555b-825b-449c-c073-3d06c4d8dc3e"
      },
      "source": [
        "df_view.shape"
      ],
      "execution_count": 172,
      "outputs": [
        {
          "output_type": "execute_result",
          "data": {
            "text/plain": [
              "(385, 2)"
            ]
          },
          "metadata": {
            "tags": []
          },
          "execution_count": 172
        }
      ]
    },
    {
      "cell_type": "markdown",
      "metadata": {
        "id": "htDKv_LGk1br"
      },
      "source": [
        "Existe una forma menos explícita de hacer esta misma operación. Si pasamos una lista al indexing, pandas asume que el tipo de indexing es loc y que el filtro es sobre las columnas y no las filas:"
      ]
    },
    {
      "cell_type": "code",
      "metadata": {
        "id": "zTUV3VtOk1br"
      },
      "source": [
        "df_view = df[['anio','mes']]"
      ],
      "execution_count": 173,
      "outputs": []
    },
    {
      "cell_type": "code",
      "metadata": {
        "colab": {
          "base_uri": "https://localhost:8080/"
        },
        "id": "2l65yIzEk1br",
        "outputId": "eff89ef2-3e1f-440b-867c-e9c10e411c84"
      },
      "source": [
        "df_view.shape"
      ],
      "execution_count": 174,
      "outputs": [
        {
          "output_type": "execute_result",
          "data": {
            "text/plain": [
              "(385, 2)"
            ]
          },
          "metadata": {
            "tags": []
          },
          "execution_count": 174
        }
      ]
    },
    {
      "cell_type": "markdown",
      "metadata": {
        "id": "qQwHRnRKk1bs"
      },
      "source": [
        "Fíjense lo que pasa si tratamos de acceder a filas utilizando una lista de nombres, en este caso [0,1]. "
      ]
    },
    {
      "cell_type": "code",
      "metadata": {
        "colab": {
          "base_uri": "https://localhost:8080/",
          "height": 340
        },
        "id": "6wfZHSkvk1bs",
        "outputId": "6a9792fd-d5a3-4fab-8b0c-192c56922265"
      },
      "source": [
        "# Incorrecto\n",
        "df_view = df[[3,8]]"
      ],
      "execution_count": 177,
      "outputs": [
        {
          "output_type": "error",
          "ename": "KeyError",
          "evalue": "ignored",
          "traceback": [
            "\u001b[0;31m---------------------------------------------------------------------------\u001b[0m",
            "\u001b[0;31mKeyError\u001b[0m                                  Traceback (most recent call last)",
            "\u001b[0;32m<ipython-input-177-356438c29bef>\u001b[0m in \u001b[0;36m<module>\u001b[0;34m()\u001b[0m\n\u001b[1;32m      1\u001b[0m \u001b[0;31m# Incorrecto\u001b[0m\u001b[0;34m\u001b[0m\u001b[0;34m\u001b[0m\u001b[0;34m\u001b[0m\u001b[0m\n\u001b[0;32m----> 2\u001b[0;31m \u001b[0mdf_view\u001b[0m \u001b[0;34m=\u001b[0m \u001b[0mdf\u001b[0m\u001b[0;34m[\u001b[0m\u001b[0;34m[\u001b[0m\u001b[0;36m3\u001b[0m\u001b[0;34m,\u001b[0m\u001b[0;36m8\u001b[0m\u001b[0;34m]\u001b[0m\u001b[0;34m]\u001b[0m\u001b[0;34m\u001b[0m\u001b[0;34m\u001b[0m\u001b[0m\n\u001b[0m",
            "\u001b[0;32m/usr/local/lib/python3.7/dist-packages/pandas/core/frame.py\u001b[0m in \u001b[0;36m__getitem__\u001b[0;34m(self, key)\u001b[0m\n\u001b[1;32m   2910\u001b[0m             \u001b[0;32mif\u001b[0m \u001b[0mis_iterator\u001b[0m\u001b[0;34m(\u001b[0m\u001b[0mkey\u001b[0m\u001b[0;34m)\u001b[0m\u001b[0;34m:\u001b[0m\u001b[0;34m\u001b[0m\u001b[0;34m\u001b[0m\u001b[0m\n\u001b[1;32m   2911\u001b[0m                 \u001b[0mkey\u001b[0m \u001b[0;34m=\u001b[0m \u001b[0mlist\u001b[0m\u001b[0;34m(\u001b[0m\u001b[0mkey\u001b[0m\u001b[0;34m)\u001b[0m\u001b[0;34m\u001b[0m\u001b[0;34m\u001b[0m\u001b[0m\n\u001b[0;32m-> 2912\u001b[0;31m             \u001b[0mindexer\u001b[0m \u001b[0;34m=\u001b[0m \u001b[0mself\u001b[0m\u001b[0;34m.\u001b[0m\u001b[0mloc\u001b[0m\u001b[0;34m.\u001b[0m\u001b[0m_get_listlike_indexer\u001b[0m\u001b[0;34m(\u001b[0m\u001b[0mkey\u001b[0m\u001b[0;34m,\u001b[0m \u001b[0maxis\u001b[0m\u001b[0;34m=\u001b[0m\u001b[0;36m1\u001b[0m\u001b[0;34m,\u001b[0m \u001b[0mraise_missing\u001b[0m\u001b[0;34m=\u001b[0m\u001b[0;32mTrue\u001b[0m\u001b[0;34m)\u001b[0m\u001b[0;34m[\u001b[0m\u001b[0;36m1\u001b[0m\u001b[0;34m]\u001b[0m\u001b[0;34m\u001b[0m\u001b[0;34m\u001b[0m\u001b[0m\n\u001b[0m\u001b[1;32m   2913\u001b[0m \u001b[0;34m\u001b[0m\u001b[0m\n\u001b[1;32m   2914\u001b[0m         \u001b[0;31m# take() does not accept boolean indexers\u001b[0m\u001b[0;34m\u001b[0m\u001b[0;34m\u001b[0m\u001b[0;34m\u001b[0m\u001b[0m\n",
            "\u001b[0;32m/usr/local/lib/python3.7/dist-packages/pandas/core/indexing.py\u001b[0m in \u001b[0;36m_get_listlike_indexer\u001b[0;34m(self, key, axis, raise_missing)\u001b[0m\n\u001b[1;32m   1252\u001b[0m             \u001b[0mkeyarr\u001b[0m\u001b[0;34m,\u001b[0m \u001b[0mindexer\u001b[0m\u001b[0;34m,\u001b[0m \u001b[0mnew_indexer\u001b[0m \u001b[0;34m=\u001b[0m \u001b[0max\u001b[0m\u001b[0;34m.\u001b[0m\u001b[0m_reindex_non_unique\u001b[0m\u001b[0;34m(\u001b[0m\u001b[0mkeyarr\u001b[0m\u001b[0;34m)\u001b[0m\u001b[0;34m\u001b[0m\u001b[0;34m\u001b[0m\u001b[0m\n\u001b[1;32m   1253\u001b[0m \u001b[0;34m\u001b[0m\u001b[0m\n\u001b[0;32m-> 1254\u001b[0;31m         \u001b[0mself\u001b[0m\u001b[0;34m.\u001b[0m\u001b[0m_validate_read_indexer\u001b[0m\u001b[0;34m(\u001b[0m\u001b[0mkeyarr\u001b[0m\u001b[0;34m,\u001b[0m \u001b[0mindexer\u001b[0m\u001b[0;34m,\u001b[0m \u001b[0maxis\u001b[0m\u001b[0;34m,\u001b[0m \u001b[0mraise_missing\u001b[0m\u001b[0;34m=\u001b[0m\u001b[0mraise_missing\u001b[0m\u001b[0;34m)\u001b[0m\u001b[0;34m\u001b[0m\u001b[0;34m\u001b[0m\u001b[0m\n\u001b[0m\u001b[1;32m   1255\u001b[0m         \u001b[0;32mreturn\u001b[0m \u001b[0mkeyarr\u001b[0m\u001b[0;34m,\u001b[0m \u001b[0mindexer\u001b[0m\u001b[0;34m\u001b[0m\u001b[0;34m\u001b[0m\u001b[0m\n\u001b[1;32m   1256\u001b[0m \u001b[0;34m\u001b[0m\u001b[0m\n",
            "\u001b[0;32m/usr/local/lib/python3.7/dist-packages/pandas/core/indexing.py\u001b[0m in \u001b[0;36m_validate_read_indexer\u001b[0;34m(self, key, indexer, axis, raise_missing)\u001b[0m\n\u001b[1;32m   1296\u001b[0m             \u001b[0;32mif\u001b[0m \u001b[0mmissing\u001b[0m \u001b[0;34m==\u001b[0m \u001b[0mlen\u001b[0m\u001b[0;34m(\u001b[0m\u001b[0mindexer\u001b[0m\u001b[0;34m)\u001b[0m\u001b[0;34m:\u001b[0m\u001b[0;34m\u001b[0m\u001b[0;34m\u001b[0m\u001b[0m\n\u001b[1;32m   1297\u001b[0m                 \u001b[0maxis_name\u001b[0m \u001b[0;34m=\u001b[0m \u001b[0mself\u001b[0m\u001b[0;34m.\u001b[0m\u001b[0mobj\u001b[0m\u001b[0;34m.\u001b[0m\u001b[0m_get_axis_name\u001b[0m\u001b[0;34m(\u001b[0m\u001b[0maxis\u001b[0m\u001b[0;34m)\u001b[0m\u001b[0;34m\u001b[0m\u001b[0;34m\u001b[0m\u001b[0m\n\u001b[0;32m-> 1298\u001b[0;31m                 \u001b[0;32mraise\u001b[0m \u001b[0mKeyError\u001b[0m\u001b[0;34m(\u001b[0m\u001b[0;34mf\"None of [{key}] are in the [{axis_name}]\"\u001b[0m\u001b[0;34m)\u001b[0m\u001b[0;34m\u001b[0m\u001b[0;34m\u001b[0m\u001b[0m\n\u001b[0m\u001b[1;32m   1299\u001b[0m \u001b[0;34m\u001b[0m\u001b[0m\n\u001b[1;32m   1300\u001b[0m             \u001b[0;31m# We (temporarily) allow for some missing keys with .loc, except in\u001b[0m\u001b[0;34m\u001b[0m\u001b[0;34m\u001b[0m\u001b[0;34m\u001b[0m\u001b[0m\n",
            "\u001b[0;31mKeyError\u001b[0m: \"None of [Int64Index([3, 8], dtype='int64')] are in the [columns]\""
          ]
        }
      ]
    },
    {
      "cell_type": "markdown",
      "metadata": {
        "id": "Wn62vDqPk1bs"
      },
      "source": [
        "Nos da un error porque cuando pasamos únicamente una lista al indexing, pandas asume que queremos un set de columnas y si los nombres no existen, da error. La forma correcta de hacerlo es pasar una lista de índices y explicitar que vamos a indizar con loc y que seleccionamos todas las columnas."
      ]
    },
    {
      "cell_type": "code",
      "metadata": {
        "id": "Ixq5CC4rk1bs"
      },
      "source": [
        "# Correcto\n",
        "df_view = df.loc[[3,8],:]"
      ],
      "execution_count": 178,
      "outputs": []
    },
    {
      "cell_type": "code",
      "metadata": {
        "colab": {
          "base_uri": "https://localhost:8080/",
          "height": 215
        },
        "id": "d8pCRToak1bs",
        "outputId": "4bc5a3e1-aed5-45d6-af62-2382f710aff5"
      },
      "source": [
        "df_view"
      ],
      "execution_count": 179,
      "outputs": [
        {
          "output_type": "execute_result",
          "data": {
            "text/html": [
              "<div>\n",
              "<style scoped>\n",
              "    .dataframe tbody tr th:only-of-type {\n",
              "        vertical-align: middle;\n",
              "    }\n",
              "\n",
              "    .dataframe tbody tr th {\n",
              "        vertical-align: top;\n",
              "    }\n",
              "\n",
              "    .dataframe thead th {\n",
              "        text-align: right;\n",
              "    }\n",
              "</style>\n",
              "<table border=\"1\" class=\"dataframe\">\n",
              "  <thead>\n",
              "    <tr style=\"text-align: right;\">\n",
              "      <th></th>\n",
              "      <th>cuil</th>\n",
              "      <th>anio</th>\n",
              "      <th>mes</th>\n",
              "      <th>funcionario_apellido</th>\n",
              "      <th>funcionario_nombre</th>\n",
              "      <th>reparticion</th>\n",
              "      <th>asignacion_por_cargo_i</th>\n",
              "      <th>aguinaldo_ii</th>\n",
              "      <th>total_salario_bruto_i_+_ii</th>\n",
              "      <th>observaciones</th>\n",
              "    </tr>\n",
              "  </thead>\n",
              "  <tbody>\n",
              "    <tr>\n",
              "      <th>3</th>\n",
              "      <td>20-13872301-2</td>\n",
              "      <td>2019</td>\n",
              "      <td>1</td>\n",
              "      <td>ASTARLOA</td>\n",
              "      <td>GABRIEL MARIA</td>\n",
              "      <td>Procuración General de la Ciudad de Buenos Aires</td>\n",
              "      <td>224516.62</td>\n",
              "      <td>0.0</td>\n",
              "      <td>224516.62</td>\n",
              "      <td>NaN</td>\n",
              "    </tr>\n",
              "    <tr>\n",
              "      <th>8</th>\n",
              "      <td>20-22293873-3</td>\n",
              "      <td>2019</td>\n",
              "      <td>1</td>\n",
              "      <td>MIGUEL</td>\n",
              "      <td>FELIPE OSCAR</td>\n",
              "      <td>Jefatura de Gabinete de Ministros</td>\n",
              "      <td>224516.62</td>\n",
              "      <td>0.0</td>\n",
              "      <td>224516.62</td>\n",
              "      <td>NaN</td>\n",
              "    </tr>\n",
              "  </tbody>\n",
              "</table>\n",
              "</div>"
            ],
            "text/plain": [
              "            cuil  anio  ...  total_salario_bruto_i_+_ii observaciones\n",
              "3  20-13872301-2  2019  ...                   224516.62           NaN\n",
              "8  20-22293873-3  2019  ...                   224516.62           NaN\n",
              "\n",
              "[2 rows x 10 columns]"
            ]
          },
          "metadata": {
            "tags": []
          },
          "execution_count": 179
        }
      ]
    },
    {
      "cell_type": "markdown",
      "metadata": {
        "id": "P5H9W-Uxk1bt"
      },
      "source": [
        ""
      ]
    },
    {
      "cell_type": "markdown",
      "metadata": {
        "id": "MBXjLzFOk1bt"
      },
      "source": [
        "### Ejercicio. Volviendo al ejemplo del titanic...\n",
        "\n",
        "1) ¿Cuántos hombres y mujeres sobrevivieron? \n",
        "\n",
        "2) ¿Cuántos menores de 18 años había? ¿Cuántos sobrevivieron?\n",
        "\n",
        "3) Seleccionen únicamente las columnas Sex y Survived y almacenenlas en un nuevo DataFrame que se llame df_titanic_subset.\n"
      ]
    },
    {
      "cell_type": "code",
      "metadata": {
        "colab": {
          "base_uri": "https://localhost:8080/",
          "height": 459
        },
        "id": "9YV7NJWJk1bt",
        "outputId": "7e146147-56b3-4d9f-afbe-6267037de1c0"
      },
      "source": [
        "df_titanic.head(1)\n",
        "df_titanic.query('Sex == \"female\" & Survived == 1')"
      ],
      "execution_count": 186,
      "outputs": [
        {
          "output_type": "execute_result",
          "data": {
            "text/html": [
              "<div>\n",
              "<style scoped>\n",
              "    .dataframe tbody tr th:only-of-type {\n",
              "        vertical-align: middle;\n",
              "    }\n",
              "\n",
              "    .dataframe tbody tr th {\n",
              "        vertical-align: top;\n",
              "    }\n",
              "\n",
              "    .dataframe thead th {\n",
              "        text-align: right;\n",
              "    }\n",
              "</style>\n",
              "<table border=\"1\" class=\"dataframe\">\n",
              "  <thead>\n",
              "    <tr style=\"text-align: right;\">\n",
              "      <th></th>\n",
              "      <th>PassengerId</th>\n",
              "      <th>Survived</th>\n",
              "      <th>Pclass</th>\n",
              "      <th>Name</th>\n",
              "      <th>Sex</th>\n",
              "      <th>Age</th>\n",
              "      <th>SibSp</th>\n",
              "      <th>Parch</th>\n",
              "      <th>Ticket</th>\n",
              "      <th>Fare</th>\n",
              "      <th>Cabin</th>\n",
              "      <th>Embarked</th>\n",
              "    </tr>\n",
              "  </thead>\n",
              "  <tbody>\n",
              "    <tr>\n",
              "      <th>1</th>\n",
              "      <td>2</td>\n",
              "      <td>1</td>\n",
              "      <td>1</td>\n",
              "      <td>Cumings, Mrs. John Bradley (Florence Briggs Th...</td>\n",
              "      <td>female</td>\n",
              "      <td>38.0</td>\n",
              "      <td>1</td>\n",
              "      <td>0</td>\n",
              "      <td>PC 17599</td>\n",
              "      <td>71.2833</td>\n",
              "      <td>C85</td>\n",
              "      <td>C</td>\n",
              "    </tr>\n",
              "    <tr>\n",
              "      <th>2</th>\n",
              "      <td>3</td>\n",
              "      <td>1</td>\n",
              "      <td>3</td>\n",
              "      <td>Heikkinen, Miss. Laina</td>\n",
              "      <td>female</td>\n",
              "      <td>26.0</td>\n",
              "      <td>0</td>\n",
              "      <td>0</td>\n",
              "      <td>STON/O2. 3101282</td>\n",
              "      <td>7.9250</td>\n",
              "      <td>NaN</td>\n",
              "      <td>S</td>\n",
              "    </tr>\n",
              "    <tr>\n",
              "      <th>3</th>\n",
              "      <td>4</td>\n",
              "      <td>1</td>\n",
              "      <td>1</td>\n",
              "      <td>Futrelle, Mrs. Jacques Heath (Lily May Peel)</td>\n",
              "      <td>female</td>\n",
              "      <td>35.0</td>\n",
              "      <td>1</td>\n",
              "      <td>0</td>\n",
              "      <td>113803</td>\n",
              "      <td>53.1000</td>\n",
              "      <td>C123</td>\n",
              "      <td>S</td>\n",
              "    </tr>\n",
              "    <tr>\n",
              "      <th>8</th>\n",
              "      <td>9</td>\n",
              "      <td>1</td>\n",
              "      <td>3</td>\n",
              "      <td>Johnson, Mrs. Oscar W (Elisabeth Vilhelmina Berg)</td>\n",
              "      <td>female</td>\n",
              "      <td>27.0</td>\n",
              "      <td>0</td>\n",
              "      <td>2</td>\n",
              "      <td>347742</td>\n",
              "      <td>11.1333</td>\n",
              "      <td>NaN</td>\n",
              "      <td>S</td>\n",
              "    </tr>\n",
              "    <tr>\n",
              "      <th>9</th>\n",
              "      <td>10</td>\n",
              "      <td>1</td>\n",
              "      <td>2</td>\n",
              "      <td>Nasser, Mrs. Nicholas (Adele Achem)</td>\n",
              "      <td>female</td>\n",
              "      <td>14.0</td>\n",
              "      <td>1</td>\n",
              "      <td>0</td>\n",
              "      <td>237736</td>\n",
              "      <td>30.0708</td>\n",
              "      <td>NaN</td>\n",
              "      <td>C</td>\n",
              "    </tr>\n",
              "    <tr>\n",
              "      <th>...</th>\n",
              "      <td>...</td>\n",
              "      <td>...</td>\n",
              "      <td>...</td>\n",
              "      <td>...</td>\n",
              "      <td>...</td>\n",
              "      <td>...</td>\n",
              "      <td>...</td>\n",
              "      <td>...</td>\n",
              "      <td>...</td>\n",
              "      <td>...</td>\n",
              "      <td>...</td>\n",
              "      <td>...</td>\n",
              "    </tr>\n",
              "    <tr>\n",
              "      <th>874</th>\n",
              "      <td>875</td>\n",
              "      <td>1</td>\n",
              "      <td>2</td>\n",
              "      <td>Abelson, Mrs. Samuel (Hannah Wizosky)</td>\n",
              "      <td>female</td>\n",
              "      <td>28.0</td>\n",
              "      <td>1</td>\n",
              "      <td>0</td>\n",
              "      <td>P/PP 3381</td>\n",
              "      <td>24.0000</td>\n",
              "      <td>NaN</td>\n",
              "      <td>C</td>\n",
              "    </tr>\n",
              "    <tr>\n",
              "      <th>875</th>\n",
              "      <td>876</td>\n",
              "      <td>1</td>\n",
              "      <td>3</td>\n",
              "      <td>Najib, Miss. Adele Kiamie \"Jane\"</td>\n",
              "      <td>female</td>\n",
              "      <td>15.0</td>\n",
              "      <td>0</td>\n",
              "      <td>0</td>\n",
              "      <td>2667</td>\n",
              "      <td>7.2250</td>\n",
              "      <td>NaN</td>\n",
              "      <td>C</td>\n",
              "    </tr>\n",
              "    <tr>\n",
              "      <th>879</th>\n",
              "      <td>880</td>\n",
              "      <td>1</td>\n",
              "      <td>1</td>\n",
              "      <td>Potter, Mrs. Thomas Jr (Lily Alexenia Wilson)</td>\n",
              "      <td>female</td>\n",
              "      <td>56.0</td>\n",
              "      <td>0</td>\n",
              "      <td>1</td>\n",
              "      <td>11767</td>\n",
              "      <td>83.1583</td>\n",
              "      <td>C50</td>\n",
              "      <td>C</td>\n",
              "    </tr>\n",
              "    <tr>\n",
              "      <th>880</th>\n",
              "      <td>881</td>\n",
              "      <td>1</td>\n",
              "      <td>2</td>\n",
              "      <td>Shelley, Mrs. William (Imanita Parrish Hall)</td>\n",
              "      <td>female</td>\n",
              "      <td>25.0</td>\n",
              "      <td>0</td>\n",
              "      <td>1</td>\n",
              "      <td>230433</td>\n",
              "      <td>26.0000</td>\n",
              "      <td>NaN</td>\n",
              "      <td>S</td>\n",
              "    </tr>\n",
              "    <tr>\n",
              "      <th>887</th>\n",
              "      <td>888</td>\n",
              "      <td>1</td>\n",
              "      <td>1</td>\n",
              "      <td>Graham, Miss. Margaret Edith</td>\n",
              "      <td>female</td>\n",
              "      <td>19.0</td>\n",
              "      <td>0</td>\n",
              "      <td>0</td>\n",
              "      <td>112053</td>\n",
              "      <td>30.0000</td>\n",
              "      <td>B42</td>\n",
              "      <td>S</td>\n",
              "    </tr>\n",
              "  </tbody>\n",
              "</table>\n",
              "<p>233 rows × 12 columns</p>\n",
              "</div>"
            ],
            "text/plain": [
              "     PassengerId  Survived  Pclass  ...     Fare Cabin  Embarked\n",
              "1              2         1       1  ...  71.2833   C85         C\n",
              "2              3         1       3  ...   7.9250   NaN         S\n",
              "3              4         1       1  ...  53.1000  C123         S\n",
              "8              9         1       3  ...  11.1333   NaN         S\n",
              "9             10         1       2  ...  30.0708   NaN         C\n",
              "..           ...       ...     ...  ...      ...   ...       ...\n",
              "874          875         1       2  ...  24.0000   NaN         C\n",
              "875          876         1       3  ...   7.2250   NaN         C\n",
              "879          880         1       1  ...  83.1583   C50         C\n",
              "880          881         1       2  ...  26.0000   NaN         S\n",
              "887          888         1       1  ...  30.0000   B42         S\n",
              "\n",
              "[233 rows x 12 columns]"
            ]
          },
          "metadata": {
            "tags": []
          },
          "execution_count": 186
        }
      ]
    },
    {
      "cell_type": "code",
      "metadata": {
        "colab": {
          "base_uri": "https://localhost:8080/",
          "height": 407
        },
        "id": "cqGJXfpJk1bt",
        "outputId": "cd1653b9-0c46-4826-adfe-310638b07865"
      },
      "source": [
        "df_titanic.head(1)\n",
        "df_titanic.query('Sex == \"male\" & Survived == 1')"
      ],
      "execution_count": 187,
      "outputs": [
        {
          "output_type": "execute_result",
          "data": {
            "text/html": [
              "<div>\n",
              "<style scoped>\n",
              "    .dataframe tbody tr th:only-of-type {\n",
              "        vertical-align: middle;\n",
              "    }\n",
              "\n",
              "    .dataframe tbody tr th {\n",
              "        vertical-align: top;\n",
              "    }\n",
              "\n",
              "    .dataframe thead th {\n",
              "        text-align: right;\n",
              "    }\n",
              "</style>\n",
              "<table border=\"1\" class=\"dataframe\">\n",
              "  <thead>\n",
              "    <tr style=\"text-align: right;\">\n",
              "      <th></th>\n",
              "      <th>PassengerId</th>\n",
              "      <th>Survived</th>\n",
              "      <th>Pclass</th>\n",
              "      <th>Name</th>\n",
              "      <th>Sex</th>\n",
              "      <th>Age</th>\n",
              "      <th>SibSp</th>\n",
              "      <th>Parch</th>\n",
              "      <th>Ticket</th>\n",
              "      <th>Fare</th>\n",
              "      <th>Cabin</th>\n",
              "      <th>Embarked</th>\n",
              "    </tr>\n",
              "  </thead>\n",
              "  <tbody>\n",
              "    <tr>\n",
              "      <th>17</th>\n",
              "      <td>18</td>\n",
              "      <td>1</td>\n",
              "      <td>2</td>\n",
              "      <td>Williams, Mr. Charles Eugene</td>\n",
              "      <td>male</td>\n",
              "      <td>NaN</td>\n",
              "      <td>0</td>\n",
              "      <td>0</td>\n",
              "      <td>244373</td>\n",
              "      <td>13.0000</td>\n",
              "      <td>NaN</td>\n",
              "      <td>S</td>\n",
              "    </tr>\n",
              "    <tr>\n",
              "      <th>21</th>\n",
              "      <td>22</td>\n",
              "      <td>1</td>\n",
              "      <td>2</td>\n",
              "      <td>Beesley, Mr. Lawrence</td>\n",
              "      <td>male</td>\n",
              "      <td>34.0</td>\n",
              "      <td>0</td>\n",
              "      <td>0</td>\n",
              "      <td>248698</td>\n",
              "      <td>13.0000</td>\n",
              "      <td>D56</td>\n",
              "      <td>S</td>\n",
              "    </tr>\n",
              "    <tr>\n",
              "      <th>23</th>\n",
              "      <td>24</td>\n",
              "      <td>1</td>\n",
              "      <td>1</td>\n",
              "      <td>Sloper, Mr. William Thompson</td>\n",
              "      <td>male</td>\n",
              "      <td>28.0</td>\n",
              "      <td>0</td>\n",
              "      <td>0</td>\n",
              "      <td>113788</td>\n",
              "      <td>35.5000</td>\n",
              "      <td>A6</td>\n",
              "      <td>S</td>\n",
              "    </tr>\n",
              "    <tr>\n",
              "      <th>36</th>\n",
              "      <td>37</td>\n",
              "      <td>1</td>\n",
              "      <td>3</td>\n",
              "      <td>Mamee, Mr. Hanna</td>\n",
              "      <td>male</td>\n",
              "      <td>NaN</td>\n",
              "      <td>0</td>\n",
              "      <td>0</td>\n",
              "      <td>2677</td>\n",
              "      <td>7.2292</td>\n",
              "      <td>NaN</td>\n",
              "      <td>C</td>\n",
              "    </tr>\n",
              "    <tr>\n",
              "      <th>55</th>\n",
              "      <td>56</td>\n",
              "      <td>1</td>\n",
              "      <td>1</td>\n",
              "      <td>Woolner, Mr. Hugh</td>\n",
              "      <td>male</td>\n",
              "      <td>NaN</td>\n",
              "      <td>0</td>\n",
              "      <td>0</td>\n",
              "      <td>19947</td>\n",
              "      <td>35.5000</td>\n",
              "      <td>C52</td>\n",
              "      <td>S</td>\n",
              "    </tr>\n",
              "    <tr>\n",
              "      <th>...</th>\n",
              "      <td>...</td>\n",
              "      <td>...</td>\n",
              "      <td>...</td>\n",
              "      <td>...</td>\n",
              "      <td>...</td>\n",
              "      <td>...</td>\n",
              "      <td>...</td>\n",
              "      <td>...</td>\n",
              "      <td>...</td>\n",
              "      <td>...</td>\n",
              "      <td>...</td>\n",
              "      <td>...</td>\n",
              "    </tr>\n",
              "    <tr>\n",
              "      <th>838</th>\n",
              "      <td>839</td>\n",
              "      <td>1</td>\n",
              "      <td>3</td>\n",
              "      <td>Chip, Mr. Chang</td>\n",
              "      <td>male</td>\n",
              "      <td>32.0</td>\n",
              "      <td>0</td>\n",
              "      <td>0</td>\n",
              "      <td>1601</td>\n",
              "      <td>56.4958</td>\n",
              "      <td>NaN</td>\n",
              "      <td>S</td>\n",
              "    </tr>\n",
              "    <tr>\n",
              "      <th>839</th>\n",
              "      <td>840</td>\n",
              "      <td>1</td>\n",
              "      <td>1</td>\n",
              "      <td>Marechal, Mr. Pierre</td>\n",
              "      <td>male</td>\n",
              "      <td>NaN</td>\n",
              "      <td>0</td>\n",
              "      <td>0</td>\n",
              "      <td>11774</td>\n",
              "      <td>29.7000</td>\n",
              "      <td>C47</td>\n",
              "      <td>C</td>\n",
              "    </tr>\n",
              "    <tr>\n",
              "      <th>857</th>\n",
              "      <td>858</td>\n",
              "      <td>1</td>\n",
              "      <td>1</td>\n",
              "      <td>Daly, Mr. Peter Denis</td>\n",
              "      <td>male</td>\n",
              "      <td>51.0</td>\n",
              "      <td>0</td>\n",
              "      <td>0</td>\n",
              "      <td>113055</td>\n",
              "      <td>26.5500</td>\n",
              "      <td>E17</td>\n",
              "      <td>S</td>\n",
              "    </tr>\n",
              "    <tr>\n",
              "      <th>869</th>\n",
              "      <td>870</td>\n",
              "      <td>1</td>\n",
              "      <td>3</td>\n",
              "      <td>Johnson, Master. Harold Theodor</td>\n",
              "      <td>male</td>\n",
              "      <td>4.0</td>\n",
              "      <td>1</td>\n",
              "      <td>1</td>\n",
              "      <td>347742</td>\n",
              "      <td>11.1333</td>\n",
              "      <td>NaN</td>\n",
              "      <td>S</td>\n",
              "    </tr>\n",
              "    <tr>\n",
              "      <th>889</th>\n",
              "      <td>890</td>\n",
              "      <td>1</td>\n",
              "      <td>1</td>\n",
              "      <td>Behr, Mr. Karl Howell</td>\n",
              "      <td>male</td>\n",
              "      <td>26.0</td>\n",
              "      <td>0</td>\n",
              "      <td>0</td>\n",
              "      <td>111369</td>\n",
              "      <td>30.0000</td>\n",
              "      <td>C148</td>\n",
              "      <td>C</td>\n",
              "    </tr>\n",
              "  </tbody>\n",
              "</table>\n",
              "<p>109 rows × 12 columns</p>\n",
              "</div>"
            ],
            "text/plain": [
              "     PassengerId  Survived  Pclass  ...     Fare Cabin  Embarked\n",
              "17            18         1       2  ...  13.0000   NaN         S\n",
              "21            22         1       2  ...  13.0000   D56         S\n",
              "23            24         1       1  ...  35.5000    A6         S\n",
              "36            37         1       3  ...   7.2292   NaN         C\n",
              "55            56         1       1  ...  35.5000   C52         S\n",
              "..           ...       ...     ...  ...      ...   ...       ...\n",
              "838          839         1       3  ...  56.4958   NaN         S\n",
              "839          840         1       1  ...  29.7000   C47         C\n",
              "857          858         1       1  ...  26.5500   E17         S\n",
              "869          870         1       3  ...  11.1333   NaN         S\n",
              "889          890         1       1  ...  30.0000  C148         C\n",
              "\n",
              "[109 rows x 12 columns]"
            ]
          },
          "metadata": {
            "tags": []
          },
          "execution_count": 187
        }
      ]
    },
    {
      "cell_type": "code",
      "metadata": {
        "colab": {
          "base_uri": "https://localhost:8080/",
          "height": 407
        },
        "id": "9lCkCXKVk1bu",
        "outputId": "895cd511-2646-49f7-b915-779dc1d60c33"
      },
      "source": [
        "df_titanic.head(1)\n",
        "df_titanic.query('Age < 18 & Survived == 1')"
      ],
      "execution_count": 190,
      "outputs": [
        {
          "output_type": "execute_result",
          "data": {
            "text/html": [
              "<div>\n",
              "<style scoped>\n",
              "    .dataframe tbody tr th:only-of-type {\n",
              "        vertical-align: middle;\n",
              "    }\n",
              "\n",
              "    .dataframe tbody tr th {\n",
              "        vertical-align: top;\n",
              "    }\n",
              "\n",
              "    .dataframe thead th {\n",
              "        text-align: right;\n",
              "    }\n",
              "</style>\n",
              "<table border=\"1\" class=\"dataframe\">\n",
              "  <thead>\n",
              "    <tr style=\"text-align: right;\">\n",
              "      <th></th>\n",
              "      <th>PassengerId</th>\n",
              "      <th>Survived</th>\n",
              "      <th>Pclass</th>\n",
              "      <th>Name</th>\n",
              "      <th>Sex</th>\n",
              "      <th>Age</th>\n",
              "      <th>SibSp</th>\n",
              "      <th>Parch</th>\n",
              "      <th>Ticket</th>\n",
              "      <th>Fare</th>\n",
              "      <th>Cabin</th>\n",
              "      <th>Embarked</th>\n",
              "    </tr>\n",
              "  </thead>\n",
              "  <tbody>\n",
              "    <tr>\n",
              "      <th>9</th>\n",
              "      <td>10</td>\n",
              "      <td>1</td>\n",
              "      <td>2</td>\n",
              "      <td>Nasser, Mrs. Nicholas (Adele Achem)</td>\n",
              "      <td>female</td>\n",
              "      <td>14.00</td>\n",
              "      <td>1</td>\n",
              "      <td>0</td>\n",
              "      <td>237736</td>\n",
              "      <td>30.0708</td>\n",
              "      <td>NaN</td>\n",
              "      <td>C</td>\n",
              "    </tr>\n",
              "    <tr>\n",
              "      <th>10</th>\n",
              "      <td>11</td>\n",
              "      <td>1</td>\n",
              "      <td>3</td>\n",
              "      <td>Sandstrom, Miss. Marguerite Rut</td>\n",
              "      <td>female</td>\n",
              "      <td>4.00</td>\n",
              "      <td>1</td>\n",
              "      <td>1</td>\n",
              "      <td>PP 9549</td>\n",
              "      <td>16.7000</td>\n",
              "      <td>G6</td>\n",
              "      <td>S</td>\n",
              "    </tr>\n",
              "    <tr>\n",
              "      <th>22</th>\n",
              "      <td>23</td>\n",
              "      <td>1</td>\n",
              "      <td>3</td>\n",
              "      <td>McGowan, Miss. Anna \"Annie\"</td>\n",
              "      <td>female</td>\n",
              "      <td>15.00</td>\n",
              "      <td>0</td>\n",
              "      <td>0</td>\n",
              "      <td>330923</td>\n",
              "      <td>8.0292</td>\n",
              "      <td>NaN</td>\n",
              "      <td>Q</td>\n",
              "    </tr>\n",
              "    <tr>\n",
              "      <th>39</th>\n",
              "      <td>40</td>\n",
              "      <td>1</td>\n",
              "      <td>3</td>\n",
              "      <td>Nicola-Yarred, Miss. Jamila</td>\n",
              "      <td>female</td>\n",
              "      <td>14.00</td>\n",
              "      <td>1</td>\n",
              "      <td>0</td>\n",
              "      <td>2651</td>\n",
              "      <td>11.2417</td>\n",
              "      <td>NaN</td>\n",
              "      <td>C</td>\n",
              "    </tr>\n",
              "    <tr>\n",
              "      <th>43</th>\n",
              "      <td>44</td>\n",
              "      <td>1</td>\n",
              "      <td>2</td>\n",
              "      <td>Laroche, Miss. Simonne Marie Anne Andree</td>\n",
              "      <td>female</td>\n",
              "      <td>3.00</td>\n",
              "      <td>1</td>\n",
              "      <td>2</td>\n",
              "      <td>SC/Paris 2123</td>\n",
              "      <td>41.5792</td>\n",
              "      <td>NaN</td>\n",
              "      <td>C</td>\n",
              "    </tr>\n",
              "    <tr>\n",
              "      <th>...</th>\n",
              "      <td>...</td>\n",
              "      <td>...</td>\n",
              "      <td>...</td>\n",
              "      <td>...</td>\n",
              "      <td>...</td>\n",
              "      <td>...</td>\n",
              "      <td>...</td>\n",
              "      <td>...</td>\n",
              "      <td>...</td>\n",
              "      <td>...</td>\n",
              "      <td>...</td>\n",
              "      <td>...</td>\n",
              "    </tr>\n",
              "    <tr>\n",
              "      <th>830</th>\n",
              "      <td>831</td>\n",
              "      <td>1</td>\n",
              "      <td>3</td>\n",
              "      <td>Yasbeck, Mrs. Antoni (Selini Alexander)</td>\n",
              "      <td>female</td>\n",
              "      <td>15.00</td>\n",
              "      <td>1</td>\n",
              "      <td>0</td>\n",
              "      <td>2659</td>\n",
              "      <td>14.4542</td>\n",
              "      <td>NaN</td>\n",
              "      <td>C</td>\n",
              "    </tr>\n",
              "    <tr>\n",
              "      <th>831</th>\n",
              "      <td>832</td>\n",
              "      <td>1</td>\n",
              "      <td>2</td>\n",
              "      <td>Richards, Master. George Sibley</td>\n",
              "      <td>male</td>\n",
              "      <td>0.83</td>\n",
              "      <td>1</td>\n",
              "      <td>1</td>\n",
              "      <td>29106</td>\n",
              "      <td>18.7500</td>\n",
              "      <td>NaN</td>\n",
              "      <td>S</td>\n",
              "    </tr>\n",
              "    <tr>\n",
              "      <th>853</th>\n",
              "      <td>854</td>\n",
              "      <td>1</td>\n",
              "      <td>1</td>\n",
              "      <td>Lines, Miss. Mary Conover</td>\n",
              "      <td>female</td>\n",
              "      <td>16.00</td>\n",
              "      <td>0</td>\n",
              "      <td>1</td>\n",
              "      <td>PC 17592</td>\n",
              "      <td>39.4000</td>\n",
              "      <td>D28</td>\n",
              "      <td>S</td>\n",
              "    </tr>\n",
              "    <tr>\n",
              "      <th>869</th>\n",
              "      <td>870</td>\n",
              "      <td>1</td>\n",
              "      <td>3</td>\n",
              "      <td>Johnson, Master. Harold Theodor</td>\n",
              "      <td>male</td>\n",
              "      <td>4.00</td>\n",
              "      <td>1</td>\n",
              "      <td>1</td>\n",
              "      <td>347742</td>\n",
              "      <td>11.1333</td>\n",
              "      <td>NaN</td>\n",
              "      <td>S</td>\n",
              "    </tr>\n",
              "    <tr>\n",
              "      <th>875</th>\n",
              "      <td>876</td>\n",
              "      <td>1</td>\n",
              "      <td>3</td>\n",
              "      <td>Najib, Miss. Adele Kiamie \"Jane\"</td>\n",
              "      <td>female</td>\n",
              "      <td>15.00</td>\n",
              "      <td>0</td>\n",
              "      <td>0</td>\n",
              "      <td>2667</td>\n",
              "      <td>7.2250</td>\n",
              "      <td>NaN</td>\n",
              "      <td>C</td>\n",
              "    </tr>\n",
              "  </tbody>\n",
              "</table>\n",
              "<p>61 rows × 12 columns</p>\n",
              "</div>"
            ],
            "text/plain": [
              "     PassengerId  Survived  Pclass  ...     Fare Cabin  Embarked\n",
              "9             10         1       2  ...  30.0708   NaN         C\n",
              "10            11         1       3  ...  16.7000    G6         S\n",
              "22            23         1       3  ...   8.0292   NaN         Q\n",
              "39            40         1       3  ...  11.2417   NaN         C\n",
              "43            44         1       2  ...  41.5792   NaN         C\n",
              "..           ...       ...     ...  ...      ...   ...       ...\n",
              "830          831         1       3  ...  14.4542   NaN         C\n",
              "831          832         1       2  ...  18.7500   NaN         S\n",
              "853          854         1       1  ...  39.4000   D28         S\n",
              "869          870         1       3  ...  11.1333   NaN         S\n",
              "875          876         1       3  ...   7.2250   NaN         C\n",
              "\n",
              "[61 rows x 12 columns]"
            ]
          },
          "metadata": {
            "tags": []
          },
          "execution_count": 190
        }
      ]
    },
    {
      "cell_type": "code",
      "metadata": {
        "id": "sPZn9A_lk1bu"
      },
      "source": [
        "df_titanic.head(1)\n",
        "df_titanic.query('Sex == \"male\" & Survived == 1')"
      ],
      "execution_count": null,
      "outputs": []
    },
    {
      "cell_type": "code",
      "metadata": {
        "id": "RdJZrYiZk1bu"
      },
      "source": [
        "df_titanic_subset = df_titanic[['Sex','Survived']]"
      ],
      "execution_count": 191,
      "outputs": []
    },
    {
      "cell_type": "code",
      "metadata": {
        "colab": {
          "base_uri": "https://localhost:8080/",
          "height": 198
        },
        "id": "TU7RnwnOk1bu",
        "outputId": "b1b7cd51-7584-4a21-de97-e4d90182f621"
      },
      "source": [
        "df_titanic_subset.head()"
      ],
      "execution_count": 192,
      "outputs": [
        {
          "output_type": "execute_result",
          "data": {
            "text/html": [
              "<div>\n",
              "<style scoped>\n",
              "    .dataframe tbody tr th:only-of-type {\n",
              "        vertical-align: middle;\n",
              "    }\n",
              "\n",
              "    .dataframe tbody tr th {\n",
              "        vertical-align: top;\n",
              "    }\n",
              "\n",
              "    .dataframe thead th {\n",
              "        text-align: right;\n",
              "    }\n",
              "</style>\n",
              "<table border=\"1\" class=\"dataframe\">\n",
              "  <thead>\n",
              "    <tr style=\"text-align: right;\">\n",
              "      <th></th>\n",
              "      <th>Sex</th>\n",
              "      <th>Survived</th>\n",
              "    </tr>\n",
              "  </thead>\n",
              "  <tbody>\n",
              "    <tr>\n",
              "      <th>0</th>\n",
              "      <td>male</td>\n",
              "      <td>0</td>\n",
              "    </tr>\n",
              "    <tr>\n",
              "      <th>1</th>\n",
              "      <td>female</td>\n",
              "      <td>1</td>\n",
              "    </tr>\n",
              "    <tr>\n",
              "      <th>2</th>\n",
              "      <td>female</td>\n",
              "      <td>1</td>\n",
              "    </tr>\n",
              "    <tr>\n",
              "      <th>3</th>\n",
              "      <td>female</td>\n",
              "      <td>1</td>\n",
              "    </tr>\n",
              "    <tr>\n",
              "      <th>4</th>\n",
              "      <td>male</td>\n",
              "      <td>0</td>\n",
              "    </tr>\n",
              "  </tbody>\n",
              "</table>\n",
              "</div>"
            ],
            "text/plain": [
              "      Sex  Survived\n",
              "0    male         0\n",
              "1  female         1\n",
              "2  female         1\n",
              "3  female         1\n",
              "4    male         0"
            ]
          },
          "metadata": {
            "tags": []
          },
          "execution_count": 192
        }
      ]
    },
    {
      "cell_type": "markdown",
      "metadata": {
        "id": "r21pXp_Bk1bu"
      },
      "source": [
        "## Funciones de Agregación\n",
        "\n",
        "Utilizando Pandas podemos aplicar funciones a nivel de columna. Algunas funciones predefinidas son la media, el desvío estándar y la sumatoria, el valor máximo y el mínimo.\n",
        "\n",
        "Algunas de las funciones de agregación más comunes son:\n",
        "\n",
        "<ul>\n",
        "    <li>min</li>\n",
        "    <li>max</li>\n",
        "    <li>count</li>\n",
        "    <li>sum</li>\n",
        "    <li>prod</li>\n",
        "    <li>mean</li>\n",
        "    <li>median</li>\n",
        "    <li>mode</li>\n",
        "    <li>std</li>\n",
        "    <li>var</li>\n",
        "</ul>\n",
        "\n",
        "\n"
      ]
    },
    {
      "cell_type": "code",
      "metadata": {
        "colab": {
          "base_uri": "https://localhost:8080/"
        },
        "id": "w5IoYeQuk1bv",
        "outputId": "846c61bf-2310-404d-a669-db5d88ec483e"
      },
      "source": [
        "df['mes'].max()"
      ],
      "execution_count": 193,
      "outputs": [
        {
          "output_type": "execute_result",
          "data": {
            "text/plain": [
              "12"
            ]
          },
          "metadata": {
            "tags": []
          },
          "execution_count": 193
        }
      ]
    },
    {
      "cell_type": "code",
      "metadata": {
        "colab": {
          "base_uri": "https://localhost:8080/"
        },
        "id": "0DuGrZVVk1bv",
        "outputId": "54f73592-43a5-4c20-9979-3e1c74abec8d"
      },
      "source": [
        "df['asignacion_por_cargo_i'].mean()"
      ],
      "execution_count": 194,
      "outputs": [
        {
          "output_type": "execute_result",
          "data": {
            "text/plain": [
              "234234.3679999999"
            ]
          },
          "metadata": {
            "tags": []
          },
          "execution_count": 194
        }
      ]
    },
    {
      "cell_type": "code",
      "metadata": {
        "colab": {
          "base_uri": "https://localhost:8080/"
        },
        "id": "iskQgTwwk1bv",
        "outputId": "96b1c8e6-7413-428f-dbcc-4dd3a0fb2f3d"
      },
      "source": [
        "df['asignacion_por_cargo_i'].std()"
      ],
      "execution_count": 195,
      "outputs": [
        {
          "output_type": "execute_result",
          "data": {
            "text/plain": [
              "35043.16008466176"
            ]
          },
          "metadata": {
            "tags": []
          },
          "execution_count": 195
        }
      ]
    },
    {
      "cell_type": "code",
      "metadata": {
        "colab": {
          "base_uri": "https://localhost:8080/"
        },
        "id": "rwN-MsPak1bv",
        "outputId": "248f6227-1977-4786-82e7-4cf723e47773"
      },
      "source": [
        "df['total_salario_bruto_i_+_ii'].sum()"
      ],
      "execution_count": 196,
      "outputs": [
        {
          "output_type": "execute_result",
          "data": {
            "text/plain": [
              "97988834.36000001"
            ]
          },
          "metadata": {
            "tags": []
          },
          "execution_count": 196
        }
      ]
    },
    {
      "cell_type": "markdown",
      "metadata": {
        "id": "2rFNq3Mbk1bw"
      },
      "source": [
        "Podemos combinar los filtros que vimos antes con las funciones de agregación para responder preguntas cómo ¿Cuál fue en gasto en asignaciones de funcionarios para la Secretaría de Medios 2019? ¿Y para la de Justicia y Seguridad?"
      ]
    },
    {
      "cell_type": "code",
      "metadata": {
        "colab": {
          "base_uri": "https://localhost:8080/"
        },
        "id": "1py4JM3ck1bw",
        "outputId": "6e865e66-6de2-499d-f4ff-688a1236cf5a"
      },
      "source": [
        "df[df['reparticion'] == 'SECR de Medios']['total_salario_bruto_i_+_ii'].sum()"
      ],
      "execution_count": 197,
      "outputs": [
        {
          "output_type": "execute_result",
          "data": {
            "text/plain": [
              "3232402.25"
            ]
          },
          "metadata": {
            "tags": []
          },
          "execution_count": 197
        }
      ]
    },
    {
      "cell_type": "code",
      "metadata": {
        "colab": {
          "base_uri": "https://localhost:8080/"
        },
        "id": "OYgpC--hk1bw",
        "outputId": "4b13feb8-5641-4d07-b712-5c88f4df48b2"
      },
      "source": [
        "df[df['reparticion'] == 'SECR Justicia y Seguridad']['total_salario_bruto_i_+_ii'].sum()"
      ],
      "execution_count": 198,
      "outputs": [
        {
          "output_type": "execute_result",
          "data": {
            "text/plain": [
              "3029551.7300000004"
            ]
          },
          "metadata": {
            "tags": []
          },
          "execution_count": 198
        }
      ]
    },
    {
      "cell_type": "markdown",
      "metadata": {
        "id": "1f8AXZock1bw"
      },
      "source": [
        "Ahora respondamos algunas preguntas: ¿Quién o quiénes del dataset cobran el salario más alto? ¿Y el más bajo?"
      ]
    },
    {
      "cell_type": "code",
      "metadata": {
        "scrolled": true,
        "colab": {
          "base_uri": "https://localhost:8080/",
          "height": 150
        },
        "id": "vK3j81Kvk1bw",
        "outputId": "300b47fa-e4fe-4fc0-af0b-598ce91e586a"
      },
      "source": [
        "df[df['total_salario_bruto_i_+_ii'] == df['total_salario_bruto_i_+_ii'].max()]"
      ],
      "execution_count": 199,
      "outputs": [
        {
          "output_type": "execute_result",
          "data": {
            "text/html": [
              "<div>\n",
              "<style scoped>\n",
              "    .dataframe tbody tr th:only-of-type {\n",
              "        vertical-align: middle;\n",
              "    }\n",
              "\n",
              "    .dataframe tbody tr th {\n",
              "        vertical-align: top;\n",
              "    }\n",
              "\n",
              "    .dataframe thead th {\n",
              "        text-align: right;\n",
              "    }\n",
              "</style>\n",
              "<table border=\"1\" class=\"dataframe\">\n",
              "  <thead>\n",
              "    <tr style=\"text-align: right;\">\n",
              "      <th></th>\n",
              "      <th>cuil</th>\n",
              "      <th>anio</th>\n",
              "      <th>mes</th>\n",
              "      <th>funcionario_apellido</th>\n",
              "      <th>funcionario_nombre</th>\n",
              "      <th>reparticion</th>\n",
              "      <th>asignacion_por_cargo_i</th>\n",
              "      <th>aguinaldo_ii</th>\n",
              "      <th>total_salario_bruto_i_+_ii</th>\n",
              "      <th>observaciones</th>\n",
              "    </tr>\n",
              "  </thead>\n",
              "  <tbody>\n",
              "    <tr>\n",
              "      <th>374</th>\n",
              "      <td>20-13872301-2</td>\n",
              "      <td>2019</td>\n",
              "      <td>12</td>\n",
              "      <td>ASTARLOA</td>\n",
              "      <td>GABRIEL MARIA</td>\n",
              "      <td>Procuración General de la Ciudad de Buenos Aires</td>\n",
              "      <td>275089.75</td>\n",
              "      <td>170855.56</td>\n",
              "      <td>445945.31</td>\n",
              "      <td>NaN</td>\n",
              "    </tr>\n",
              "  </tbody>\n",
              "</table>\n",
              "</div>"
            ],
            "text/plain": [
              "              cuil  anio  ...  total_salario_bruto_i_+_ii observaciones\n",
              "374  20-13872301-2  2019  ...                   445945.31           NaN\n",
              "\n",
              "[1 rows x 10 columns]"
            ]
          },
          "metadata": {
            "tags": []
          },
          "execution_count": 199
        }
      ]
    },
    {
      "cell_type": "code",
      "metadata": {
        "scrolled": true,
        "colab": {
          "base_uri": "https://localhost:8080/",
          "height": 525
        },
        "id": "lfNvmXEdk1bx",
        "outputId": "0a43c3ed-908e-46c9-ba9c-c1ee2e72a7dd"
      },
      "source": [
        "df[df['total_salario_bruto_i_+_ii'] == df['total_salario_bruto_i_+_ii'].min()]"
      ],
      "execution_count": 200,
      "outputs": [
        {
          "output_type": "execute_result",
          "data": {
            "text/html": [
              "<div>\n",
              "<style scoped>\n",
              "    .dataframe tbody tr th:only-of-type {\n",
              "        vertical-align: middle;\n",
              "    }\n",
              "\n",
              "    .dataframe tbody tr th {\n",
              "        vertical-align: top;\n",
              "    }\n",
              "\n",
              "    .dataframe thead th {\n",
              "        text-align: right;\n",
              "    }\n",
              "</style>\n",
              "<table border=\"1\" class=\"dataframe\">\n",
              "  <thead>\n",
              "    <tr style=\"text-align: right;\">\n",
              "      <th></th>\n",
              "      <th>cuil</th>\n",
              "      <th>anio</th>\n",
              "      <th>mes</th>\n",
              "      <th>funcionario_apellido</th>\n",
              "      <th>funcionario_nombre</th>\n",
              "      <th>reparticion</th>\n",
              "      <th>asignacion_por_cargo_i</th>\n",
              "      <th>aguinaldo_ii</th>\n",
              "      <th>total_salario_bruto_i_+_ii</th>\n",
              "      <th>observaciones</th>\n",
              "    </tr>\n",
              "  </thead>\n",
              "  <tbody>\n",
              "    <tr>\n",
              "      <th>344</th>\n",
              "      <td>27-30744939-6</td>\n",
              "      <td>2019</td>\n",
              "      <td>12</td>\n",
              "      <td>FERRERO</td>\n",
              "      <td>GENOVEVA</td>\n",
              "      <td>SECR Administración de Seguridad y Emergencias</td>\n",
              "      <td>74991.86</td>\n",
              "      <td>110404.68</td>\n",
              "      <td>185396.54</td>\n",
              "      <td>baja al 9/12</td>\n",
              "    </tr>\n",
              "    <tr>\n",
              "      <th>348</th>\n",
              "      <td>20-22709722-2</td>\n",
              "      <td>2019</td>\n",
              "      <td>12</td>\n",
              "      <td>LOPEZ</td>\n",
              "      <td>MATIAS</td>\n",
              "      <td>SECR Desarrollo Ciudadano</td>\n",
              "      <td>74991.86</td>\n",
              "      <td>110404.68</td>\n",
              "      <td>185396.54</td>\n",
              "      <td>baja al 9/12</td>\n",
              "    </tr>\n",
              "    <tr>\n",
              "      <th>354</th>\n",
              "      <td>20-20008464-1</td>\n",
              "      <td>2019</td>\n",
              "      <td>12</td>\n",
              "      <td>GIUSTI</td>\n",
              "      <td>JOSE LUIS</td>\n",
              "      <td>UPE Transferencia de Funciones y Facultades en...</td>\n",
              "      <td>74991.86</td>\n",
              "      <td>110404.68</td>\n",
              "      <td>185396.54</td>\n",
              "      <td>baja al 9/12</td>\n",
              "    </tr>\n",
              "    <tr>\n",
              "      <th>358</th>\n",
              "      <td>20-31164337-2</td>\n",
              "      <td>2019</td>\n",
              "      <td>12</td>\n",
              "      <td>DI BENEDETTO</td>\n",
              "      <td>FEDERICO</td>\n",
              "      <td>SS Comunicacion</td>\n",
              "      <td>74991.86</td>\n",
              "      <td>110404.68</td>\n",
              "      <td>185396.54</td>\n",
              "      <td>baja al 9/12</td>\n",
              "    </tr>\n",
              "    <tr>\n",
              "      <th>360</th>\n",
              "      <td>20-28908968-4</td>\n",
              "      <td>2019</td>\n",
              "      <td>12</td>\n",
              "      <td>COELHO CHICANO</td>\n",
              "      <td>CHRISTIAN</td>\n",
              "      <td>SS Contenidos</td>\n",
              "      <td>74991.86</td>\n",
              "      <td>110404.68</td>\n",
              "      <td>185396.54</td>\n",
              "      <td>baja al 9/12</td>\n",
              "    </tr>\n",
              "    <tr>\n",
              "      <th>362</th>\n",
              "      <td>20-24424714-9</td>\n",
              "      <td>2019</td>\n",
              "      <td>12</td>\n",
              "      <td>D'ALESSANDRO</td>\n",
              "      <td>MARCELO SILVIO</td>\n",
              "      <td>SECR Justicia y Seguridad</td>\n",
              "      <td>74991.86</td>\n",
              "      <td>110404.68</td>\n",
              "      <td>185396.54</td>\n",
              "      <td>baja al 9/12</td>\n",
              "    </tr>\n",
              "  </tbody>\n",
              "</table>\n",
              "</div>"
            ],
            "text/plain": [
              "              cuil  anio  ...  total_salario_bruto_i_+_ii observaciones\n",
              "344  27-30744939-6  2019  ...                   185396.54  baja al 9/12\n",
              "348  20-22709722-2  2019  ...                   185396.54  baja al 9/12\n",
              "354  20-20008464-1  2019  ...                   185396.54  baja al 9/12\n",
              "358  20-31164337-2  2019  ...                   185396.54  baja al 9/12\n",
              "360  20-28908968-4  2019  ...                   185396.54  baja al 9/12\n",
              "362  20-24424714-9  2019  ...                   185396.54  baja al 9/12\n",
              "\n",
              "[6 rows x 10 columns]"
            ]
          },
          "metadata": {
            "tags": []
          },
          "execution_count": 200
        }
      ]
    },
    {
      "cell_type": "markdown",
      "metadata": {
        "id": "KPE-AoP3k1bx"
      },
      "source": [
        "# Otros análisis descriptivos\n",
        "\n",
        "Pandas viene con algunas funciones built-in para ayudar al análisis descriptivo.\n",
        "\n",
        "## Para las variables numéricas"
      ]
    },
    {
      "cell_type": "code",
      "metadata": {
        "colab": {
          "base_uri": "https://localhost:8080/",
          "height": 288
        },
        "id": "VSbqWc44k1bx",
        "outputId": "bb053c43-dcb0-4f9d-f379-52e0fd124f8f"
      },
      "source": [
        "df[['asignacion_por_cargo_i','aguinaldo_ii','total_salario_bruto_i_+_ii']].describe()"
      ],
      "execution_count": 203,
      "outputs": [
        {
          "output_type": "execute_result",
          "data": {
            "text/html": [
              "<div>\n",
              "<style scoped>\n",
              "    .dataframe tbody tr th:only-of-type {\n",
              "        vertical-align: middle;\n",
              "    }\n",
              "\n",
              "    .dataframe tbody tr th {\n",
              "        vertical-align: top;\n",
              "    }\n",
              "\n",
              "    .dataframe thead th {\n",
              "        text-align: right;\n",
              "    }\n",
              "</style>\n",
              "<table border=\"1\" class=\"dataframe\">\n",
              "  <thead>\n",
              "    <tr style=\"text-align: right;\">\n",
              "      <th></th>\n",
              "      <th>asignacion_por_cargo_i</th>\n",
              "      <th>aguinaldo_ii</th>\n",
              "      <th>total_salario_bruto_i_+_ii</th>\n",
              "    </tr>\n",
              "  </thead>\n",
              "  <tbody>\n",
              "    <tr>\n",
              "      <th>count</th>\n",
              "      <td>385.000000</td>\n",
              "      <td>385.000000</td>\n",
              "      <td>385.000000</td>\n",
              "    </tr>\n",
              "    <tr>\n",
              "      <th>mean</th>\n",
              "      <td>234234.368000</td>\n",
              "      <td>20282.084883</td>\n",
              "      <td>254516.452883</td>\n",
              "    </tr>\n",
              "    <tr>\n",
              "      <th>std</th>\n",
              "      <td>35043.160085</td>\n",
              "      <td>45248.840725</td>\n",
              "      <td>51434.987870</td>\n",
              "    </tr>\n",
              "    <tr>\n",
              "      <th>min</th>\n",
              "      <td>74991.860000</td>\n",
              "      <td>0.000000</td>\n",
              "      <td>185396.540000</td>\n",
              "    </tr>\n",
              "    <tr>\n",
              "      <th>25%</th>\n",
              "      <td>224516.620000</td>\n",
              "      <td>0.000000</td>\n",
              "      <td>224516.620000</td>\n",
              "    </tr>\n",
              "    <tr>\n",
              "      <th>50%</th>\n",
              "      <td>239470.360000</td>\n",
              "      <td>0.000000</td>\n",
              "      <td>245811.620000</td>\n",
              "    </tr>\n",
              "    <tr>\n",
              "      <th>75%</th>\n",
              "      <td>249972.870000</td>\n",
              "      <td>0.000000</td>\n",
              "      <td>263531.980000</td>\n",
              "    </tr>\n",
              "    <tr>\n",
              "      <th>max</th>\n",
              "      <td>275089.750000</td>\n",
              "      <td>170855.560000</td>\n",
              "      <td>445945.310000</td>\n",
              "    </tr>\n",
              "  </tbody>\n",
              "</table>\n",
              "</div>"
            ],
            "text/plain": [
              "       asignacion_por_cargo_i   aguinaldo_ii  total_salario_bruto_i_+_ii\n",
              "count              385.000000     385.000000                  385.000000\n",
              "mean            234234.368000   20282.084883               254516.452883\n",
              "std              35043.160085   45248.840725                51434.987870\n",
              "min              74991.860000       0.000000               185396.540000\n",
              "25%             224516.620000       0.000000               224516.620000\n",
              "50%             239470.360000       0.000000               245811.620000\n",
              "75%             249972.870000       0.000000               263531.980000\n",
              "max             275089.750000  170855.560000               445945.310000"
            ]
          },
          "metadata": {
            "tags": []
          },
          "execution_count": 203
        }
      ]
    },
    {
      "cell_type": "markdown",
      "metadata": {
        "id": "eTYtUQxwk1bx"
      },
      "source": [
        "## Para las variables categóricas\n"
      ]
    },
    {
      "cell_type": "code",
      "metadata": {
        "colab": {
          "base_uri": "https://localhost:8080/"
        },
        "id": "5ZjZPjTkk1by",
        "outputId": "8d861851-3b4d-43ab-fac7-8753ed54c633"
      },
      "source": [
        "df['reparticion'].value_counts()"
      ],
      "execution_count": 204,
      "outputs": [
        {
          "output_type": "execute_result",
          "data": {
            "text/plain": [
              "SECR Justicia y Seguridad                                         13\n",
              "SECR Desarrollo Ciudadano                                         13\n",
              "SECR de Medios                                                    13\n",
              "Ministerio de Salud                                               13\n",
              "SS Contenidos                                                     12\n",
              "Jefatura de Gabinete de Ministros                                 12\n",
              "Vicejefatura de Gobierno                                          12\n",
              "SECR Integración Social Para Personas Mayores                     12\n",
              "SECR Legal y Técnica                                              12\n",
              "SS Comunicacion                                                   12\n",
              "SECR Integración Social y Urbana                                  12\n",
              "SECR Planificación, Evaluación y Coordinación de Gestión          12\n",
              "SECR Administración de Seguridad y Emergencias                    12\n",
              "Ministerio de Gobierno                                            12\n",
              "Ministerio de Cultura                                             12\n",
              "Jefe de Gobierno                                                  12\n",
              "UPE Transferencia de Funciones y Facultades en Materia de Seg.    12\n",
              "Sindicatura General de la Ciudad de Buenos Aires                  12\n",
              "Consejo de los Derechos de Niñas, Niños y Adoles - Presidencia    12\n",
              "Ente de Turismo Ley Nº 2627                                       12\n",
              "Procuración General de la Ciudad de Buenos Aires                  12\n",
              "Ministerio de Desarrollo Urbano y Transporte                      12\n",
              "SECR Coordinación General                                         11\n",
              "Ministerio de Economía y Finanzas                                 11\n",
              "Ministerio de Hábitat y Desarrollo Humano                         11\n",
              "SECR Atención y Gestión Ciudadana                                 11\n",
              "SECR Cultura Ciudadana y Función Pública                          11\n",
              "SECR Transporte                                                   11\n",
              "SECR General y de Relaciones Internacionales                      11\n",
              "Ministerio de Ambiente y Espacio Público                          11\n",
              "Ministerio de Educación e Innovación                              11\n",
              "Ministerio de Desarrollo Humano y Hábitat                          2\n",
              "Ministerio de Espacio Público e Higiene Urbana                     2\n",
              "SECR Ciencia, Tecnologia e Innovacion                              2\n",
              "SECR Comunicación, Contenidos y Participación Ciudadana            1\n",
              "Ministerio de Hacienda y Finanzas                                  1\n",
              "SECR Transformación Cultural                                       1\n",
              "SECR Transporte y Obras Públicas                                   1\n",
              "SECR Ambiente                                                      1\n",
              "SECR Innovación y Transformación Digital                           1\n",
              "SECR Asuntos Estratégicos                                          1\n",
              "SECR General y Relaciones Internacionales                          1\n",
              "SECR Desarrollo Urbano                                             1\n",
              "Ministerio de Educación                                            1\n",
              "Ministerio de Desarrollo Económico y Producción                    1\n",
              "SECR Atención Ciudadana y Gestión Comunal                          1\n",
              "Name: reparticion, dtype: int64"
            ]
          },
          "metadata": {
            "tags": []
          },
          "execution_count": 204
        }
      ]
    },
    {
      "cell_type": "markdown",
      "metadata": {
        "id": "ZiXHmVXGk1by"
      },
      "source": [
        "### Ejercicio: Volviendo al ejemplo del Titanic.\n",
        "\n",
        "1) ¿Cuál era la edad promedio de los pasajeros de cada clase (Pclass)?\n",
        "\n",
        "2) ¿Cuál fue la tarifa que pagaron en promedio los hombres? ¿Y las mujeres?\n",
        "\n",
        "3) ¿Cuánto pagaron en total los pasajeros de primera clase para subir al Titanic? ¿Y los de tercera?\n",
        "\n",
        "4) ¿Cuántos pasajeros había en cada tipo de clase?"
      ]
    },
    {
      "cell_type": "code",
      "metadata": {
        "colab": {
          "base_uri": "https://localhost:8080/",
          "height": 78
        },
        "id": "4GkRYSRfk1by",
        "outputId": "eb8c4910-65b5-4121-c626-230123a576e5"
      },
      "source": [
        "df_titanic.head(1)"
      ],
      "execution_count": 205,
      "outputs": [
        {
          "output_type": "execute_result",
          "data": {
            "text/html": [
              "<div>\n",
              "<style scoped>\n",
              "    .dataframe tbody tr th:only-of-type {\n",
              "        vertical-align: middle;\n",
              "    }\n",
              "\n",
              "    .dataframe tbody tr th {\n",
              "        vertical-align: top;\n",
              "    }\n",
              "\n",
              "    .dataframe thead th {\n",
              "        text-align: right;\n",
              "    }\n",
              "</style>\n",
              "<table border=\"1\" class=\"dataframe\">\n",
              "  <thead>\n",
              "    <tr style=\"text-align: right;\">\n",
              "      <th></th>\n",
              "      <th>PassengerId</th>\n",
              "      <th>Survived</th>\n",
              "      <th>Pclass</th>\n",
              "      <th>Name</th>\n",
              "      <th>Sex</th>\n",
              "      <th>Age</th>\n",
              "      <th>SibSp</th>\n",
              "      <th>Parch</th>\n",
              "      <th>Ticket</th>\n",
              "      <th>Fare</th>\n",
              "      <th>Cabin</th>\n",
              "      <th>Embarked</th>\n",
              "    </tr>\n",
              "  </thead>\n",
              "  <tbody>\n",
              "    <tr>\n",
              "      <th>0</th>\n",
              "      <td>1</td>\n",
              "      <td>0</td>\n",
              "      <td>3</td>\n",
              "      <td>Braund, Mr. Owen Harris</td>\n",
              "      <td>male</td>\n",
              "      <td>22.0</td>\n",
              "      <td>1</td>\n",
              "      <td>0</td>\n",
              "      <td>A/5 21171</td>\n",
              "      <td>7.25</td>\n",
              "      <td>NaN</td>\n",
              "      <td>S</td>\n",
              "    </tr>\n",
              "  </tbody>\n",
              "</table>\n",
              "</div>"
            ],
            "text/plain": [
              "   PassengerId  Survived  Pclass  ...  Fare Cabin  Embarked\n",
              "0            1         0       3  ...  7.25   NaN         S\n",
              "\n",
              "[1 rows x 12 columns]"
            ]
          },
          "metadata": {
            "tags": []
          },
          "execution_count": 205
        }
      ]
    },
    {
      "cell_type": "code",
      "metadata": {
        "colab": {
          "base_uri": "https://localhost:8080/"
        },
        "id": "Ej7RvjHMk1bz",
        "outputId": "b35a79c7-14d3-4387-96fa-ebc0028a7103"
      },
      "source": [
        "# 1) ¿Cuál era la edad promedio de los pasajeros de cada clase (Pclass)?\n",
        "df_titanic.groupby('Pclass')['Age'].mean()"
      ],
      "execution_count": 207,
      "outputs": [
        {
          "output_type": "execute_result",
          "data": {
            "text/plain": [
              "Pclass\n",
              "1    38.233441\n",
              "2    29.877630\n",
              "3    25.140620\n",
              "Name: Age, dtype: float64"
            ]
          },
          "metadata": {
            "tags": []
          },
          "execution_count": 207
        }
      ]
    },
    {
      "cell_type": "code",
      "metadata": {
        "colab": {
          "base_uri": "https://localhost:8080/"
        },
        "id": "MygNfXXwk1bz",
        "outputId": "cdcf9243-111c-43db-9f26-e99648e9dd21"
      },
      "source": [
        "# 2) ¿Cuál fue la tarifa que pagaron en promedio los hombres? ¿Y las mujeres?\n",
        "df_titanic.groupby('Sex')['Fare'].mean()"
      ],
      "execution_count": 208,
      "outputs": [
        {
          "output_type": "execute_result",
          "data": {
            "text/plain": [
              "Sex\n",
              "female    44.479818\n",
              "male      25.523893\n",
              "Name: Fare, dtype: float64"
            ]
          },
          "metadata": {
            "tags": []
          },
          "execution_count": 208
        }
      ]
    },
    {
      "cell_type": "code",
      "metadata": {
        "colab": {
          "base_uri": "https://localhost:8080/"
        },
        "id": "rGGlOlThk1bz",
        "outputId": "f94752ab-54fe-4a55-e3d5-35cb147dceee"
      },
      "source": [
        "# 3) ¿Cuánto pagaron en total los pasajeros de primera clase para subir al Titanic? ¿Y los de tercera?\n",
        "df_titanic.groupby('Pclass')['Fare'].sum()"
      ],
      "execution_count": 211,
      "outputs": [
        {
          "output_type": "execute_result",
          "data": {
            "text/plain": [
              "Pclass\n",
              "1    18177.4125\n",
              "2     3801.8417\n",
              "3     6714.6951\n",
              "Name: Fare, dtype: float64"
            ]
          },
          "metadata": {
            "tags": []
          },
          "execution_count": 211
        }
      ]
    },
    {
      "cell_type": "code",
      "metadata": {
        "colab": {
          "base_uri": "https://localhost:8080/"
        },
        "id": "eFf29Japk1b0",
        "outputId": "54329f95-4bfa-432b-d7b2-c75aaba751cc"
      },
      "source": [
        "# 4) ¿Cuántos pasajeros había en cada tipo de clase?\n",
        "df_titanic['Pclass'].value_counts()"
      ],
      "execution_count": 213,
      "outputs": [
        {
          "output_type": "execute_result",
          "data": {
            "text/plain": [
              "3    491\n",
              "1    216\n",
              "2    184\n",
              "Name: Pclass, dtype: int64"
            ]
          },
          "metadata": {
            "tags": []
          },
          "execution_count": 213
        }
      ]
    },
    {
      "cell_type": "code",
      "metadata": {
        "colab": {
          "base_uri": "https://localhost:8080/"
        },
        "id": "o4UKilUOk1b0",
        "outputId": "fa19b676-2513-45af-be69-7efe7599959e"
      },
      "source": [
        "df_titanic.groupby('Pclass')['Sex'].value_counts()"
      ],
      "execution_count": 214,
      "outputs": [
        {
          "output_type": "execute_result",
          "data": {
            "text/plain": [
              "Pclass  Sex   \n",
              "1       male      122\n",
              "        female     94\n",
              "2       male      108\n",
              "        female     76\n",
              "3       male      347\n",
              "        female    144\n",
              "Name: Sex, dtype: int64"
            ]
          },
          "metadata": {
            "tags": []
          },
          "execution_count": 214
        }
      ]
    },
    {
      "cell_type": "code",
      "metadata": {
        "id": "EgO4XCkzk1b0"
      },
      "source": [
        ""
      ],
      "execution_count": null,
      "outputs": []
    },
    {
      "cell_type": "code",
      "metadata": {
        "id": "PCVpjwNek1b0"
      },
      "source": [
        ""
      ],
      "execution_count": null,
      "outputs": []
    },
    {
      "cell_type": "code",
      "metadata": {
        "id": "uoFLDTU_k1b1"
      },
      "source": [
        ""
      ],
      "execution_count": null,
      "outputs": []
    },
    {
      "cell_type": "markdown",
      "metadata": {
        "id": "ebxIExqKk1b1"
      },
      "source": [
        "## Ordenar por columnas y limitar la cantidad de resultados"
      ]
    },
    {
      "cell_type": "markdown",
      "metadata": {
        "id": "ZWnIZtVCk1b1"
      },
      "source": [
        "Otra forma de resolver el problema de encontrar el mayor y el menos es con el método sort_values. Este método puede recibir un valor único (nombre de columna) o una lista (con varias columnas) y un orden asc o desc. Por default el orden es asc.\n",
        "\n",
        "Si combinamos el ordenamiento con el método head() para limitar la cantidad de resultados, podemos encontrar los N primeros. "
      ]
    },
    {
      "cell_type": "code",
      "metadata": {
        "id": "vYryxcjKk1b2"
      },
      "source": [
        "# Recordemos cómo abrir la documentación de un método\n",
        "df.sort_values?"
      ],
      "execution_count": 215,
      "outputs": []
    },
    {
      "cell_type": "code",
      "metadata": {
        "colab": {
          "base_uri": "https://localhost:8080/",
          "height": 150
        },
        "id": "sIpQZSqxk1b2",
        "outputId": "c507dfc5-3f1c-4491-cf89-e3c10c4bec84"
      },
      "source": [
        "# Calculamos el máximo\n",
        "df.sort_values('total_salario_bruto_i_+_ii',ascending=False).head(1)"
      ],
      "execution_count": 216,
      "outputs": [
        {
          "output_type": "execute_result",
          "data": {
            "text/html": [
              "<div>\n",
              "<style scoped>\n",
              "    .dataframe tbody tr th:only-of-type {\n",
              "        vertical-align: middle;\n",
              "    }\n",
              "\n",
              "    .dataframe tbody tr th {\n",
              "        vertical-align: top;\n",
              "    }\n",
              "\n",
              "    .dataframe thead th {\n",
              "        text-align: right;\n",
              "    }\n",
              "</style>\n",
              "<table border=\"1\" class=\"dataframe\">\n",
              "  <thead>\n",
              "    <tr style=\"text-align: right;\">\n",
              "      <th></th>\n",
              "      <th>cuil</th>\n",
              "      <th>anio</th>\n",
              "      <th>mes</th>\n",
              "      <th>funcionario_apellido</th>\n",
              "      <th>funcionario_nombre</th>\n",
              "      <th>reparticion</th>\n",
              "      <th>asignacion_por_cargo_i</th>\n",
              "      <th>aguinaldo_ii</th>\n",
              "      <th>total_salario_bruto_i_+_ii</th>\n",
              "      <th>observaciones</th>\n",
              "    </tr>\n",
              "  </thead>\n",
              "  <tbody>\n",
              "    <tr>\n",
              "      <th>374</th>\n",
              "      <td>20-13872301-2</td>\n",
              "      <td>2019</td>\n",
              "      <td>12</td>\n",
              "      <td>ASTARLOA</td>\n",
              "      <td>GABRIEL MARIA</td>\n",
              "      <td>Procuración General de la Ciudad de Buenos Aires</td>\n",
              "      <td>275089.75</td>\n",
              "      <td>170855.56</td>\n",
              "      <td>445945.31</td>\n",
              "      <td>NaN</td>\n",
              "    </tr>\n",
              "  </tbody>\n",
              "</table>\n",
              "</div>"
            ],
            "text/plain": [
              "              cuil  anio  ...  total_salario_bruto_i_+_ii observaciones\n",
              "374  20-13872301-2  2019  ...                   445945.31           NaN\n",
              "\n",
              "[1 rows x 10 columns]"
            ]
          },
          "metadata": {
            "tags": []
          },
          "execution_count": 216
        }
      ]
    },
    {
      "cell_type": "code",
      "metadata": {
        "colab": {
          "base_uri": "https://localhost:8080/",
          "height": 167
        },
        "id": "jeI6eAank1b2",
        "outputId": "d8d8507d-81af-4c39-f32e-eec8dbfbb209"
      },
      "source": [
        "# Calculamos el mínimo\n",
        "df.sort_values('total_salario_bruto_i_+_ii').head(1)"
      ],
      "execution_count": 217,
      "outputs": [
        {
          "output_type": "execute_result",
          "data": {
            "text/html": [
              "<div>\n",
              "<style scoped>\n",
              "    .dataframe tbody tr th:only-of-type {\n",
              "        vertical-align: middle;\n",
              "    }\n",
              "\n",
              "    .dataframe tbody tr th {\n",
              "        vertical-align: top;\n",
              "    }\n",
              "\n",
              "    .dataframe thead th {\n",
              "        text-align: right;\n",
              "    }\n",
              "</style>\n",
              "<table border=\"1\" class=\"dataframe\">\n",
              "  <thead>\n",
              "    <tr style=\"text-align: right;\">\n",
              "      <th></th>\n",
              "      <th>cuil</th>\n",
              "      <th>anio</th>\n",
              "      <th>mes</th>\n",
              "      <th>funcionario_apellido</th>\n",
              "      <th>funcionario_nombre</th>\n",
              "      <th>reparticion</th>\n",
              "      <th>asignacion_por_cargo_i</th>\n",
              "      <th>aguinaldo_ii</th>\n",
              "      <th>total_salario_bruto_i_+_ii</th>\n",
              "      <th>observaciones</th>\n",
              "    </tr>\n",
              "  </thead>\n",
              "  <tbody>\n",
              "    <tr>\n",
              "      <th>344</th>\n",
              "      <td>27-30744939-6</td>\n",
              "      <td>2019</td>\n",
              "      <td>12</td>\n",
              "      <td>FERRERO</td>\n",
              "      <td>GENOVEVA</td>\n",
              "      <td>SECR Administración de Seguridad y Emergencias</td>\n",
              "      <td>74991.86</td>\n",
              "      <td>110404.68</td>\n",
              "      <td>185396.54</td>\n",
              "      <td>baja al 9/12</td>\n",
              "    </tr>\n",
              "  </tbody>\n",
              "</table>\n",
              "</div>"
            ],
            "text/plain": [
              "              cuil  anio  ...  total_salario_bruto_i_+_ii observaciones\n",
              "344  27-30744939-6  2019  ...                   185396.54  baja al 9/12\n",
              "\n",
              "[1 rows x 10 columns]"
            ]
          },
          "metadata": {
            "tags": []
          },
          "execution_count": 217
        }
      ]
    },
    {
      "cell_type": "markdown",
      "metadata": {
        "id": "osvnJWrYk1b3"
      },
      "source": [
        "# Anexo: volviendo al tema de la vectorización\n",
        "\n",
        "¿Por qué es tan importante trabajar con Pandas y no con funciones escritas por nosotros en Python nativo y que procesen los datos dentro de un for loop?\n",
        "\n",
        "Por un lado está la comodidad. Hay mucha funcionalidad que ya está desarrollada en Pandas. Existen funciones que resuelven muchos de los problemas clásicos de manipular datos: agrupar, sumarizar, sacar estadísticas, filtrar, etc. Pero además hay una razón de performance. \n",
        "\n",
        "Veamos una demostración de que vectorizar es más eficiente. Vamos a crear dos listas de 1.000.000 de números aleatorios cada una y vamos a tratar de multiplicar elemento por elemento con pandas y sin pandas:\n",
        "\n"
      ]
    },
    {
      "cell_type": "code",
      "metadata": {
        "id": "qTlh4xXCk1b3"
      },
      "source": [
        "lista1 = list(np.random.randint(1, 100, 1000000))\n",
        "lista2 = list(np.random.randint(1, 100, 1000000))"
      ],
      "execution_count": 218,
      "outputs": []
    },
    {
      "cell_type": "code",
      "metadata": {
        "colab": {
          "base_uri": "https://localhost:8080/"
        },
        "id": "X5vcproyk1b3",
        "outputId": "c518721b-f39e-49ff-be88-23bb3e3e1959"
      },
      "source": [
        "%%timeit \n",
        "for x,y in zip(lista1,lista2):\n",
        "    x * y"
      ],
      "execution_count": 219,
      "outputs": [
        {
          "output_type": "stream",
          "text": [
            "10 loops, best of 5: 138 ms per loop\n"
          ],
          "name": "stdout"
        }
      ]
    },
    {
      "cell_type": "markdown",
      "metadata": {
        "id": "fkRhcz7ek1b4"
      },
      "source": [
        "Ahora probemos hacer lo mismo con dos series de Pandas"
      ]
    },
    {
      "cell_type": "code",
      "metadata": {
        "id": "MPDo3kCRk1b4"
      },
      "source": [
        "serie1 = pd.Series(lista1)\n",
        "serie2 = pd.Series(lista2)"
      ],
      "execution_count": 220,
      "outputs": []
    },
    {
      "cell_type": "code",
      "metadata": {
        "colab": {
          "base_uri": "https://localhost:8080/"
        },
        "id": "FjUG27EVk1b4",
        "outputId": "3bf279b1-572b-4245-9dac-72e83830987a"
      },
      "source": [
        "%%timeit \n",
        "resultado = serie1 * serie2"
      ],
      "execution_count": 221,
      "outputs": [
        {
          "output_type": "stream",
          "text": [
            "100 loops, best of 5: 2.57 ms per loop\n"
          ],
          "name": "stdout"
        }
      ]
    },
    {
      "cell_type": "markdown",
      "metadata": {
        "id": "RB20upwHk1b5"
      },
      "source": [
        "Conclusión: la operación vectorizada es <strong> más de 70 veces más rápida.</strong>"
      ]
    },
    {
      "cell_type": "code",
      "metadata": {
        "id": "S0Bis1FUk1b5"
      },
      "source": [
        ""
      ],
      "execution_count": null,
      "outputs": []
    }
  ]
}
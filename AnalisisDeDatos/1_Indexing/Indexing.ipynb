{
  "nbformat": 4,
  "nbformat_minor": 0,
  "metadata": {
    "kernelspec": {
      "display_name": "conda_python3",
      "language": "python",
      "name": "conda_python3"
    },
    "language_info": {
      "codemirror_mode": {
        "name": "ipython",
        "version": 3
      },
      "file_extension": ".py",
      "mimetype": "text/x-python",
      "name": "python",
      "nbconvert_exporter": "python",
      "pygments_lexer": "ipython3",
      "version": "3.6.10"
    },
    "colab": {
      "name": "Indexing.ipynb",
      "provenance": [],
      "include_colab_link": true
    }
  },
  "cells": [
    {
      "cell_type": "markdown",
      "metadata": {
        "id": "view-in-github",
        "colab_type": "text"
      },
      "source": [
        "<a href=\"https://colab.research.google.com/github/mcrapa/GitHub_LAB/blob/main/AnalisisDeDatos/1_Indexing/Indexing.ipynb\" target=\"_parent\"><img src=\"https://colab.research.google.com/assets/colab-badge.svg\" alt=\"Open In Colab\"/></a>"
      ]
    },
    {
      "cell_type": "markdown",
      "metadata": {
        "id": "CtG_cBkpk1bO"
      },
      "source": [
        "<a href=\"https://colab.research.google.com/github/institutohumai/cursos-python/blob/master/AnalisisDeDatos/1_Indexing/Indexing.ipynb\"> <img src='https://colab.research.google.com/assets/colab-badge.svg' /> </a>\n",
        "<div align=\"center\"> Recordá abrir en una nueva pestaña </div>"
      ]
    },
    {
      "cell_type": "code",
      "metadata": {
        "id": "Xky-bym9k1bX"
      },
      "source": [
        "# Siempre al principio, importamos las librerías.\n",
        "import pandas as pd\n",
        "import numpy as np"
      ],
      "execution_count": 54,
      "outputs": []
    },
    {
      "cell_type": "markdown",
      "metadata": {
        "id": "XuADwAdvk1bY"
      },
      "source": [
        "# Tabla de Contenidos\n",
        "\n",
        "    I. Análisis de datos con Pandas\n",
        "    II. Los objetos fundamentales de Pandas\n",
        "        I. Series\n",
        "        II. DataFrames\n",
        "        III. Índices\n",
        "    III. Exploración\n",
        "        I. Filtrando un DataFrame (Indexing)\n",
        "            I. Boolean Indexing\n",
        "                I. Máscara booleana\n",
        "                II. Máscara booleana con muchas condiciones\n",
        "            II. Boolean indexing con query()\n",
        "            III. Fancy Indexing\n",
        "        II. Funciones de Agregación\n",
        "    IV. Otros análisis descriptivos\n",
        "        I. Para las variables numéricas\n",
        "        II. Para las variables categóricas\n",
        "        III. Ordenar por columnas y limitar la cantidad de resultados\n",
        "    V. Anexo: volviendo al tema de la vectorización"
      ]
    },
    {
      "cell_type": "markdown",
      "metadata": {
        "id": "0e2ndS15k1bZ"
      },
      "source": [
        "# Exploración\n",
        "\n",
        "Vamos a analizar datos de una fuente real. Los ingresos de los funcionarios son información pública que se libera anualmente en el <a href='https://data.buenosaires.gob.ar/dataset/sueldo-funcionarios'>portal de datos abiertos</a> de GCBA.  \n",
        "\n",
        "En general los 4 primeros pasos para analizar un data set son:\n",
        "1. Leerlo\n",
        "2. Consultar cuáles son las columnas\n",
        "3. Extraer una muestra\n",
        "4. Verificar cuántos registros tiene"
      ]
    },
    {
      "cell_type": "markdown",
      "metadata": {
        "id": "Tg_vxzEEk1bZ"
      },
      "source": [
        "## 1- Para leer el data set usamos la función de pandas read_csv\n",
        "\n",
        "Con esta función podemos leer archivos que estén en una url pública o en una ubicación del disco accesible desde la Jupyter Notebook. "
      ]
    },
    {
      "cell_type": "code",
      "metadata": {
        "id": "gbfVuM7ak1ba"
      },
      "source": [
        "df = pd.read_csv('http://cdn.buenosaires.gob.ar/datosabiertos/datasets/sueldo-funcionarios/sueldo_funcionarios_2019.csv')   "
      ],
      "execution_count": 55,
      "outputs": []
    },
    {
      "cell_type": "markdown",
      "metadata": {
        "id": "C6yujAJ3k1ba"
      },
      "source": [
        "## 2- Consultamos las columnas\n"
      ]
    },
    {
      "cell_type": "code",
      "metadata": {
        "id": "z9Oi9Wd9k1ba",
        "outputId": "36966945-ff22-44da-bc79-d501c9286c6e",
        "colab": {
          "base_uri": "https://localhost:8080/"
        }
      },
      "source": [
        "df.columns"
      ],
      "execution_count": 56,
      "outputs": [
        {
          "output_type": "execute_result",
          "data": {
            "text/plain": [
              "Index(['cuil', 'anio', 'mes', 'funcionario_apellido', 'funcionario_nombre',\n",
              "       'reparticion', 'asignacion_por_cargo_i', 'aguinaldo_ii',\n",
              "       'total_salario_bruto_i_+_ii', 'observaciones'],\n",
              "      dtype='object')"
            ]
          },
          "metadata": {
            "tags": []
          },
          "execution_count": 56
        }
      ]
    },
    {
      "cell_type": "markdown",
      "metadata": {
        "id": "A3DYA1HAk1bb"
      },
      "source": [
        "## 3- Extraemos una muestra"
      ]
    },
    {
      "cell_type": "code",
      "metadata": {
        "id": "GWJBfOs6k1bb",
        "outputId": "d1aba71a-4823-4742-a692-6868751c9390",
        "colab": {
          "base_uri": "https://localhost:8080/",
          "height": 281
        }
      },
      "source": [
        "df.sample(5)"
      ],
      "execution_count": 57,
      "outputs": [
        {
          "output_type": "execute_result",
          "data": {
            "text/html": [
              "<div>\n",
              "<style scoped>\n",
              "    .dataframe tbody tr th:only-of-type {\n",
              "        vertical-align: middle;\n",
              "    }\n",
              "\n",
              "    .dataframe tbody tr th {\n",
              "        vertical-align: top;\n",
              "    }\n",
              "\n",
              "    .dataframe thead th {\n",
              "        text-align: right;\n",
              "    }\n",
              "</style>\n",
              "<table border=\"1\" class=\"dataframe\">\n",
              "  <thead>\n",
              "    <tr style=\"text-align: right;\">\n",
              "      <th></th>\n",
              "      <th>cuil</th>\n",
              "      <th>anio</th>\n",
              "      <th>mes</th>\n",
              "      <th>funcionario_apellido</th>\n",
              "      <th>funcionario_nombre</th>\n",
              "      <th>reparticion</th>\n",
              "      <th>asignacion_por_cargo_i</th>\n",
              "      <th>aguinaldo_ii</th>\n",
              "      <th>total_salario_bruto_i_+_ii</th>\n",
              "      <th>observaciones</th>\n",
              "    </tr>\n",
              "  </thead>\n",
              "  <tbody>\n",
              "    <tr>\n",
              "      <th>10</th>\n",
              "      <td>20-24941711-5</td>\n",
              "      <td>2019</td>\n",
              "      <td>1</td>\n",
              "      <td>MURA</td>\n",
              "      <td>MARTIN</td>\n",
              "      <td>Ministerio de Economía y Finanzas</td>\n",
              "      <td>224516.62</td>\n",
              "      <td>0.0</td>\n",
              "      <td>224516.62</td>\n",
              "      <td>NaN</td>\n",
              "    </tr>\n",
              "    <tr>\n",
              "      <th>326</th>\n",
              "      <td>27-17593512-1</td>\n",
              "      <td>2019</td>\n",
              "      <td>11</td>\n",
              "      <td>MONTIEL</td>\n",
              "      <td>MARIA LETICIA</td>\n",
              "      <td>SECR Legal y Técnica</td>\n",
              "      <td>267913.50</td>\n",
              "      <td>0.0</td>\n",
              "      <td>267913.50</td>\n",
              "      <td>NaN</td>\n",
              "    </tr>\n",
              "    <tr>\n",
              "      <th>319</th>\n",
              "      <td>20-17110752-1</td>\n",
              "      <td>2019</td>\n",
              "      <td>11</td>\n",
              "      <td>MACCHIAVELLI</td>\n",
              "      <td>EDUARDO ALBERTO</td>\n",
              "      <td>Ministerio de Ambiente y Espacio Público</td>\n",
              "      <td>275089.75</td>\n",
              "      <td>0.0</td>\n",
              "      <td>275089.75</td>\n",
              "      <td>NaN</td>\n",
              "    </tr>\n",
              "    <tr>\n",
              "      <th>126</th>\n",
              "      <td>20-17692128-6</td>\n",
              "      <td>2019</td>\n",
              "      <td>5</td>\n",
              "      <td>RODRIGUEZ LARRETA</td>\n",
              "      <td>HORACIO ANTONIO</td>\n",
              "      <td>Jefe de Gobierno</td>\n",
              "      <td>217520.38</td>\n",
              "      <td>0.0</td>\n",
              "      <td>217520.38</td>\n",
              "      <td>NaN</td>\n",
              "    </tr>\n",
              "    <tr>\n",
              "      <th>153</th>\n",
              "      <td>27-26690980-8</td>\n",
              "      <td>2019</td>\n",
              "      <td>5</td>\n",
              "      <td>UHALDE</td>\n",
              "      <td>MARIA PAULA</td>\n",
              "      <td>SECR Cultura Ciudadana y Función Pública</td>\n",
              "      <td>226866.41</td>\n",
              "      <td>0.0</td>\n",
              "      <td>226866.41</td>\n",
              "      <td>NaN</td>\n",
              "    </tr>\n",
              "  </tbody>\n",
              "</table>\n",
              "</div>"
            ],
            "text/plain": [
              "              cuil  anio  ...  total_salario_bruto_i_+_ii observaciones\n",
              "10   20-24941711-5  2019  ...                   224516.62           NaN\n",
              "326  27-17593512-1  2019  ...                   267913.50           NaN\n",
              "319  20-17110752-1  2019  ...                   275089.75           NaN\n",
              "126  20-17692128-6  2019  ...                   217520.38           NaN\n",
              "153  27-26690980-8  2019  ...                   226866.41           NaN\n",
              "\n",
              "[5 rows x 10 columns]"
            ]
          },
          "metadata": {
            "tags": []
          },
          "execution_count": 57
        }
      ]
    },
    {
      "cell_type": "markdown",
      "metadata": {
        "id": "E9raqtQCk1bb"
      },
      "source": [
        "## 4- Consultamos la cantidad de filas y de columnas"
      ]
    },
    {
      "cell_type": "code",
      "metadata": {
        "id": "OyAAJUxbk1bc",
        "outputId": "2e1c6cb3-8cd8-4d8f-a31a-9de9cf7bdfd3",
        "colab": {
          "base_uri": "https://localhost:8080/"
        }
      },
      "source": [
        "# La propiedad shape nos devuelve una tupla (filas,columnas)\n",
        "df.shape"
      ],
      "execution_count": 58,
      "outputs": [
        {
          "output_type": "execute_result",
          "data": {
            "text/plain": [
              "(385, 10)"
            ]
          },
          "metadata": {
            "tags": []
          },
          "execution_count": 58
        }
      ]
    },
    {
      "cell_type": "markdown",
      "metadata": {
        "id": "EKtXyM9ck1bc"
      },
      "source": [
        "# Vectorización con Pandas\n",
        "\n",
        "Pandas es una de las librerías de Python más usadas para análisis de datos. El nombre pandas viene de \"Panel Data Analysis\" y su funcionalidad permite hacer operaciones sobre datos que se encuentran en memoria de manera eficiente. \n",
        "\n",
        "Pandas es útil para trabajar sobre datos tabulares, con dos condiciones importantes:\n",
        "\n",
        "I. Los datos se encuentran enteramente en la memoria RAM. Con lo cual, el tamaño de los datos que podemos manipular está limitado por el hardware. Como regla de pulgar, es una buena práctica no ocupar más de 1/3 de la memoria RAM de nuestro dispositivo con el dataset. Así, si estamos trabajando localmente en una notebook con 8GB de memoria RAM no es recomendable procesar datasets de más de 2.33GB.\n",
        "\n",
        "II. En pandas, las operaciones sobre filas y columnas son, en general, eficientes porque se hacen de forma \"vectorizada\". En realidad esta optimización, se hace desde numpy, una librería para realizar operaciones matemáticas que se utilizó a su vez para escribir pandas. \n",
        "\n",
        "Las operaciones vectorizadas son las que se realizan en bloque en vez de caso por caso. Las computadoras de hoy tienen la capacidad de recibir muchas instrucciones juntas y procesar varias de ellas a la vez. Por ejemplo, si nuestro hardware tiene la capacidad de procesar 4 operaciones juntas, el resultado de vectorizar una operación matemática es el siguiente:\n",
        "\n",
        "<img src = 'https://datasets-humai.s3.amazonaws.com/images/vectorizacion.png' /> \n",
        "\n",
        "\n",
        "En el primer caso hay que hacer 5 operaciones y en el segundo caso sólo dos.\n",
        "\n",
        "Es importante entender, entonces, que Pandas trabaja de esta manera y que por eso es una de las herramientas más elegidas para manipular datos en memoria.\n"
      ]
    },
    {
      "cell_type": "markdown",
      "metadata": {
        "id": "cz3QVjwJk1bd"
      },
      "source": [
        "\n",
        "\n",
        "# Los objetos fundamentales de Pandas\n",
        "\n",
        "## Series\n",
        "\n",
        "Las series son \"columnas\" que de una tabla que están asociadas a un índice y a un nombre. Igual que una lista común de Python es una secuencia de elementos ordenados, pero a diferencia de la lista está asociada a más información."
      ]
    },
    {
      "cell_type": "code",
      "metadata": {
        "id": "QzFYFsc4k1bd"
      },
      "source": [
        "# Las series se pueden crear a partir de una lista\n",
        "serie = pd.Series(['a','b','c'])"
      ],
      "execution_count": 59,
      "outputs": []
    },
    {
      "cell_type": "code",
      "metadata": {
        "id": "yuPHjMoOk1bd",
        "outputId": "d0cef166-5610-4945-a1ae-b9a4d06e356f",
        "colab": {
          "base_uri": "https://localhost:8080/"
        }
      },
      "source": [
        "# Propiedades importantes de las series\n",
        "print('Tipo de objetos que tiene ', serie.dtype)\n",
        "print('Nombre ', serie.name)\n",
        "print('Index ',serie.index)\n",
        "print('Valores ',serie.values)\n"
      ],
      "execution_count": 60,
      "outputs": [
        {
          "output_type": "stream",
          "text": [
            "Tipo de objetos que tiene  object\n",
            "Nombre  None\n",
            "Index  RangeIndex(start=0, stop=3, step=1)\n",
            "Valores  ['a' 'b' 'c']\n"
          ],
          "name": "stdout"
        }
      ]
    },
    {
      "cell_type": "markdown",
      "metadata": {
        "id": "go86TVQ1k1be"
      },
      "source": [
        "## DataFrames\n",
        "\n",
        "Los DataFrames son \"tablas\", compuestas por varias \"columnas\" o series que comparten todas un mismo índice. En general los DataFrames se crean a partir de leer tablas de archivos (pueden ser en formato json o csv) pero a veces también se crean a partir de listas de diccionarios o de otras maneras. \n",
        "\n",
        "Los DataFrames tienen un objeto Index que describe los nombres de columnas y otro objeto Index que describen los nombres de las filas."
      ]
    },
    {
      "cell_type": "code",
      "metadata": {
        "id": "6WahaeIgk1be"
      },
      "source": [
        "# Leemos un dataset público\n",
        "df = pd.read_csv('http://cdn.buenosaires.gob.ar/datosabiertos/datasets/sueldo-funcionarios/sueldo_funcionarios_2019.csv')"
      ],
      "execution_count": 89,
      "outputs": []
    },
    {
      "cell_type": "code",
      "metadata": {
        "id": "UEBcUISqk1bf",
        "outputId": "1abc7942-a5ea-485e-be93-5733ad2bea1b",
        "colab": {
          "base_uri": "https://localhost:8080/"
        }
      },
      "source": [
        "# Propiedades importantes de los dataframes\n",
        "print('Columnas ', df.columns)\n",
        "print('Index ', df.index)\n",
        "print('Dimensiones ',df.shape)\n"
      ],
      "execution_count": 63,
      "outputs": [
        {
          "output_type": "stream",
          "text": [
            "Columnas  Index(['cuil', 'anio', 'mes', 'funcionario_apellido', 'funcionario_nombre',\n",
            "       'reparticion', 'asignacion_por_cargo_i', 'aguinaldo_ii',\n",
            "       'total_salario_bruto_i_+_ii', 'observaciones'],\n",
            "      dtype='object')\n",
            "Index  RangeIndex(start=0, stop=385, step=1)\n",
            "Dimensiones  (385, 10)\n"
          ],
          "name": "stdout"
        }
      ]
    },
    {
      "cell_type": "code",
      "metadata": {
        "id": "X2tlR6Cpk1bf",
        "outputId": "991db12f-ac47-479a-a60f-5d714a595621",
        "colab": {
          "base_uri": "https://localhost:8080/",
          "height": 281
        }
      },
      "source": [
        "# Consultar las primeras filas\n",
        "df.head()"
      ],
      "execution_count": 64,
      "outputs": [
        {
          "output_type": "execute_result",
          "data": {
            "text/html": [
              "<div>\n",
              "<style scoped>\n",
              "    .dataframe tbody tr th:only-of-type {\n",
              "        vertical-align: middle;\n",
              "    }\n",
              "\n",
              "    .dataframe tbody tr th {\n",
              "        vertical-align: top;\n",
              "    }\n",
              "\n",
              "    .dataframe thead th {\n",
              "        text-align: right;\n",
              "    }\n",
              "</style>\n",
              "<table border=\"1\" class=\"dataframe\">\n",
              "  <thead>\n",
              "    <tr style=\"text-align: right;\">\n",
              "      <th></th>\n",
              "      <th>cuil</th>\n",
              "      <th>anio</th>\n",
              "      <th>mes</th>\n",
              "      <th>funcionario_apellido</th>\n",
              "      <th>funcionario_nombre</th>\n",
              "      <th>reparticion</th>\n",
              "      <th>asignacion_por_cargo_i</th>\n",
              "      <th>aguinaldo_ii</th>\n",
              "      <th>total_salario_bruto_i_+_ii</th>\n",
              "      <th>observaciones</th>\n",
              "    </tr>\n",
              "  </thead>\n",
              "  <tbody>\n",
              "    <tr>\n",
              "      <th>0</th>\n",
              "      <td>20-17692128-6</td>\n",
              "      <td>2019</td>\n",
              "      <td>1</td>\n",
              "      <td>RODRIGUEZ LARRETA</td>\n",
              "      <td>HORACIO ANTONIO</td>\n",
              "      <td>Jefe de Gobierno</td>\n",
              "      <td>197745.80</td>\n",
              "      <td>0.0</td>\n",
              "      <td>197745.80</td>\n",
              "      <td>NaN</td>\n",
              "    </tr>\n",
              "    <tr>\n",
              "      <th>1</th>\n",
              "      <td>20-17735449-0</td>\n",
              "      <td>2019</td>\n",
              "      <td>1</td>\n",
              "      <td>SANTILLI</td>\n",
              "      <td>DIEGO CESAR</td>\n",
              "      <td>Vicejefatura de Gobierno</td>\n",
              "      <td>197745.80</td>\n",
              "      <td>0.0</td>\n",
              "      <td>197745.80</td>\n",
              "      <td>NaN</td>\n",
              "    </tr>\n",
              "    <tr>\n",
              "      <th>2</th>\n",
              "      <td>27-24483014-0</td>\n",
              "      <td>2019</td>\n",
              "      <td>1</td>\n",
              "      <td>ACUÑA</td>\n",
              "      <td>MARIA SOLEDAD</td>\n",
              "      <td>Ministerio de Educación e Innovación</td>\n",
              "      <td>224516.62</td>\n",
              "      <td>0.0</td>\n",
              "      <td>224516.62</td>\n",
              "      <td>NaN</td>\n",
              "    </tr>\n",
              "    <tr>\n",
              "      <th>3</th>\n",
              "      <td>20-13872301-2</td>\n",
              "      <td>2019</td>\n",
              "      <td>1</td>\n",
              "      <td>ASTARLOA</td>\n",
              "      <td>GABRIEL MARIA</td>\n",
              "      <td>Procuración General de la Ciudad de Buenos Aires</td>\n",
              "      <td>224516.62</td>\n",
              "      <td>0.0</td>\n",
              "      <td>224516.62</td>\n",
              "      <td>NaN</td>\n",
              "    </tr>\n",
              "    <tr>\n",
              "      <th>4</th>\n",
              "      <td>20-25641207-2</td>\n",
              "      <td>2019</td>\n",
              "      <td>1</td>\n",
              "      <td>AVOGADRO</td>\n",
              "      <td>ENRIQUE LUIS</td>\n",
              "      <td>Ministerio de Cultura</td>\n",
              "      <td>224516.62</td>\n",
              "      <td>0.0</td>\n",
              "      <td>224516.62</td>\n",
              "      <td>NaN</td>\n",
              "    </tr>\n",
              "  </tbody>\n",
              "</table>\n",
              "</div>"
            ],
            "text/plain": [
              "            cuil  anio  ...  total_salario_bruto_i_+_ii observaciones\n",
              "0  20-17692128-6  2019  ...                   197745.80           NaN\n",
              "1  20-17735449-0  2019  ...                   197745.80           NaN\n",
              "2  27-24483014-0  2019  ...                   224516.62           NaN\n",
              "3  20-13872301-2  2019  ...                   224516.62           NaN\n",
              "4  20-25641207-2  2019  ...                   224516.62           NaN\n",
              "\n",
              "[5 rows x 10 columns]"
            ]
          },
          "metadata": {
            "tags": []
          },
          "execution_count": 64
        }
      ]
    },
    {
      "cell_type": "markdown",
      "metadata": {
        "id": "EOHJD-Kpk1bf"
      },
      "source": [
        "Si queremos extraer una serie del DataFrame, podemos hacerlo de la misma forma en que extraemos un valor de un diccionario.\n",
        "\n"
      ]
    },
    {
      "cell_type": "code",
      "metadata": {
        "id": "m__i0a3Bk1bf"
      },
      "source": [
        "serie_mes = df['mes']"
      ],
      "execution_count": 65,
      "outputs": []
    },
    {
      "cell_type": "code",
      "metadata": {
        "id": "hOU6-tUhk1bg",
        "outputId": "3d9973b4-b6b6-4339-a663-9d0b39a846e7",
        "colab": {
          "base_uri": "https://localhost:8080/"
        }
      },
      "source": [
        "type(serie_mes)"
      ],
      "execution_count": 66,
      "outputs": [
        {
          "output_type": "execute_result",
          "data": {
            "text/plain": [
              "pandas.core.series.Series"
            ]
          },
          "metadata": {
            "tags": []
          },
          "execution_count": 66
        }
      ]
    },
    {
      "cell_type": "markdown",
      "metadata": {
        "id": "LGqHizj3k1bg"
      },
      "source": [
        "## Índices\n",
        "\n",
        "Los índices acompañan a las series y a los Data Frames. Son conjuntos ordenados e inmutables de elementos"
      ]
    },
    {
      "cell_type": "code",
      "metadata": {
        "id": "KSx4_UQSk1bg",
        "outputId": "344fbb35-d2a7-472d-927d-31b494043afa",
        "colab": {
          "base_uri": "https://localhost:8080/"
        }
      },
      "source": [
        "df.index"
      ],
      "execution_count": 71,
      "outputs": [
        {
          "output_type": "execute_result",
          "data": {
            "text/plain": [
              "RangeIndex(start=0, stop=385, step=1)"
            ]
          },
          "metadata": {
            "tags": []
          },
          "execution_count": 71
        }
      ]
    },
    {
      "cell_type": "code",
      "metadata": {
        "id": "Zx6n4N2Mk1bg",
        "outputId": "e782726a-035e-4e24-e2fb-6e37bcba61eb",
        "colab": {
          "base_uri": "https://localhost:8080/"
        }
      },
      "source": [
        "df.columns"
      ],
      "execution_count": 72,
      "outputs": [
        {
          "output_type": "execute_result",
          "data": {
            "text/plain": [
              "Index(['cuil', 'anio', 'mes', 'funcionario_apellido', 'funcionario_nombre',\n",
              "       'reparticion', 'asignacion_por_cargo_i', 'aguinaldo_ii',\n",
              "       'total_salario_bruto_i_+_ii', 'observaciones'],\n",
              "      dtype='object')"
            ]
          },
          "metadata": {
            "tags": []
          },
          "execution_count": 72
        }
      ]
    },
    {
      "cell_type": "code",
      "metadata": {
        "id": "_qL2F1LJk1bh",
        "outputId": "655c9efc-7885-4ccb-e50b-9b24718ed6f1",
        "colab": {
          "base_uri": "https://localhost:8080/"
        }
      },
      "source": [
        "ind = pd.Index([2, 3, 5, 7, 11])\n",
        "ind"
      ],
      "execution_count": 73,
      "outputs": [
        {
          "output_type": "execute_result",
          "data": {
            "text/plain": [
              "Int64Index([2, 3, 5, 7, 11], dtype='int64')"
            ]
          },
          "metadata": {
            "tags": []
          },
          "execution_count": 73
        }
      ]
    },
    {
      "cell_type": "code",
      "metadata": {
        "id": "fq8TH-R7k1bh",
        "outputId": "6207c236-f521-45de-9afb-e66d909eea1e",
        "colab": {
          "base_uri": "https://localhost:8080/",
          "height": 292
        }
      },
      "source": [
        "ind[1] = 0"
      ],
      "execution_count": 81,
      "outputs": [
        {
          "output_type": "error",
          "ename": "TypeError",
          "evalue": "ignored",
          "traceback": [
            "\u001b[0;31m---------------------------------------------------------------------------\u001b[0m",
            "\u001b[0;31mTypeError\u001b[0m                                 Traceback (most recent call last)",
            "\u001b[0;32m<ipython-input-81-906a9fa1424c>\u001b[0m in \u001b[0;36m<module>\u001b[0;34m()\u001b[0m\n\u001b[0;32m----> 1\u001b[0;31m \u001b[0mind\u001b[0m\u001b[0;34m[\u001b[0m\u001b[0;36m1\u001b[0m\u001b[0;34m]\u001b[0m \u001b[0;34m=\u001b[0m \u001b[0;36m0\u001b[0m\u001b[0;34m\u001b[0m\u001b[0;34m\u001b[0m\u001b[0m\n\u001b[0m",
            "\u001b[0;32m/usr/local/lib/python3.7/dist-packages/pandas/core/indexes/base.py\u001b[0m in \u001b[0;36m__setitem__\u001b[0;34m(self, key, value)\u001b[0m\n\u001b[1;32m   4082\u001b[0m \u001b[0;34m\u001b[0m\u001b[0m\n\u001b[1;32m   4083\u001b[0m     \u001b[0;32mdef\u001b[0m \u001b[0m__setitem__\u001b[0m\u001b[0;34m(\u001b[0m\u001b[0mself\u001b[0m\u001b[0;34m,\u001b[0m \u001b[0mkey\u001b[0m\u001b[0;34m,\u001b[0m \u001b[0mvalue\u001b[0m\u001b[0;34m)\u001b[0m\u001b[0;34m:\u001b[0m\u001b[0;34m\u001b[0m\u001b[0;34m\u001b[0m\u001b[0m\n\u001b[0;32m-> 4084\u001b[0;31m         \u001b[0;32mraise\u001b[0m \u001b[0mTypeError\u001b[0m\u001b[0;34m(\u001b[0m\u001b[0;34m\"Index does not support mutable operations\"\u001b[0m\u001b[0;34m)\u001b[0m\u001b[0;34m\u001b[0m\u001b[0;34m\u001b[0m\u001b[0m\n\u001b[0m\u001b[1;32m   4085\u001b[0m \u001b[0;34m\u001b[0m\u001b[0m\n\u001b[1;32m   4086\u001b[0m     \u001b[0;32mdef\u001b[0m \u001b[0m__getitem__\u001b[0m\u001b[0;34m(\u001b[0m\u001b[0mself\u001b[0m\u001b[0;34m,\u001b[0m \u001b[0mkey\u001b[0m\u001b[0;34m)\u001b[0m\u001b[0;34m:\u001b[0m\u001b[0;34m\u001b[0m\u001b[0;34m\u001b[0m\u001b[0m\n",
            "\u001b[0;31mTypeError\u001b[0m: Index does not support mutable operations"
          ]
        }
      ]
    },
    {
      "cell_type": "markdown",
      "metadata": {
        "id": "zcZ0sew4k1bh"
      },
      "source": [
        "### Ejercicio\n",
        "Exploren el dataset público que se encuentra en la siguiente url: https://datasets-humai.s3.amazonaws.com/datasets/titanic.csv ¿De qué se trata? ¿Cuántas filas tiene? ¿Cuántas columnas? Al leerlo, pueden almacenarlo en la variable df_titanic. "
      ]
    },
    {
      "cell_type": "code",
      "metadata": {
        "id": "6i8yuIrrk1bi",
        "outputId": "ed393921-7e3a-4905-b428-53eeafabb69b",
        "colab": {
          "base_uri": "https://localhost:8080/",
          "height": 197
        }
      },
      "source": [
        "df_titanic = pd.read_csv('https://datasets-humai.s3.amazonaws.com/datasets/titanic.csv', sep='|')\n",
        "df_titanic.head()"
      ],
      "execution_count": 108,
      "outputs": [
        {
          "output_type": "execute_result",
          "data": {
            "text/html": [
              "<div>\n",
              "<style scoped>\n",
              "    .dataframe tbody tr th:only-of-type {\n",
              "        vertical-align: middle;\n",
              "    }\n",
              "\n",
              "    .dataframe tbody tr th {\n",
              "        vertical-align: top;\n",
              "    }\n",
              "\n",
              "    .dataframe thead th {\n",
              "        text-align: right;\n",
              "    }\n",
              "</style>\n",
              "<table border=\"1\" class=\"dataframe\">\n",
              "  <thead>\n",
              "    <tr style=\"text-align: right;\">\n",
              "      <th></th>\n",
              "      <th>PassengerId</th>\n",
              "      <th>Survived</th>\n",
              "      <th>Pclass</th>\n",
              "      <th>Name</th>\n",
              "      <th>Sex</th>\n",
              "      <th>Age</th>\n",
              "      <th>SibSp</th>\n",
              "      <th>Parch</th>\n",
              "      <th>Ticket</th>\n",
              "      <th>Fare</th>\n",
              "      <th>Cabin</th>\n",
              "      <th>Embarked</th>\n",
              "    </tr>\n",
              "  </thead>\n",
              "  <tbody>\n",
              "    <tr>\n",
              "      <th>0</th>\n",
              "      <td>1</td>\n",
              "      <td>0</td>\n",
              "      <td>3</td>\n",
              "      <td>Braund, Mr. Owen Harris</td>\n",
              "      <td>male</td>\n",
              "      <td>22.0</td>\n",
              "      <td>1</td>\n",
              "      <td>0</td>\n",
              "      <td>A/5 21171</td>\n",
              "      <td>7.2500</td>\n",
              "      <td>NaN</td>\n",
              "      <td>S</td>\n",
              "    </tr>\n",
              "    <tr>\n",
              "      <th>1</th>\n",
              "      <td>2</td>\n",
              "      <td>1</td>\n",
              "      <td>1</td>\n",
              "      <td>Cumings, Mrs. John Bradley (Florence Briggs Th...</td>\n",
              "      <td>female</td>\n",
              "      <td>38.0</td>\n",
              "      <td>1</td>\n",
              "      <td>0</td>\n",
              "      <td>PC 17599</td>\n",
              "      <td>71.2833</td>\n",
              "      <td>C85</td>\n",
              "      <td>C</td>\n",
              "    </tr>\n",
              "    <tr>\n",
              "      <th>2</th>\n",
              "      <td>3</td>\n",
              "      <td>1</td>\n",
              "      <td>3</td>\n",
              "      <td>Heikkinen, Miss. Laina</td>\n",
              "      <td>female</td>\n",
              "      <td>26.0</td>\n",
              "      <td>0</td>\n",
              "      <td>0</td>\n",
              "      <td>STON/O2. 3101282</td>\n",
              "      <td>7.9250</td>\n",
              "      <td>NaN</td>\n",
              "      <td>S</td>\n",
              "    </tr>\n",
              "    <tr>\n",
              "      <th>3</th>\n",
              "      <td>4</td>\n",
              "      <td>1</td>\n",
              "      <td>1</td>\n",
              "      <td>Futrelle, Mrs. Jacques Heath (Lily May Peel)</td>\n",
              "      <td>female</td>\n",
              "      <td>35.0</td>\n",
              "      <td>1</td>\n",
              "      <td>0</td>\n",
              "      <td>113803</td>\n",
              "      <td>53.1000</td>\n",
              "      <td>C123</td>\n",
              "      <td>S</td>\n",
              "    </tr>\n",
              "    <tr>\n",
              "      <th>4</th>\n",
              "      <td>5</td>\n",
              "      <td>0</td>\n",
              "      <td>3</td>\n",
              "      <td>Allen, Mr. William Henry</td>\n",
              "      <td>male</td>\n",
              "      <td>35.0</td>\n",
              "      <td>0</td>\n",
              "      <td>0</td>\n",
              "      <td>373450</td>\n",
              "      <td>8.0500</td>\n",
              "      <td>NaN</td>\n",
              "      <td>S</td>\n",
              "    </tr>\n",
              "  </tbody>\n",
              "</table>\n",
              "</div>"
            ],
            "text/plain": [
              "   PassengerId  Survived  Pclass  ...     Fare Cabin  Embarked\n",
              "0            1         0       3  ...   7.2500   NaN         S\n",
              "1            2         1       1  ...  71.2833   C85         C\n",
              "2            3         1       3  ...   7.9250   NaN         S\n",
              "3            4         1       1  ...  53.1000  C123         S\n",
              "4            5         0       3  ...   8.0500   NaN         S\n",
              "\n",
              "[5 rows x 12 columns]"
            ]
          },
          "metadata": {
            "tags": []
          },
          "execution_count": 108
        }
      ]
    },
    {
      "cell_type": "code",
      "metadata": {
        "id": "_WXj6dzzk1bi",
        "outputId": "e27a7945-09e1-4561-8f8f-c96f5d10c008",
        "colab": {
          "base_uri": "https://localhost:8080/"
        }
      },
      "source": [
        "filas = df_titanic.shape[0]\n",
        "filas"
      ],
      "execution_count": 111,
      "outputs": [
        {
          "output_type": "execute_result",
          "data": {
            "text/plain": [
              "891"
            ]
          },
          "metadata": {
            "tags": []
          },
          "execution_count": 111
        }
      ]
    },
    {
      "cell_type": "code",
      "metadata": {
        "id": "EZ90BY7Tk1bi",
        "outputId": "1b6f8384-a6fa-49cd-9508-445f60bacd02",
        "colab": {
          "base_uri": "https://localhost:8080/"
        }
      },
      "source": [
        "columnas = df_titanic.shape[1]\n",
        "columnas"
      ],
      "execution_count": 112,
      "outputs": [
        {
          "output_type": "execute_result",
          "data": {
            "text/plain": [
              "12"
            ]
          },
          "metadata": {
            "tags": []
          },
          "execution_count": 112
        }
      ]
    },
    {
      "cell_type": "markdown",
      "metadata": {
        "id": "U0--0TLKk1bi"
      },
      "source": [
        "## Filtrando un DataFrame (Indexing)\n",
        "\n",
        "Hay muchas técnicas para filtrar un DataFrame. Podemos querer filtrar por columnas o por filas, por posición o por nombre. También podemos querer filtrar por condiciones que se cumplen o no. Cuando no queremos filtrar sobre una dimensión (filas o columnas) usamos \":\" para seleccionar todo.\n",
        "\n",
        "\n",
        "<img src='https://github.com/institutohumai/cursos-python/blob/master/AnalisisDeDatos/1_Indexing/img/indexing.png?raw=1' style='height:350px' />\n",
        "\n"
      ]
    },
    {
      "cell_type": "markdown",
      "metadata": {
        "id": "w9Tyk17Pk1bj"
      },
      "source": [
        "### Boolean Indexing\n",
        "\n",
        "Supongamos que queremos tomar el dataset de funcionarios y quedarnos únicamente con los que pertenecen al Ministerio de Cultura.\n",
        "Para eso lo que hacemos es indexar al DataFrame por una condición booleana. Eso implica que debemos crear una serie compuesta por valores True y False para aplicarla como índice a las filas.\n",
        "\n",
        "Los operadores que sirven para evaluar condiciones sobre las series son:\n",
        "\n",
        "\n",
        "| S  | Descripción   | S  | Descripción   |   |\n",
        "|----|---------------|----|---------------|---|\n",
        "| >= | Mayor o Igual | <= | Menor o Igual |   |\n",
        "| == | Igual         | != | Distinto      |   |\n",
        "| >  | Mayor         | <  | Menor         |   |"
      ]
    },
    {
      "cell_type": "markdown",
      "metadata": {
        "id": "EmHJakhck1bj"
      },
      "source": [
        "#### Máscara booleana\n",
        "\n",
        "Veamos lo que pasa cuando le aplicamos a una serie una condición que devuelve un booleano"
      ]
    },
    {
      "cell_type": "code",
      "metadata": {
        "id": "tUoPSs7Ek1bj",
        "outputId": "c4781a0f-cc56-4346-a43f-0271c5a425bd",
        "colab": {
          "base_uri": "https://localhost:8080/"
        }
      },
      "source": [
        "df['anio'] != 2019"
      ],
      "execution_count": 113,
      "outputs": [
        {
          "output_type": "execute_result",
          "data": {
            "text/plain": [
              "0      False\n",
              "1      False\n",
              "2      False\n",
              "3      False\n",
              "4      False\n",
              "       ...  \n",
              "380    False\n",
              "381    False\n",
              "382    False\n",
              "383    False\n",
              "384    False\n",
              "Name: anio, Length: 385, dtype: bool"
            ]
          },
          "metadata": {
            "tags": []
          },
          "execution_count": 113
        }
      ]
    },
    {
      "cell_type": "code",
      "metadata": {
        "id": "UVsTxkXzk1bk"
      },
      "source": [
        "mascara_booleana = df['anio'] != 2019"
      ],
      "execution_count": 114,
      "outputs": []
    },
    {
      "cell_type": "markdown",
      "metadata": {
        "id": "48-ljqPOk1bk"
      },
      "source": [
        "Nos devuelve una serie de la misma longitud que la original y que contiene sólo valores True o False. "
      ]
    },
    {
      "cell_type": "code",
      "metadata": {
        "id": "mpKLn0Eik1bk",
        "outputId": "e7343704-75f9-486e-8fda-a97c99489ca8",
        "colab": {
          "base_uri": "https://localhost:8080/"
        }
      },
      "source": [
        "type(mascara_booleana)"
      ],
      "execution_count": 115,
      "outputs": [
        {
          "output_type": "execute_result",
          "data": {
            "text/plain": [
              "pandas.core.series.Series"
            ]
          },
          "metadata": {
            "tags": []
          },
          "execution_count": 115
        }
      ]
    },
    {
      "cell_type": "code",
      "metadata": {
        "id": "k_TrQaQHk1bk",
        "outputId": "09714c8c-cab6-4850-8347-b15009b020ba",
        "colab": {
          "base_uri": "https://localhost:8080/"
        }
      },
      "source": [
        "mascara_booleana.shape"
      ],
      "execution_count": 116,
      "outputs": [
        {
          "output_type": "execute_result",
          "data": {
            "text/plain": [
              "(385,)"
            ]
          },
          "metadata": {
            "tags": []
          },
          "execution_count": 116
        }
      ]
    },
    {
      "cell_type": "code",
      "metadata": {
        "id": "OqkSJ7qEk1bl",
        "outputId": "b2f700ea-5d6c-4a2c-ce8f-441f56973261",
        "colab": {
          "base_uri": "https://localhost:8080/"
        }
      },
      "source": [
        "mascara_booleana.dtype"
      ],
      "execution_count": 117,
      "outputs": [
        {
          "output_type": "execute_result",
          "data": {
            "text/plain": [
              "dtype('bool')"
            ]
          },
          "metadata": {
            "tags": []
          },
          "execution_count": 117
        }
      ]
    },
    {
      "cell_type": "markdown",
      "metadata": {
        "id": "zmo-TwqYk1bl"
      },
      "source": [
        "Ahora seleccionemos entonces, los registros que corresponden al Ministerio de Cultura."
      ]
    },
    {
      "cell_type": "code",
      "metadata": {
        "id": "o8xrvdjFk1bl",
        "outputId": "1e937ea8-f558-4932-86de-d8c0ca9d8172",
        "colab": {
          "base_uri": "https://localhost:8080/",
          "height": 391
        }
      },
      "source": [
        "df_min_cul = df.loc[df['reparticion'] == 'Ministerio de Cultura',:]\n",
        "df_min_cul.head()"
      ],
      "execution_count": 118,
      "outputs": [
        {
          "output_type": "execute_result",
          "data": {
            "text/html": [
              "<div>\n",
              "<style scoped>\n",
              "    .dataframe tbody tr th:only-of-type {\n",
              "        vertical-align: middle;\n",
              "    }\n",
              "\n",
              "    .dataframe tbody tr th {\n",
              "        vertical-align: top;\n",
              "    }\n",
              "\n",
              "    .dataframe thead th {\n",
              "        text-align: right;\n",
              "    }\n",
              "</style>\n",
              "<table border=\"1\" class=\"dataframe\">\n",
              "  <thead>\n",
              "    <tr style=\"text-align: right;\">\n",
              "      <th></th>\n",
              "      <th>cuil</th>\n",
              "      <th>anio</th>\n",
              "      <th>mes</th>\n",
              "      <th>funcionario_apellido</th>\n",
              "      <th>funcionario_nombre</th>\n",
              "      <th>reparticion</th>\n",
              "      <th>asignacion_por_cargo_i</th>\n",
              "      <th>aguinaldo_ii</th>\n",
              "      <th>total_salario_bruto_i_+_ii</th>\n",
              "      <th>observaciones</th>\n",
              "    </tr>\n",
              "  </thead>\n",
              "  <tbody>\n",
              "    <tr>\n",
              "      <th>4</th>\n",
              "      <td>20-25641207-2</td>\n",
              "      <td>2019</td>\n",
              "      <td>1</td>\n",
              "      <td>AVOGADRO</td>\n",
              "      <td>ENRIQUE LUIS</td>\n",
              "      <td>Ministerio de Cultura</td>\n",
              "      <td>224516.62</td>\n",
              "      <td>0.0</td>\n",
              "      <td>224516.62</td>\n",
              "      <td>NaN</td>\n",
              "    </tr>\n",
              "    <tr>\n",
              "      <th>36</th>\n",
              "      <td>20-25641207-2</td>\n",
              "      <td>2019</td>\n",
              "      <td>2</td>\n",
              "      <td>AVOGADRO</td>\n",
              "      <td>ENRIQUE LUIS</td>\n",
              "      <td>Ministerio de Cultura</td>\n",
              "      <td>224516.62</td>\n",
              "      <td>0.0</td>\n",
              "      <td>224516.62</td>\n",
              "      <td>NaN</td>\n",
              "    </tr>\n",
              "    <tr>\n",
              "      <th>68</th>\n",
              "      <td>20-25641207-2</td>\n",
              "      <td>2019</td>\n",
              "      <td>3</td>\n",
              "      <td>AVOGADRO</td>\n",
              "      <td>ENRIQUE LUIS</td>\n",
              "      <td>Ministerio de Cultura</td>\n",
              "      <td>231167.76</td>\n",
              "      <td>0.0</td>\n",
              "      <td>231167.76</td>\n",
              "      <td>NaN</td>\n",
              "    </tr>\n",
              "    <tr>\n",
              "      <th>99</th>\n",
              "      <td>20-25641207-2</td>\n",
              "      <td>2019</td>\n",
              "      <td>4</td>\n",
              "      <td>AVOGADRO</td>\n",
              "      <td>ENRIQUE LUIS</td>\n",
              "      <td>Ministerio de Cultura</td>\n",
              "      <td>249661.60</td>\n",
              "      <td>0.0</td>\n",
              "      <td>249661.60</td>\n",
              "      <td>NaN</td>\n",
              "    </tr>\n",
              "    <tr>\n",
              "      <th>130</th>\n",
              "      <td>20-25641207-2</td>\n",
              "      <td>2019</td>\n",
              "      <td>5</td>\n",
              "      <td>AVOGADRO</td>\n",
              "      <td>ENRIQUE LUIS</td>\n",
              "      <td>Ministerio de Cultura</td>\n",
              "      <td>249661.60</td>\n",
              "      <td>0.0</td>\n",
              "      <td>249661.60</td>\n",
              "      <td>NaN</td>\n",
              "    </tr>\n",
              "  </tbody>\n",
              "</table>\n",
              "</div>"
            ],
            "text/plain": [
              "              cuil  anio  ...  total_salario_bruto_i_+_ii observaciones\n",
              "4    20-25641207-2  2019  ...                   224516.62           NaN\n",
              "36   20-25641207-2  2019  ...                   224516.62           NaN\n",
              "68   20-25641207-2  2019  ...                   231167.76           NaN\n",
              "99   20-25641207-2  2019  ...                   249661.60           NaN\n",
              "130  20-25641207-2  2019  ...                   249661.60           NaN\n",
              "\n",
              "[5 rows x 10 columns]"
            ]
          },
          "metadata": {
            "tags": []
          },
          "execution_count": 118
        }
      ]
    },
    {
      "cell_type": "code",
      "metadata": {
        "id": "VKi077HEk1bl",
        "outputId": "5c7df610-af79-461f-e983-61556e54e85b",
        "colab": {
          "base_uri": "https://localhost:8080/"
        }
      },
      "source": [
        "# Veamos la cantidad de casos\n",
        "df_min_cul.shape"
      ],
      "execution_count": 119,
      "outputs": [
        {
          "output_type": "execute_result",
          "data": {
            "text/plain": [
              "(12, 10)"
            ]
          },
          "metadata": {
            "tags": []
          },
          "execution_count": 119
        }
      ]
    },
    {
      "cell_type": "markdown",
      "metadata": {
        "id": "n_sV1C2Nk1bm"
      },
      "source": [
        "Algo que puede llegar a confundir sobre el Indexing en Pandas es que en algunos casos se puede ser menos explícito a la hora de filtrar. Por ejemplo si ponemos una condición Booleana, pandas asume que el tipo de indexing es loc y que el filtro es sobre las filas y no sobre las columnas:\n"
      ]
    },
    {
      "cell_type": "code",
      "metadata": {
        "id": "GcSSqzEak1bm",
        "outputId": "e47d3c49-e46d-40fb-beab-f8f78fef427c",
        "colab": {
          "base_uri": "https://localhost:8080/",
          "height": 391
        }
      },
      "source": [
        "df_min_cul = df[df['reparticion'] == 'Ministerio de Cultura']\n",
        "df_min_cul.head()"
      ],
      "execution_count": 121,
      "outputs": [
        {
          "output_type": "execute_result",
          "data": {
            "text/html": [
              "<div>\n",
              "<style scoped>\n",
              "    .dataframe tbody tr th:only-of-type {\n",
              "        vertical-align: middle;\n",
              "    }\n",
              "\n",
              "    .dataframe tbody tr th {\n",
              "        vertical-align: top;\n",
              "    }\n",
              "\n",
              "    .dataframe thead th {\n",
              "        text-align: right;\n",
              "    }\n",
              "</style>\n",
              "<table border=\"1\" class=\"dataframe\">\n",
              "  <thead>\n",
              "    <tr style=\"text-align: right;\">\n",
              "      <th></th>\n",
              "      <th>cuil</th>\n",
              "      <th>anio</th>\n",
              "      <th>mes</th>\n",
              "      <th>funcionario_apellido</th>\n",
              "      <th>funcionario_nombre</th>\n",
              "      <th>reparticion</th>\n",
              "      <th>asignacion_por_cargo_i</th>\n",
              "      <th>aguinaldo_ii</th>\n",
              "      <th>total_salario_bruto_i_+_ii</th>\n",
              "      <th>observaciones</th>\n",
              "    </tr>\n",
              "  </thead>\n",
              "  <tbody>\n",
              "    <tr>\n",
              "      <th>4</th>\n",
              "      <td>20-25641207-2</td>\n",
              "      <td>2019</td>\n",
              "      <td>1</td>\n",
              "      <td>AVOGADRO</td>\n",
              "      <td>ENRIQUE LUIS</td>\n",
              "      <td>Ministerio de Cultura</td>\n",
              "      <td>224516.62</td>\n",
              "      <td>0.0</td>\n",
              "      <td>224516.62</td>\n",
              "      <td>NaN</td>\n",
              "    </tr>\n",
              "    <tr>\n",
              "      <th>36</th>\n",
              "      <td>20-25641207-2</td>\n",
              "      <td>2019</td>\n",
              "      <td>2</td>\n",
              "      <td>AVOGADRO</td>\n",
              "      <td>ENRIQUE LUIS</td>\n",
              "      <td>Ministerio de Cultura</td>\n",
              "      <td>224516.62</td>\n",
              "      <td>0.0</td>\n",
              "      <td>224516.62</td>\n",
              "      <td>NaN</td>\n",
              "    </tr>\n",
              "    <tr>\n",
              "      <th>68</th>\n",
              "      <td>20-25641207-2</td>\n",
              "      <td>2019</td>\n",
              "      <td>3</td>\n",
              "      <td>AVOGADRO</td>\n",
              "      <td>ENRIQUE LUIS</td>\n",
              "      <td>Ministerio de Cultura</td>\n",
              "      <td>231167.76</td>\n",
              "      <td>0.0</td>\n",
              "      <td>231167.76</td>\n",
              "      <td>NaN</td>\n",
              "    </tr>\n",
              "    <tr>\n",
              "      <th>99</th>\n",
              "      <td>20-25641207-2</td>\n",
              "      <td>2019</td>\n",
              "      <td>4</td>\n",
              "      <td>AVOGADRO</td>\n",
              "      <td>ENRIQUE LUIS</td>\n",
              "      <td>Ministerio de Cultura</td>\n",
              "      <td>249661.60</td>\n",
              "      <td>0.0</td>\n",
              "      <td>249661.60</td>\n",
              "      <td>NaN</td>\n",
              "    </tr>\n",
              "    <tr>\n",
              "      <th>130</th>\n",
              "      <td>20-25641207-2</td>\n",
              "      <td>2019</td>\n",
              "      <td>5</td>\n",
              "      <td>AVOGADRO</td>\n",
              "      <td>ENRIQUE LUIS</td>\n",
              "      <td>Ministerio de Cultura</td>\n",
              "      <td>249661.60</td>\n",
              "      <td>0.0</td>\n",
              "      <td>249661.60</td>\n",
              "      <td>NaN</td>\n",
              "    </tr>\n",
              "  </tbody>\n",
              "</table>\n",
              "</div>"
            ],
            "text/plain": [
              "              cuil  anio  ...  total_salario_bruto_i_+_ii observaciones\n",
              "4    20-25641207-2  2019  ...                   224516.62           NaN\n",
              "36   20-25641207-2  2019  ...                   224516.62           NaN\n",
              "68   20-25641207-2  2019  ...                   231167.76           NaN\n",
              "99   20-25641207-2  2019  ...                   249661.60           NaN\n",
              "130  20-25641207-2  2019  ...                   249661.60           NaN\n",
              "\n",
              "[5 rows x 10 columns]"
            ]
          },
          "metadata": {
            "tags": []
          },
          "execution_count": 121
        }
      ]
    },
    {
      "cell_type": "code",
      "metadata": {
        "id": "cR8CgEPyk1bm",
        "outputId": "50e57d95-3f7f-4985-b5a8-0e8c3f177f95",
        "colab": {
          "base_uri": "https://localhost:8080/"
        }
      },
      "source": [
        "df_min_cul.shape"
      ],
      "execution_count": 106,
      "outputs": [
        {
          "output_type": "execute_result",
          "data": {
            "text/plain": [
              "(12, 10)"
            ]
          },
          "metadata": {
            "tags": []
          },
          "execution_count": 106
        }
      ]
    },
    {
      "cell_type": "markdown",
      "metadata": {
        "id": "JulRdlk0k1bm"
      },
      "source": [
        "Probemos con otra condición.\n",
        "\n",
        "### Ejercicio\n",
        "\n",
        "Traer todos los sueldos de la segunda mitad del año..."
      ]
    },
    {
      "cell_type": "code",
      "metadata": {
        "id": "QqrQ9y0yk1bm",
        "outputId": "8426e744-7ead-4187-fd6b-46e74fad581b",
        "colab": {
          "base_uri": "https://localhost:8080/",
          "height": 825
        }
      },
      "source": [
        "#df_segunda_mitad = df.loc[df['mes']>6, :]\n",
        "df_segunda_mitad = df[df['mes']>6]\n",
        "df_segunda_mitad"
      ],
      "execution_count": 128,
      "outputs": [
        {
          "output_type": "execute_result",
          "data": {
            "text/html": [
              "<div>\n",
              "<style scoped>\n",
              "    .dataframe tbody tr th:only-of-type {\n",
              "        vertical-align: middle;\n",
              "    }\n",
              "\n",
              "    .dataframe tbody tr th {\n",
              "        vertical-align: top;\n",
              "    }\n",
              "\n",
              "    .dataframe thead th {\n",
              "        text-align: right;\n",
              "    }\n",
              "</style>\n",
              "<table border=\"1\" class=\"dataframe\">\n",
              "  <thead>\n",
              "    <tr style=\"text-align: right;\">\n",
              "      <th></th>\n",
              "      <th>cuil</th>\n",
              "      <th>anio</th>\n",
              "      <th>mes</th>\n",
              "      <th>funcionario_apellido</th>\n",
              "      <th>funcionario_nombre</th>\n",
              "      <th>reparticion</th>\n",
              "      <th>asignacion_por_cargo_i</th>\n",
              "      <th>aguinaldo_ii</th>\n",
              "      <th>total_salario_bruto_i_+_ii</th>\n",
              "      <th>observaciones</th>\n",
              "    </tr>\n",
              "  </thead>\n",
              "  <tbody>\n",
              "    <tr>\n",
              "      <th>188</th>\n",
              "      <td>20-17692128-6</td>\n",
              "      <td>2019</td>\n",
              "      <td>7</td>\n",
              "      <td>RODRIGUEZ LARRETA</td>\n",
              "      <td>HORACIO ANTONIO</td>\n",
              "      <td>Jefe de Gobierno</td>\n",
              "      <td>228396.40</td>\n",
              "      <td>0.00</td>\n",
              "      <td>228396.40</td>\n",
              "      <td>NaN</td>\n",
              "    </tr>\n",
              "    <tr>\n",
              "      <th>189</th>\n",
              "      <td>20-17735449-0</td>\n",
              "      <td>2019</td>\n",
              "      <td>7</td>\n",
              "      <td>SANTILLI</td>\n",
              "      <td>DIEGO CESAR</td>\n",
              "      <td>Vicejefatura de Gobierno</td>\n",
              "      <td>228396.40</td>\n",
              "      <td>0.00</td>\n",
              "      <td>228396.40</td>\n",
              "      <td>NaN</td>\n",
              "    </tr>\n",
              "    <tr>\n",
              "      <th>190</th>\n",
              "      <td>27-24483014-0</td>\n",
              "      <td>2019</td>\n",
              "      <td>7</td>\n",
              "      <td>ACUÑA</td>\n",
              "      <td>MARIA SOLEDAD</td>\n",
              "      <td>Ministerio de Educación e Innovación</td>\n",
              "      <td>263531.98</td>\n",
              "      <td>0.00</td>\n",
              "      <td>263531.98</td>\n",
              "      <td>NaN</td>\n",
              "    </tr>\n",
              "    <tr>\n",
              "      <th>191</th>\n",
              "      <td>20-13872301-2</td>\n",
              "      <td>2019</td>\n",
              "      <td>7</td>\n",
              "      <td>ASTARLOA</td>\n",
              "      <td>GABRIEL MARIA</td>\n",
              "      <td>Procuración General de la Ciudad de Buenos Aires</td>\n",
              "      <td>263531.98</td>\n",
              "      <td>0.00</td>\n",
              "      <td>263531.98</td>\n",
              "      <td>NaN</td>\n",
              "    </tr>\n",
              "    <tr>\n",
              "      <th>192</th>\n",
              "      <td>20-25641207-2</td>\n",
              "      <td>2019</td>\n",
              "      <td>7</td>\n",
              "      <td>AVOGADRO</td>\n",
              "      <td>ENRIQUE LUIS</td>\n",
              "      <td>Ministerio de Cultura</td>\n",
              "      <td>263531.98</td>\n",
              "      <td>0.00</td>\n",
              "      <td>263531.98</td>\n",
              "      <td>NaN</td>\n",
              "    </tr>\n",
              "    <tr>\n",
              "      <th>...</th>\n",
              "      <td>...</td>\n",
              "      <td>...</td>\n",
              "      <td>...</td>\n",
              "      <td>...</td>\n",
              "      <td>...</td>\n",
              "      <td>...</td>\n",
              "      <td>...</td>\n",
              "      <td>...</td>\n",
              "      <td>...</td>\n",
              "      <td>...</td>\n",
              "    </tr>\n",
              "    <tr>\n",
              "      <th>380</th>\n",
              "      <td>20-26735689-1</td>\n",
              "      <td>2019</td>\n",
              "      <td>12</td>\n",
              "      <td>MENDEZ</td>\n",
              "      <td>JUAN JOSE</td>\n",
              "      <td>SECR Transporte y Obras Públicas</td>\n",
              "      <td>249972.86</td>\n",
              "      <td>124986.43</td>\n",
              "      <td>374959.29</td>\n",
              "      <td>NaN</td>\n",
              "    </tr>\n",
              "    <tr>\n",
              "      <th>381</th>\n",
              "      <td>20-23864572-8</td>\n",
              "      <td>2019</td>\n",
              "      <td>12</td>\n",
              "      <td>STRAFACE</td>\n",
              "      <td>FERNANDO DIEGO</td>\n",
              "      <td>SECR General y Relaciones Internacionales</td>\n",
              "      <td>275089.75</td>\n",
              "      <td>137544.87</td>\n",
              "      <td>412634.62</td>\n",
              "      <td>NaN</td>\n",
              "    </tr>\n",
              "    <tr>\n",
              "      <th>382</th>\n",
              "      <td>20-21981279-6</td>\n",
              "      <td>2019</td>\n",
              "      <td>12</td>\n",
              "      <td>SCRENCI SILVA</td>\n",
              "      <td>BRUNO GUIDO</td>\n",
              "      <td>Ministerio de Gobierno</td>\n",
              "      <td>275089.75</td>\n",
              "      <td>137544.87</td>\n",
              "      <td>412634.62</td>\n",
              "      <td>NaN</td>\n",
              "    </tr>\n",
              "    <tr>\n",
              "      <th>383</th>\n",
              "      <td>20-30593774-7</td>\n",
              "      <td>2019</td>\n",
              "      <td>12</td>\n",
              "      <td>AVELLANEDA</td>\n",
              "      <td>PATRICIO IGNACIO</td>\n",
              "      <td>SECR Planificación, Evaluación y Coordinación ...</td>\n",
              "      <td>249972.86</td>\n",
              "      <td>124986.43</td>\n",
              "      <td>374959.29</td>\n",
              "      <td>NaN</td>\n",
              "    </tr>\n",
              "    <tr>\n",
              "      <th>384</th>\n",
              "      <td>27-27011181-0</td>\n",
              "      <td>2019</td>\n",
              "      <td>12</td>\n",
              "      <td>FERNANDEZ</td>\n",
              "      <td>KARINA BEATRIZ</td>\n",
              "      <td>SECR Asuntos Estratégicos</td>\n",
              "      <td>187539.45</td>\n",
              "      <td>15628.29</td>\n",
              "      <td>203167.74</td>\n",
              "      <td>alta desde el 10/12</td>\n",
              "    </tr>\n",
              "  </tbody>\n",
              "</table>\n",
              "<p>197 rows × 10 columns</p>\n",
              "</div>"
            ],
            "text/plain": [
              "              cuil  anio  ...  total_salario_bruto_i_+_ii        observaciones\n",
              "188  20-17692128-6  2019  ...                   228396.40                  NaN\n",
              "189  20-17735449-0  2019  ...                   228396.40                  NaN\n",
              "190  27-24483014-0  2019  ...                   263531.98                  NaN\n",
              "191  20-13872301-2  2019  ...                   263531.98                  NaN\n",
              "192  20-25641207-2  2019  ...                   263531.98                  NaN\n",
              "..             ...   ...  ...                         ...                  ...\n",
              "380  20-26735689-1  2019  ...                   374959.29                  NaN\n",
              "381  20-23864572-8  2019  ...                   412634.62                  NaN\n",
              "382  20-21981279-6  2019  ...                   412634.62                  NaN\n",
              "383  20-30593774-7  2019  ...                   374959.29                  NaN\n",
              "384  27-27011181-0  2019  ...                   203167.74  alta desde el 10/12\n",
              "\n",
              "[197 rows x 10 columns]"
            ]
          },
          "metadata": {
            "tags": []
          },
          "execution_count": 128
        }
      ]
    },
    {
      "cell_type": "markdown",
      "metadata": {
        "id": "A3NDHuc9k1bn"
      },
      "source": [
        "### Ejercicio\n",
        "Volviendo al DataFrame del Titanic ¿Cuántos pasajeros sobrevivieron y cuántos no? ¿Cuántos pagaron una tarifa menor a 25?"
      ]
    },
    {
      "cell_type": "code",
      "metadata": {
        "id": "xR03kO99k1bn",
        "outputId": "a743e22b-26e4-45ad-8f75-c59e9cf58d90",
        "colab": {
          "base_uri": "https://localhost:8080/",
          "height": 108
        }
      },
      "source": [
        "df_titanic_sobrevivieron = df_titanic.loc[df_titanic['Survived'] == 1]\n",
        "df_titanic_no_sobrevivieron = df_titanic.loc[df_titanic['Survived'] == 0]\n",
        "#df_titanic.columns\n",
        "df_titanic.head(2)"
      ],
      "execution_count": 143,
      "outputs": [
        {
          "output_type": "execute_result",
          "data": {
            "text/html": [
              "<div>\n",
              "<style scoped>\n",
              "    .dataframe tbody tr th:only-of-type {\n",
              "        vertical-align: middle;\n",
              "    }\n",
              "\n",
              "    .dataframe tbody tr th {\n",
              "        vertical-align: top;\n",
              "    }\n",
              "\n",
              "    .dataframe thead th {\n",
              "        text-align: right;\n",
              "    }\n",
              "</style>\n",
              "<table border=\"1\" class=\"dataframe\">\n",
              "  <thead>\n",
              "    <tr style=\"text-align: right;\">\n",
              "      <th></th>\n",
              "      <th>PassengerId</th>\n",
              "      <th>Survived</th>\n",
              "      <th>Pclass</th>\n",
              "      <th>Name</th>\n",
              "      <th>Sex</th>\n",
              "      <th>Age</th>\n",
              "      <th>SibSp</th>\n",
              "      <th>Parch</th>\n",
              "      <th>Ticket</th>\n",
              "      <th>Fare</th>\n",
              "      <th>Cabin</th>\n",
              "      <th>Embarked</th>\n",
              "    </tr>\n",
              "  </thead>\n",
              "  <tbody>\n",
              "    <tr>\n",
              "      <th>0</th>\n",
              "      <td>1</td>\n",
              "      <td>0</td>\n",
              "      <td>3</td>\n",
              "      <td>Braund, Mr. Owen Harris</td>\n",
              "      <td>male</td>\n",
              "      <td>22.0</td>\n",
              "      <td>1</td>\n",
              "      <td>0</td>\n",
              "      <td>A/5 21171</td>\n",
              "      <td>7.2500</td>\n",
              "      <td>NaN</td>\n",
              "      <td>S</td>\n",
              "    </tr>\n",
              "    <tr>\n",
              "      <th>1</th>\n",
              "      <td>2</td>\n",
              "      <td>1</td>\n",
              "      <td>1</td>\n",
              "      <td>Cumings, Mrs. John Bradley (Florence Briggs Th...</td>\n",
              "      <td>female</td>\n",
              "      <td>38.0</td>\n",
              "      <td>1</td>\n",
              "      <td>0</td>\n",
              "      <td>PC 17599</td>\n",
              "      <td>71.2833</td>\n",
              "      <td>C85</td>\n",
              "      <td>C</td>\n",
              "    </tr>\n",
              "  </tbody>\n",
              "</table>\n",
              "</div>"
            ],
            "text/plain": [
              "   PassengerId  Survived  Pclass  ...     Fare Cabin  Embarked\n",
              "0            1         0       3  ...   7.2500   NaN         S\n",
              "1            2         1       1  ...  71.2833   C85         C\n",
              "\n",
              "[2 rows x 12 columns]"
            ]
          },
          "metadata": {
            "tags": []
          },
          "execution_count": 143
        }
      ]
    },
    {
      "cell_type": "code",
      "metadata": {
        "id": "f0LPToZCk1bn",
        "outputId": "5a3f0f73-7e35-4025-8412-a4a747f51b22",
        "colab": {
          "base_uri": "https://localhost:8080/"
        }
      },
      "source": [
        "print('sobrevivieron',df_titanic_sobrevivieron.shape[0],'personas')\n",
        "print('murieron',df_titanic_no_sobrevivieron.shape[0],'personas')"
      ],
      "execution_count": 140,
      "outputs": [
        {
          "output_type": "stream",
          "text": [
            "sobrevivieron 342 personas\n",
            "murieron 549 personas\n"
          ],
          "name": "stdout"
        }
      ]
    },
    {
      "cell_type": "code",
      "metadata": {
        "id": "1cex9N9Xk1bn",
        "outputId": "d2fda4a9-b21f-4753-ed70-66e45b55f2a8",
        "colab": {
          "base_uri": "https://localhost:8080/"
        }
      },
      "source": [
        "df_titanic['Survived'].value_counts()"
      ],
      "execution_count": 145,
      "outputs": [
        {
          "output_type": "execute_result",
          "data": {
            "text/plain": [
              "0    549\n",
              "1    342\n",
              "Name: Survived, dtype: int64"
            ]
          },
          "metadata": {
            "tags": []
          },
          "execution_count": 145
        }
      ]
    },
    {
      "cell_type": "code",
      "metadata": {
        "id": "iFsZgGlfk1bn",
        "outputId": "5e3a5b37-8fb4-4097-eae4-9960fd2c820b",
        "colab": {
          "base_uri": "https://localhost:8080/",
          "height": 407
        }
      },
      "source": [
        "df_titanic_baja_tarifa = df_titanic.loc[df_titanic['Fare']<25]\n",
        "df_titanic_baja_tarifa"
      ],
      "execution_count": 148,
      "outputs": [
        {
          "output_type": "execute_result",
          "data": {
            "text/html": [
              "<div>\n",
              "<style scoped>\n",
              "    .dataframe tbody tr th:only-of-type {\n",
              "        vertical-align: middle;\n",
              "    }\n",
              "\n",
              "    .dataframe tbody tr th {\n",
              "        vertical-align: top;\n",
              "    }\n",
              "\n",
              "    .dataframe thead th {\n",
              "        text-align: right;\n",
              "    }\n",
              "</style>\n",
              "<table border=\"1\" class=\"dataframe\">\n",
              "  <thead>\n",
              "    <tr style=\"text-align: right;\">\n",
              "      <th></th>\n",
              "      <th>PassengerId</th>\n",
              "      <th>Survived</th>\n",
              "      <th>Pclass</th>\n",
              "      <th>Name</th>\n",
              "      <th>Sex</th>\n",
              "      <th>Age</th>\n",
              "      <th>SibSp</th>\n",
              "      <th>Parch</th>\n",
              "      <th>Ticket</th>\n",
              "      <th>Fare</th>\n",
              "      <th>Cabin</th>\n",
              "      <th>Embarked</th>\n",
              "    </tr>\n",
              "  </thead>\n",
              "  <tbody>\n",
              "    <tr>\n",
              "      <th>0</th>\n",
              "      <td>1</td>\n",
              "      <td>0</td>\n",
              "      <td>3</td>\n",
              "      <td>Braund, Mr. Owen Harris</td>\n",
              "      <td>male</td>\n",
              "      <td>22.0</td>\n",
              "      <td>1</td>\n",
              "      <td>0</td>\n",
              "      <td>A/5 21171</td>\n",
              "      <td>7.2500</td>\n",
              "      <td>NaN</td>\n",
              "      <td>S</td>\n",
              "    </tr>\n",
              "    <tr>\n",
              "      <th>2</th>\n",
              "      <td>3</td>\n",
              "      <td>1</td>\n",
              "      <td>3</td>\n",
              "      <td>Heikkinen, Miss. Laina</td>\n",
              "      <td>female</td>\n",
              "      <td>26.0</td>\n",
              "      <td>0</td>\n",
              "      <td>0</td>\n",
              "      <td>STON/O2. 3101282</td>\n",
              "      <td>7.9250</td>\n",
              "      <td>NaN</td>\n",
              "      <td>S</td>\n",
              "    </tr>\n",
              "    <tr>\n",
              "      <th>4</th>\n",
              "      <td>5</td>\n",
              "      <td>0</td>\n",
              "      <td>3</td>\n",
              "      <td>Allen, Mr. William Henry</td>\n",
              "      <td>male</td>\n",
              "      <td>35.0</td>\n",
              "      <td>0</td>\n",
              "      <td>0</td>\n",
              "      <td>373450</td>\n",
              "      <td>8.0500</td>\n",
              "      <td>NaN</td>\n",
              "      <td>S</td>\n",
              "    </tr>\n",
              "    <tr>\n",
              "      <th>5</th>\n",
              "      <td>6</td>\n",
              "      <td>0</td>\n",
              "      <td>3</td>\n",
              "      <td>Moran, Mr. James</td>\n",
              "      <td>male</td>\n",
              "      <td>NaN</td>\n",
              "      <td>0</td>\n",
              "      <td>0</td>\n",
              "      <td>330877</td>\n",
              "      <td>8.4583</td>\n",
              "      <td>NaN</td>\n",
              "      <td>Q</td>\n",
              "    </tr>\n",
              "    <tr>\n",
              "      <th>7</th>\n",
              "      <td>8</td>\n",
              "      <td>0</td>\n",
              "      <td>3</td>\n",
              "      <td>Palsson, Master. Gosta Leonard</td>\n",
              "      <td>male</td>\n",
              "      <td>2.0</td>\n",
              "      <td>3</td>\n",
              "      <td>1</td>\n",
              "      <td>349909</td>\n",
              "      <td>21.0750</td>\n",
              "      <td>NaN</td>\n",
              "      <td>S</td>\n",
              "    </tr>\n",
              "    <tr>\n",
              "      <th>...</th>\n",
              "      <td>...</td>\n",
              "      <td>...</td>\n",
              "      <td>...</td>\n",
              "      <td>...</td>\n",
              "      <td>...</td>\n",
              "      <td>...</td>\n",
              "      <td>...</td>\n",
              "      <td>...</td>\n",
              "      <td>...</td>\n",
              "      <td>...</td>\n",
              "      <td>...</td>\n",
              "      <td>...</td>\n",
              "    </tr>\n",
              "    <tr>\n",
              "      <th>883</th>\n",
              "      <td>884</td>\n",
              "      <td>0</td>\n",
              "      <td>2</td>\n",
              "      <td>Banfield, Mr. Frederick James</td>\n",
              "      <td>male</td>\n",
              "      <td>28.0</td>\n",
              "      <td>0</td>\n",
              "      <td>0</td>\n",
              "      <td>C.A./SOTON 34068</td>\n",
              "      <td>10.5000</td>\n",
              "      <td>NaN</td>\n",
              "      <td>S</td>\n",
              "    </tr>\n",
              "    <tr>\n",
              "      <th>884</th>\n",
              "      <td>885</td>\n",
              "      <td>0</td>\n",
              "      <td>3</td>\n",
              "      <td>Sutehall, Mr. Henry Jr</td>\n",
              "      <td>male</td>\n",
              "      <td>25.0</td>\n",
              "      <td>0</td>\n",
              "      <td>0</td>\n",
              "      <td>SOTON/OQ 392076</td>\n",
              "      <td>7.0500</td>\n",
              "      <td>NaN</td>\n",
              "      <td>S</td>\n",
              "    </tr>\n",
              "    <tr>\n",
              "      <th>886</th>\n",
              "      <td>887</td>\n",
              "      <td>0</td>\n",
              "      <td>2</td>\n",
              "      <td>Montvila, Rev. Juozas</td>\n",
              "      <td>male</td>\n",
              "      <td>27.0</td>\n",
              "      <td>0</td>\n",
              "      <td>0</td>\n",
              "      <td>211536</td>\n",
              "      <td>13.0000</td>\n",
              "      <td>NaN</td>\n",
              "      <td>S</td>\n",
              "    </tr>\n",
              "    <tr>\n",
              "      <th>888</th>\n",
              "      <td>889</td>\n",
              "      <td>0</td>\n",
              "      <td>3</td>\n",
              "      <td>Johnston, Miss. Catherine Helen \"Carrie\"</td>\n",
              "      <td>female</td>\n",
              "      <td>NaN</td>\n",
              "      <td>1</td>\n",
              "      <td>2</td>\n",
              "      <td>W./C. 6607</td>\n",
              "      <td>23.4500</td>\n",
              "      <td>NaN</td>\n",
              "      <td>S</td>\n",
              "    </tr>\n",
              "    <tr>\n",
              "      <th>890</th>\n",
              "      <td>891</td>\n",
              "      <td>0</td>\n",
              "      <td>3</td>\n",
              "      <td>Dooley, Mr. Patrick</td>\n",
              "      <td>male</td>\n",
              "      <td>32.0</td>\n",
              "      <td>0</td>\n",
              "      <td>0</td>\n",
              "      <td>370376</td>\n",
              "      <td>7.7500</td>\n",
              "      <td>NaN</td>\n",
              "      <td>Q</td>\n",
              "    </tr>\n",
              "  </tbody>\n",
              "</table>\n",
              "<p>557 rows × 12 columns</p>\n",
              "</div>"
            ],
            "text/plain": [
              "     PassengerId  Survived  Pclass  ...     Fare Cabin  Embarked\n",
              "0              1         0       3  ...   7.2500   NaN         S\n",
              "2              3         1       3  ...   7.9250   NaN         S\n",
              "4              5         0       3  ...   8.0500   NaN         S\n",
              "5              6         0       3  ...   8.4583   NaN         Q\n",
              "7              8         0       3  ...  21.0750   NaN         S\n",
              "..           ...       ...     ...  ...      ...   ...       ...\n",
              "883          884         0       2  ...  10.5000   NaN         S\n",
              "884          885         0       3  ...   7.0500   NaN         S\n",
              "886          887         0       2  ...  13.0000   NaN         S\n",
              "888          889         0       3  ...  23.4500   NaN         S\n",
              "890          891         0       3  ...   7.7500   NaN         Q\n",
              "\n",
              "[557 rows x 12 columns]"
            ]
          },
          "metadata": {
            "tags": []
          },
          "execution_count": 148
        }
      ]
    },
    {
      "cell_type": "code",
      "metadata": {
        "id": "O_bAfYylt6Ok",
        "outputId": "cd2830e8-9813-42ce-e2bc-90967a08f321",
        "colab": {
          "base_uri": "https://localhost:8080/"
        }
      },
      "source": [
        "df_titanic_baja_tarifa.shape[0]"
      ],
      "execution_count": 152,
      "outputs": [
        {
          "output_type": "execute_result",
          "data": {
            "text/plain": [
              "557"
            ]
          },
          "metadata": {
            "tags": []
          },
          "execution_count": 152
        }
      ]
    },
    {
      "cell_type": "code",
      "metadata": {
        "id": "BImvwJd5uDMV"
      },
      "source": [
        ""
      ],
      "execution_count": 151,
      "outputs": []
    },
    {
      "cell_type": "markdown",
      "metadata": {
        "id": "EgoIUS_2k1bn"
      },
      "source": [
        "#### Máscara booleana con muchas condiciones\n",
        "\n",
        "Ahora tratemos de filtrar el dataset por dos condiciones: por ejemplo tomar los sueldos de abril de la secretaria de innovación. \n",
        "Para eso tenemos que combinar dos máscaras booleanas con una condición.\n",
        "\n",
        "| S | Descripcion        | S  | Descripcion |   |\n",
        "|---|--------------------|----|-------------|---|\n",
        "| & | AND (y)            | \\| | OR (o)      |   |\n",
        "| ^ | XOR (o exclusivo)  | ~  | NOT (no)    |   |\n",
        "\n",
        "\n",
        "\n",
        "Por ejemplo: seleccionemos los casos donde o bien se haya cobrado aguinaldo o bien el salario total haya sido mayor que 240.000, pero no las dos cosas. \n"
      ]
    },
    {
      "cell_type": "code",
      "metadata": {
        "id": "r9DvBOfPk1bo",
        "outputId": "2508b244-014c-41e1-b946-afbf197ac9ca",
        "colab": {
          "base_uri": "https://localhost:8080/",
          "height": 807
        }
      },
      "source": [
        "df[(df['total_salario_bruto_i_+_ii'] > 240000) ^ (df['aguinaldo_ii'] > 0)]"
      ],
      "execution_count": 153,
      "outputs": [
        {
          "output_type": "execute_result",
          "data": {
            "text/html": [
              "<div>\n",
              "<style scoped>\n",
              "    .dataframe tbody tr th:only-of-type {\n",
              "        vertical-align: middle;\n",
              "    }\n",
              "\n",
              "    .dataframe tbody tr th {\n",
              "        vertical-align: top;\n",
              "    }\n",
              "\n",
              "    .dataframe thead th {\n",
              "        text-align: right;\n",
              "    }\n",
              "</style>\n",
              "<table border=\"1\" class=\"dataframe\">\n",
              "  <thead>\n",
              "    <tr style=\"text-align: right;\">\n",
              "      <th></th>\n",
              "      <th>cuil</th>\n",
              "      <th>anio</th>\n",
              "      <th>mes</th>\n",
              "      <th>funcionario_apellido</th>\n",
              "      <th>funcionario_nombre</th>\n",
              "      <th>reparticion</th>\n",
              "      <th>asignacion_por_cargo_i</th>\n",
              "      <th>aguinaldo_ii</th>\n",
              "      <th>total_salario_bruto_i_+_ii</th>\n",
              "      <th>observaciones</th>\n",
              "    </tr>\n",
              "  </thead>\n",
              "  <tbody>\n",
              "    <tr>\n",
              "      <th>55</th>\n",
              "      <td>20-26781618-3</td>\n",
              "      <td>2019</td>\n",
              "      <td>2</td>\n",
              "      <td>LARRE</td>\n",
              "      <td>PEDRO ANDRES</td>\n",
              "      <td>SECR Ciencia, Tecnologia e Innovacion</td>\n",
              "      <td>204017.27</td>\n",
              "      <td>34002.88</td>\n",
              "      <td>238020.15</td>\n",
              "      <td>baja 28/2/2019</td>\n",
              "    </tr>\n",
              "    <tr>\n",
              "      <th>97</th>\n",
              "      <td>27-24483014-0</td>\n",
              "      <td>2019</td>\n",
              "      <td>4</td>\n",
              "      <td>ACUÑA</td>\n",
              "      <td>MARIA SOLEDAD</td>\n",
              "      <td>Ministerio de Educación e Innovación</td>\n",
              "      <td>249661.60</td>\n",
              "      <td>0.00</td>\n",
              "      <td>249661.60</td>\n",
              "      <td>NaN</td>\n",
              "    </tr>\n",
              "    <tr>\n",
              "      <th>98</th>\n",
              "      <td>20-13872301-2</td>\n",
              "      <td>2019</td>\n",
              "      <td>4</td>\n",
              "      <td>ASTARLOA</td>\n",
              "      <td>GABRIEL MARIA</td>\n",
              "      <td>Procuración General de la Ciudad de Buenos Aires</td>\n",
              "      <td>249661.60</td>\n",
              "      <td>0.00</td>\n",
              "      <td>249661.60</td>\n",
              "      <td>NaN</td>\n",
              "    </tr>\n",
              "    <tr>\n",
              "      <th>99</th>\n",
              "      <td>20-25641207-2</td>\n",
              "      <td>2019</td>\n",
              "      <td>4</td>\n",
              "      <td>AVOGADRO</td>\n",
              "      <td>ENRIQUE LUIS</td>\n",
              "      <td>Ministerio de Cultura</td>\n",
              "      <td>249661.60</td>\n",
              "      <td>0.00</td>\n",
              "      <td>249661.60</td>\n",
              "      <td>NaN</td>\n",
              "    </tr>\n",
              "    <tr>\n",
              "      <th>100</th>\n",
              "      <td>27-13221055-7</td>\n",
              "      <td>2019</td>\n",
              "      <td>4</td>\n",
              "      <td>BOU PEREZ</td>\n",
              "      <td>ANA MARIA</td>\n",
              "      <td>Ministerio de Salud</td>\n",
              "      <td>249661.60</td>\n",
              "      <td>0.00</td>\n",
              "      <td>249661.60</td>\n",
              "      <td>NaN</td>\n",
              "    </tr>\n",
              "    <tr>\n",
              "      <th>...</th>\n",
              "      <td>...</td>\n",
              "      <td>...</td>\n",
              "      <td>...</td>\n",
              "      <td>...</td>\n",
              "      <td>...</td>\n",
              "      <td>...</td>\n",
              "      <td>...</td>\n",
              "      <td>...</td>\n",
              "      <td>...</td>\n",
              "      <td>...</td>\n",
              "    </tr>\n",
              "    <tr>\n",
              "      <th>360</th>\n",
              "      <td>20-28908968-4</td>\n",
              "      <td>2019</td>\n",
              "      <td>12</td>\n",
              "      <td>COELHO CHICANO</td>\n",
              "      <td>CHRISTIAN</td>\n",
              "      <td>SS Contenidos</td>\n",
              "      <td>74991.86</td>\n",
              "      <td>110404.68</td>\n",
              "      <td>185396.54</td>\n",
              "      <td>baja al 9/12</td>\n",
              "    </tr>\n",
              "    <tr>\n",
              "      <th>361</th>\n",
              "      <td>20-28908968-4</td>\n",
              "      <td>2019</td>\n",
              "      <td>12</td>\n",
              "      <td>COELHO CHICANO</td>\n",
              "      <td>CHRISTIAN</td>\n",
              "      <td>SECR de Medios</td>\n",
              "      <td>187539.45</td>\n",
              "      <td>15628.29</td>\n",
              "      <td>203167.74</td>\n",
              "      <td>alta desde el 10/12</td>\n",
              "    </tr>\n",
              "    <tr>\n",
              "      <th>362</th>\n",
              "      <td>20-24424714-9</td>\n",
              "      <td>2019</td>\n",
              "      <td>12</td>\n",
              "      <td>D'ALESSANDRO</td>\n",
              "      <td>MARCELO SILVIO</td>\n",
              "      <td>SECR Justicia y Seguridad</td>\n",
              "      <td>74991.86</td>\n",
              "      <td>110404.68</td>\n",
              "      <td>185396.54</td>\n",
              "      <td>baja al 9/12</td>\n",
              "    </tr>\n",
              "    <tr>\n",
              "      <th>363</th>\n",
              "      <td>20-24424714-9</td>\n",
              "      <td>2019</td>\n",
              "      <td>12</td>\n",
              "      <td>D'ALESSANDRO</td>\n",
              "      <td>MARCELO SILVIO</td>\n",
              "      <td>SECR Justicia y Seguridad</td>\n",
              "      <td>187539.45</td>\n",
              "      <td>15628.29</td>\n",
              "      <td>203167.74</td>\n",
              "      <td>alta desde el 10/12</td>\n",
              "    </tr>\n",
              "    <tr>\n",
              "      <th>384</th>\n",
              "      <td>27-27011181-0</td>\n",
              "      <td>2019</td>\n",
              "      <td>12</td>\n",
              "      <td>FERNANDEZ</td>\n",
              "      <td>KARINA BEATRIZ</td>\n",
              "      <td>SECR Asuntos Estratégicos</td>\n",
              "      <td>187539.45</td>\n",
              "      <td>15628.29</td>\n",
              "      <td>203167.74</td>\n",
              "      <td>alta desde el 10/12</td>\n",
              "    </tr>\n",
              "  </tbody>\n",
              "</table>\n",
              "<p>170 rows × 10 columns</p>\n",
              "</div>"
            ],
            "text/plain": [
              "              cuil  anio  ...  total_salario_bruto_i_+_ii        observaciones\n",
              "55   20-26781618-3  2019  ...                   238020.15       baja 28/2/2019\n",
              "97   27-24483014-0  2019  ...                   249661.60                  NaN\n",
              "98   20-13872301-2  2019  ...                   249661.60                  NaN\n",
              "99   20-25641207-2  2019  ...                   249661.60                  NaN\n",
              "100  27-13221055-7  2019  ...                   249661.60                  NaN\n",
              "..             ...   ...  ...                         ...                  ...\n",
              "360  20-28908968-4  2019  ...                   185396.54         baja al 9/12\n",
              "361  20-28908968-4  2019  ...                   203167.74  alta desde el 10/12\n",
              "362  20-24424714-9  2019  ...                   185396.54         baja al 9/12\n",
              "363  20-24424714-9  2019  ...                   203167.74  alta desde el 10/12\n",
              "384  27-27011181-0  2019  ...                   203167.74  alta desde el 10/12\n",
              "\n",
              "[170 rows x 10 columns]"
            ]
          },
          "metadata": {
            "tags": []
          },
          "execution_count": 153
        }
      ]
    },
    {
      "cell_type": "markdown",
      "metadata": {
        "id": "xJ3mzr3lk1bo"
      },
      "source": [
        "Ahora veamos los sueldos de febrero de la SECR Ciencia, Tecnologia e Innovacion."
      ]
    },
    {
      "cell_type": "code",
      "metadata": {
        "id": "mPaWf_RKk1bo",
        "outputId": "059993ff-8e73-4fc6-d3c6-c64a9a57d3d0",
        "colab": {
          "base_uri": "https://localhost:8080/",
          "height": 150
        }
      },
      "source": [
        "df[(df['mes'] == 2) & (df['reparticion'] == 'SECR Ciencia, Tecnologia e Innovacion')]"
      ],
      "execution_count": 154,
      "outputs": [
        {
          "output_type": "execute_result",
          "data": {
            "text/html": [
              "<div>\n",
              "<style scoped>\n",
              "    .dataframe tbody tr th:only-of-type {\n",
              "        vertical-align: middle;\n",
              "    }\n",
              "\n",
              "    .dataframe tbody tr th {\n",
              "        vertical-align: top;\n",
              "    }\n",
              "\n",
              "    .dataframe thead th {\n",
              "        text-align: right;\n",
              "    }\n",
              "</style>\n",
              "<table border=\"1\" class=\"dataframe\">\n",
              "  <thead>\n",
              "    <tr style=\"text-align: right;\">\n",
              "      <th></th>\n",
              "      <th>cuil</th>\n",
              "      <th>anio</th>\n",
              "      <th>mes</th>\n",
              "      <th>funcionario_apellido</th>\n",
              "      <th>funcionario_nombre</th>\n",
              "      <th>reparticion</th>\n",
              "      <th>asignacion_por_cargo_i</th>\n",
              "      <th>aguinaldo_ii</th>\n",
              "      <th>total_salario_bruto_i_+_ii</th>\n",
              "      <th>observaciones</th>\n",
              "    </tr>\n",
              "  </thead>\n",
              "  <tbody>\n",
              "    <tr>\n",
              "      <th>55</th>\n",
              "      <td>20-26781618-3</td>\n",
              "      <td>2019</td>\n",
              "      <td>2</td>\n",
              "      <td>LARRE</td>\n",
              "      <td>PEDRO ANDRES</td>\n",
              "      <td>SECR Ciencia, Tecnologia e Innovacion</td>\n",
              "      <td>204017.27</td>\n",
              "      <td>34002.88</td>\n",
              "      <td>238020.15</td>\n",
              "      <td>baja 28/2/2019</td>\n",
              "    </tr>\n",
              "  </tbody>\n",
              "</table>\n",
              "</div>"
            ],
            "text/plain": [
              "             cuil  anio  ...  total_salario_bruto_i_+_ii   observaciones\n",
              "55  20-26781618-3  2019  ...                   238020.15  baja 28/2/2019\n",
              "\n",
              "[1 rows x 10 columns]"
            ]
          },
          "metadata": {
            "tags": []
          },
          "execution_count": 154
        }
      ]
    },
    {
      "cell_type": "markdown",
      "metadata": {
        "id": "xPEZfeDUk1bo"
      },
      "source": [
        "### Boolean indexing con query()\n",
        "\n",
        "La sintaxis que se utiliza para hacer Boolean indexing es un poco repetitiva. Noten que filtrar (aún en su expresión más corta sin loc ni especificar filas o columnas) implica ESCRIBIR DOS VECES el nombre del dataset. Para crear un shortcut, Pandas ofrece la función .query() \n",
        "\n"
      ]
    },
    {
      "cell_type": "code",
      "metadata": {
        "id": "vu1tlrzHk1bp",
        "outputId": "f0b92760-d4df-4000-f8f0-df7fffa35a1f",
        "colab": {
          "base_uri": "https://localhost:8080/",
          "height": 391
        }
      },
      "source": [
        "df_cult = df.query('reparticion == \"Ministerio de Cultura\"')\n",
        "df_cult.head()"
      ],
      "execution_count": 158,
      "outputs": [
        {
          "output_type": "execute_result",
          "data": {
            "text/html": [
              "<div>\n",
              "<style scoped>\n",
              "    .dataframe tbody tr th:only-of-type {\n",
              "        vertical-align: middle;\n",
              "    }\n",
              "\n",
              "    .dataframe tbody tr th {\n",
              "        vertical-align: top;\n",
              "    }\n",
              "\n",
              "    .dataframe thead th {\n",
              "        text-align: right;\n",
              "    }\n",
              "</style>\n",
              "<table border=\"1\" class=\"dataframe\">\n",
              "  <thead>\n",
              "    <tr style=\"text-align: right;\">\n",
              "      <th></th>\n",
              "      <th>cuil</th>\n",
              "      <th>anio</th>\n",
              "      <th>mes</th>\n",
              "      <th>funcionario_apellido</th>\n",
              "      <th>funcionario_nombre</th>\n",
              "      <th>reparticion</th>\n",
              "      <th>asignacion_por_cargo_i</th>\n",
              "      <th>aguinaldo_ii</th>\n",
              "      <th>total_salario_bruto_i_+_ii</th>\n",
              "      <th>observaciones</th>\n",
              "    </tr>\n",
              "  </thead>\n",
              "  <tbody>\n",
              "    <tr>\n",
              "      <th>4</th>\n",
              "      <td>20-25641207-2</td>\n",
              "      <td>2019</td>\n",
              "      <td>1</td>\n",
              "      <td>AVOGADRO</td>\n",
              "      <td>ENRIQUE LUIS</td>\n",
              "      <td>Ministerio de Cultura</td>\n",
              "      <td>224516.62</td>\n",
              "      <td>0.0</td>\n",
              "      <td>224516.62</td>\n",
              "      <td>NaN</td>\n",
              "    </tr>\n",
              "    <tr>\n",
              "      <th>36</th>\n",
              "      <td>20-25641207-2</td>\n",
              "      <td>2019</td>\n",
              "      <td>2</td>\n",
              "      <td>AVOGADRO</td>\n",
              "      <td>ENRIQUE LUIS</td>\n",
              "      <td>Ministerio de Cultura</td>\n",
              "      <td>224516.62</td>\n",
              "      <td>0.0</td>\n",
              "      <td>224516.62</td>\n",
              "      <td>NaN</td>\n",
              "    </tr>\n",
              "    <tr>\n",
              "      <th>68</th>\n",
              "      <td>20-25641207-2</td>\n",
              "      <td>2019</td>\n",
              "      <td>3</td>\n",
              "      <td>AVOGADRO</td>\n",
              "      <td>ENRIQUE LUIS</td>\n",
              "      <td>Ministerio de Cultura</td>\n",
              "      <td>231167.76</td>\n",
              "      <td>0.0</td>\n",
              "      <td>231167.76</td>\n",
              "      <td>NaN</td>\n",
              "    </tr>\n",
              "    <tr>\n",
              "      <th>99</th>\n",
              "      <td>20-25641207-2</td>\n",
              "      <td>2019</td>\n",
              "      <td>4</td>\n",
              "      <td>AVOGADRO</td>\n",
              "      <td>ENRIQUE LUIS</td>\n",
              "      <td>Ministerio de Cultura</td>\n",
              "      <td>249661.60</td>\n",
              "      <td>0.0</td>\n",
              "      <td>249661.60</td>\n",
              "      <td>NaN</td>\n",
              "    </tr>\n",
              "    <tr>\n",
              "      <th>130</th>\n",
              "      <td>20-25641207-2</td>\n",
              "      <td>2019</td>\n",
              "      <td>5</td>\n",
              "      <td>AVOGADRO</td>\n",
              "      <td>ENRIQUE LUIS</td>\n",
              "      <td>Ministerio de Cultura</td>\n",
              "      <td>249661.60</td>\n",
              "      <td>0.0</td>\n",
              "      <td>249661.60</td>\n",
              "      <td>NaN</td>\n",
              "    </tr>\n",
              "  </tbody>\n",
              "</table>\n",
              "</div>"
            ],
            "text/plain": [
              "              cuil  anio  ...  total_salario_bruto_i_+_ii observaciones\n",
              "4    20-25641207-2  2019  ...                   224516.62           NaN\n",
              "36   20-25641207-2  2019  ...                   224516.62           NaN\n",
              "68   20-25641207-2  2019  ...                   231167.76           NaN\n",
              "99   20-25641207-2  2019  ...                   249661.60           NaN\n",
              "130  20-25641207-2  2019  ...                   249661.60           NaN\n",
              "\n",
              "[5 rows x 10 columns]"
            ]
          },
          "metadata": {
            "tags": []
          },
          "execution_count": 158
        }
      ]
    },
    {
      "cell_type": "markdown",
      "metadata": {
        "id": "Dl8Aljtxk1bp"
      },
      "source": [
        "También se puede hacer query sobre múltiples condiciones."
      ]
    },
    {
      "cell_type": "code",
      "metadata": {
        "id": "dvBYcaPOk1bp",
        "outputId": "94adee49-7897-42fe-929c-ff1777cd8df1",
        "colab": {
          "base_uri": "https://localhost:8080/",
          "height": 425
        }
      },
      "source": [
        "df2 = df.query('asignacion_por_cargo_i > 240000 & aguinaldo_ii > 0')\n",
        "df2.head()"
      ],
      "execution_count": 160,
      "outputs": [
        {
          "output_type": "execute_result",
          "data": {
            "text/html": [
              "<div>\n",
              "<style scoped>\n",
              "    .dataframe tbody tr th:only-of-type {\n",
              "        vertical-align: middle;\n",
              "    }\n",
              "\n",
              "    .dataframe tbody tr th {\n",
              "        vertical-align: top;\n",
              "    }\n",
              "\n",
              "    .dataframe thead th {\n",
              "        text-align: right;\n",
              "    }\n",
              "</style>\n",
              "<table border=\"1\" class=\"dataframe\">\n",
              "  <thead>\n",
              "    <tr style=\"text-align: right;\">\n",
              "      <th></th>\n",
              "      <th>cuil</th>\n",
              "      <th>anio</th>\n",
              "      <th>mes</th>\n",
              "      <th>funcionario_apellido</th>\n",
              "      <th>funcionario_nombre</th>\n",
              "      <th>reparticion</th>\n",
              "      <th>asignacion_por_cargo_i</th>\n",
              "      <th>aguinaldo_ii</th>\n",
              "      <th>total_salario_bruto_i_+_ii</th>\n",
              "      <th>observaciones</th>\n",
              "    </tr>\n",
              "  </thead>\n",
              "  <tbody>\n",
              "    <tr>\n",
              "      <th>159</th>\n",
              "      <td>27-24483014-0</td>\n",
              "      <td>2019</td>\n",
              "      <td>6</td>\n",
              "      <td>ACUÑA</td>\n",
              "      <td>MARIA SOLEDAD</td>\n",
              "      <td>Ministerio de Educación e Innovación</td>\n",
              "      <td>249661.6</td>\n",
              "      <td>124830.80</td>\n",
              "      <td>374492.40</td>\n",
              "      <td>NaN</td>\n",
              "    </tr>\n",
              "    <tr>\n",
              "      <th>160</th>\n",
              "      <td>20-13872301-2</td>\n",
              "      <td>2019</td>\n",
              "      <td>6</td>\n",
              "      <td>ASTARLOA</td>\n",
              "      <td>GABRIEL MARIA</td>\n",
              "      <td>Procuración General de la Ciudad de Buenos Aires</td>\n",
              "      <td>249661.6</td>\n",
              "      <td>165196.76</td>\n",
              "      <td>414858.36</td>\n",
              "      <td>NaN</td>\n",
              "    </tr>\n",
              "    <tr>\n",
              "      <th>161</th>\n",
              "      <td>20-25641207-2</td>\n",
              "      <td>2019</td>\n",
              "      <td>6</td>\n",
              "      <td>AVOGADRO</td>\n",
              "      <td>ENRIQUE LUIS</td>\n",
              "      <td>Ministerio de Cultura</td>\n",
              "      <td>249661.6</td>\n",
              "      <td>124830.80</td>\n",
              "      <td>374492.40</td>\n",
              "      <td>NaN</td>\n",
              "    </tr>\n",
              "    <tr>\n",
              "      <th>162</th>\n",
              "      <td>27-13221055-7</td>\n",
              "      <td>2019</td>\n",
              "      <td>6</td>\n",
              "      <td>BOU PEREZ</td>\n",
              "      <td>ANA MARIA</td>\n",
              "      <td>Ministerio de Salud</td>\n",
              "      <td>249661.6</td>\n",
              "      <td>124830.80</td>\n",
              "      <td>374492.40</td>\n",
              "      <td>NaN</td>\n",
              "    </tr>\n",
              "    <tr>\n",
              "      <th>163</th>\n",
              "      <td>27-13092400-5</td>\n",
              "      <td>2019</td>\n",
              "      <td>6</td>\n",
              "      <td>FREDA</td>\n",
              "      <td>MONICA BEATRIZ</td>\n",
              "      <td>Sindicatura General de la Ciudad de Buenos Aires</td>\n",
              "      <td>249661.6</td>\n",
              "      <td>124830.80</td>\n",
              "      <td>374492.40</td>\n",
              "      <td>NaN</td>\n",
              "    </tr>\n",
              "  </tbody>\n",
              "</table>\n",
              "</div>"
            ],
            "text/plain": [
              "              cuil  anio  ...  total_salario_bruto_i_+_ii observaciones\n",
              "159  27-24483014-0  2019  ...                   374492.40           NaN\n",
              "160  20-13872301-2  2019  ...                   414858.36           NaN\n",
              "161  20-25641207-2  2019  ...                   374492.40           NaN\n",
              "162  27-13221055-7  2019  ...                   374492.40           NaN\n",
              "163  27-13092400-5  2019  ...                   374492.40           NaN\n",
              "\n",
              "[5 rows x 10 columns]"
            ]
          },
          "metadata": {
            "tags": []
          },
          "execution_count": 160
        }
      ]
    },
    {
      "cell_type": "code",
      "metadata": {
        "id": "15zSoUuNk1bq",
        "outputId": "d797c6c3-75e4-453d-e03b-b5d819cb5c67",
        "colab": {
          "base_uri": "https://localhost:8080/"
        }
      },
      "source": [
        "df2.shape"
      ],
      "execution_count": 161,
      "outputs": [
        {
          "output_type": "execute_result",
          "data": {
            "text/plain": [
              "(34, 10)"
            ]
          },
          "metadata": {
            "tags": []
          },
          "execution_count": 161
        }
      ]
    },
    {
      "cell_type": "markdown",
      "metadata": {
        "id": "X9yDc87rk1bq"
      },
      "source": [
        "### Ejercicio: Piensen cómo traducir a la sintaxis de query, estas consultas que ya hicimos:"
      ]
    },
    {
      "cell_type": "code",
      "metadata": {
        "id": "9XfGQTBnk1bq",
        "outputId": "82ea3775-a987-47bf-b00c-5108dbe8ecfd",
        "colab": {
          "base_uri": "https://localhost:8080/"
        }
      },
      "source": [
        "#df_sem2 = df[df['mes'] > 6]\n",
        "df_sem2 = df.query('mes > 6')\n",
        "df_sem2.shape"
      ],
      "execution_count": 166,
      "outputs": [
        {
          "output_type": "execute_result",
          "data": {
            "text/plain": [
              "(197, 10)"
            ]
          },
          "metadata": {
            "tags": []
          },
          "execution_count": 166
        }
      ]
    },
    {
      "cell_type": "code",
      "metadata": {
        "id": "S-5GDWYrk1bq",
        "outputId": "ea5fc13b-741d-4359-9d01-f287156f8e8b",
        "colab": {
          "base_uri": "https://localhost:8080/",
          "height": 150
        }
      },
      "source": [
        "# df[(df['mes'] == 2) & (df['reparticion'] == 'SECR Ciencia, Tecnologia e Innovacion')]\n",
        "df_feb_SECR = df.query('mes == 2 & reparticion == \"SECR Ciencia, Tecnologia e Innovacion\"')\n",
        "df_feb_SECR.head()\n"
      ],
      "execution_count": 169,
      "outputs": [
        {
          "output_type": "execute_result",
          "data": {
            "text/html": [
              "<div>\n",
              "<style scoped>\n",
              "    .dataframe tbody tr th:only-of-type {\n",
              "        vertical-align: middle;\n",
              "    }\n",
              "\n",
              "    .dataframe tbody tr th {\n",
              "        vertical-align: top;\n",
              "    }\n",
              "\n",
              "    .dataframe thead th {\n",
              "        text-align: right;\n",
              "    }\n",
              "</style>\n",
              "<table border=\"1\" class=\"dataframe\">\n",
              "  <thead>\n",
              "    <tr style=\"text-align: right;\">\n",
              "      <th></th>\n",
              "      <th>cuil</th>\n",
              "      <th>anio</th>\n",
              "      <th>mes</th>\n",
              "      <th>funcionario_apellido</th>\n",
              "      <th>funcionario_nombre</th>\n",
              "      <th>reparticion</th>\n",
              "      <th>asignacion_por_cargo_i</th>\n",
              "      <th>aguinaldo_ii</th>\n",
              "      <th>total_salario_bruto_i_+_ii</th>\n",
              "      <th>observaciones</th>\n",
              "    </tr>\n",
              "  </thead>\n",
              "  <tbody>\n",
              "    <tr>\n",
              "      <th>55</th>\n",
              "      <td>20-26781618-3</td>\n",
              "      <td>2019</td>\n",
              "      <td>2</td>\n",
              "      <td>LARRE</td>\n",
              "      <td>PEDRO ANDRES</td>\n",
              "      <td>SECR Ciencia, Tecnologia e Innovacion</td>\n",
              "      <td>204017.27</td>\n",
              "      <td>34002.88</td>\n",
              "      <td>238020.15</td>\n",
              "      <td>baja 28/2/2019</td>\n",
              "    </tr>\n",
              "  </tbody>\n",
              "</table>\n",
              "</div>"
            ],
            "text/plain": [
              "             cuil  anio  ...  total_salario_bruto_i_+_ii   observaciones\n",
              "55  20-26781618-3  2019  ...                   238020.15  baja 28/2/2019\n",
              "\n",
              "[1 rows x 10 columns]"
            ]
          },
          "metadata": {
            "tags": []
          },
          "execution_count": 169
        }
      ]
    },
    {
      "cell_type": "markdown",
      "metadata": {
        "id": "0VgX-6tIk1bq"
      },
      "source": [
        "### Fancy Indexing\n",
        "\n",
        "Ahora vamos a quedarnos con un subconjunto de columnas del DataFrame."
      ]
    },
    {
      "cell_type": "code",
      "metadata": {
        "id": "n9IbVMdgk1br"
      },
      "source": [
        "df_view = df.loc[:,['anio','mes']]"
      ],
      "execution_count": null,
      "outputs": []
    },
    {
      "cell_type": "code",
      "metadata": {
        "id": "HGmEZYy5k1br"
      },
      "source": [
        "df_view.shape"
      ],
      "execution_count": null,
      "outputs": []
    },
    {
      "cell_type": "markdown",
      "metadata": {
        "id": "htDKv_LGk1br"
      },
      "source": [
        "Existe una forma menos explícita de hacer esta misma operación. Si pasamos una lista al indexing, pandas asume que el tipo de indexing es loc y que el filtro es sobre las columnas y no las filas:"
      ]
    },
    {
      "cell_type": "code",
      "metadata": {
        "id": "zTUV3VtOk1br"
      },
      "source": [
        "df_view = df[['anio','mes']]"
      ],
      "execution_count": null,
      "outputs": []
    },
    {
      "cell_type": "code",
      "metadata": {
        "id": "2l65yIzEk1br"
      },
      "source": [
        "df_view.shape"
      ],
      "execution_count": null,
      "outputs": []
    },
    {
      "cell_type": "markdown",
      "metadata": {
        "id": "qQwHRnRKk1bs"
      },
      "source": [
        "Fíjense lo que pasa si tratamos de acceder a filas utilizando una lista de nombres, en este caso [0,1]. "
      ]
    },
    {
      "cell_type": "code",
      "metadata": {
        "id": "6wfZHSkvk1bs"
      },
      "source": [
        "# Incorrecto\n",
        "df_view = df[[3,8]]"
      ],
      "execution_count": null,
      "outputs": []
    },
    {
      "cell_type": "markdown",
      "metadata": {
        "id": "Wn62vDqPk1bs"
      },
      "source": [
        "Nos da un error porque cuando pasamos únicamente una lista al indexing, pandas asume que queremos un set de columnas y si los nombres no existen, da error. La forma correcta de hacerlo es pasar una lista de índices y explicitar que vamos a indizar con loc y que seleccionamos todas las columnas."
      ]
    },
    {
      "cell_type": "code",
      "metadata": {
        "id": "Ixq5CC4rk1bs"
      },
      "source": [
        "# Correcto\n",
        "df_view = df.loc[[3,8],:]"
      ],
      "execution_count": null,
      "outputs": []
    },
    {
      "cell_type": "code",
      "metadata": {
        "id": "d8pCRToak1bs"
      },
      "source": [
        "df_view"
      ],
      "execution_count": null,
      "outputs": []
    },
    {
      "cell_type": "markdown",
      "metadata": {
        "id": "P5H9W-Uxk1bt"
      },
      "source": [
        ""
      ]
    },
    {
      "cell_type": "markdown",
      "metadata": {
        "id": "MBXjLzFOk1bt"
      },
      "source": [
        "### Ejercicio. Volviendo al ejemplo del titanic...\n",
        "\n",
        "1) ¿Cuántos hombres y mujeres sobrevivieron? \n",
        "\n",
        "2) ¿Cuántos menores de 18 años había? ¿Cuántos sobrevivieron?\n",
        "\n",
        "3) Seleccionen únicamente las columnas Sex y Survived y almacenenlas en un nuevo DataFrame que se llame df_titanic_subset.\n"
      ]
    },
    {
      "cell_type": "code",
      "metadata": {
        "id": "9YV7NJWJk1bt"
      },
      "source": [
        ""
      ],
      "execution_count": null,
      "outputs": []
    },
    {
      "cell_type": "code",
      "metadata": {
        "id": "cqGJXfpJk1bt"
      },
      "source": [
        ""
      ],
      "execution_count": null,
      "outputs": []
    },
    {
      "cell_type": "code",
      "metadata": {
        "id": "9lCkCXKVk1bu"
      },
      "source": [
        ""
      ],
      "execution_count": null,
      "outputs": []
    },
    {
      "cell_type": "code",
      "metadata": {
        "id": "sPZn9A_lk1bu"
      },
      "source": [
        ""
      ],
      "execution_count": null,
      "outputs": []
    },
    {
      "cell_type": "code",
      "metadata": {
        "id": "RdJZrYiZk1bu"
      },
      "source": [
        ""
      ],
      "execution_count": null,
      "outputs": []
    },
    {
      "cell_type": "code",
      "metadata": {
        "id": "TU7RnwnOk1bu"
      },
      "source": [
        "#df_titanic_subset.head()"
      ],
      "execution_count": null,
      "outputs": []
    },
    {
      "cell_type": "markdown",
      "metadata": {
        "id": "r21pXp_Bk1bu"
      },
      "source": [
        "## Funciones de Agregación\n",
        "\n",
        "Utilizando Pandas podemos aplicar funciones a nivel de columna. Algunas funciones predefinidas son la media, el desvío estándar y la sumatoria, el valor máximo y el mínimo.\n",
        "\n",
        "Algunas de las funciones de agregación más comunes son:\n",
        "\n",
        "<ul>\n",
        "    <li>min</li>\n",
        "    <li>max</li>\n",
        "    <li>count</li>\n",
        "    <li>sum</li>\n",
        "    <li>prod</li>\n",
        "    <li>mean</li>\n",
        "    <li>median</li>\n",
        "    <li>mode</li>\n",
        "    <li>std</li>\n",
        "    <li>var</li>\n",
        "</ul>\n",
        "\n",
        "\n"
      ]
    },
    {
      "cell_type": "code",
      "metadata": {
        "id": "w5IoYeQuk1bv"
      },
      "source": [
        "df['mes'].max()"
      ],
      "execution_count": null,
      "outputs": []
    },
    {
      "cell_type": "code",
      "metadata": {
        "id": "0DuGrZVVk1bv"
      },
      "source": [
        "df['asignacion_por_cargo_i'].mean()"
      ],
      "execution_count": null,
      "outputs": []
    },
    {
      "cell_type": "code",
      "metadata": {
        "id": "iskQgTwwk1bv"
      },
      "source": [
        "df['asignacion_por_cargo_i'].std()"
      ],
      "execution_count": null,
      "outputs": []
    },
    {
      "cell_type": "code",
      "metadata": {
        "id": "rwN-MsPak1bv"
      },
      "source": [
        "df['total_salario_bruto_i_+_ii'].sum()"
      ],
      "execution_count": null,
      "outputs": []
    },
    {
      "cell_type": "markdown",
      "metadata": {
        "id": "2rFNq3Mbk1bw"
      },
      "source": [
        "Podemos combinar los filtros que vimos antes con las funciones de agregación para responder preguntas cómo ¿Cuál fue en gasto en asignaciones de funcionarios para la Secretaría de Medios 2019? ¿Y para la de Justicia y Seguridad?"
      ]
    },
    {
      "cell_type": "code",
      "metadata": {
        "id": "1py4JM3ck1bw"
      },
      "source": [
        "df[df['reparticion'] == 'SECR de Medios']['total_salario_bruto_i_+_ii'].sum()"
      ],
      "execution_count": null,
      "outputs": []
    },
    {
      "cell_type": "code",
      "metadata": {
        "id": "OYgpC--hk1bw"
      },
      "source": [
        "df[df['reparticion'] == 'SECR Justicia y Seguridad']['total_salario_bruto_i_+_ii'].sum()"
      ],
      "execution_count": null,
      "outputs": []
    },
    {
      "cell_type": "markdown",
      "metadata": {
        "id": "1f8AXZock1bw"
      },
      "source": [
        "Ahora respondamos algunas preguntas: ¿Quién o quiénes del dataset cobran el salario más alto? ¿Y el más bajo?"
      ]
    },
    {
      "cell_type": "code",
      "metadata": {
        "scrolled": true,
        "id": "vK3j81Kvk1bw"
      },
      "source": [
        "df[df['total_salario_bruto_i_+_ii'] == df['total_salario_bruto_i_+_ii'].max()]"
      ],
      "execution_count": null,
      "outputs": []
    },
    {
      "cell_type": "code",
      "metadata": {
        "scrolled": true,
        "id": "lfNvmXEdk1bx"
      },
      "source": [
        "df[df['total_salario_bruto_i_+_ii'] == df['total_salario_bruto_i_+_ii'].min()]"
      ],
      "execution_count": null,
      "outputs": []
    },
    {
      "cell_type": "markdown",
      "metadata": {
        "id": "KPE-AoP3k1bx"
      },
      "source": [
        "# Otros análisis descriptivos\n",
        "\n",
        "Pandas viene con algunas funciones built-in para ayudar al análisis descriptivo.\n",
        "\n",
        "## Para las variables numéricas"
      ]
    },
    {
      "cell_type": "code",
      "metadata": {
        "id": "VSbqWc44k1bx"
      },
      "source": [
        "df.describe()"
      ],
      "execution_count": null,
      "outputs": []
    },
    {
      "cell_type": "markdown",
      "metadata": {
        "id": "eTYtUQxwk1bx"
      },
      "source": [
        "## Para las variables categóricas\n"
      ]
    },
    {
      "cell_type": "code",
      "metadata": {
        "id": "5ZjZPjTkk1by"
      },
      "source": [
        "df['reparticion'].value_counts()"
      ],
      "execution_count": null,
      "outputs": []
    },
    {
      "cell_type": "markdown",
      "metadata": {
        "id": "ZiXHmVXGk1by"
      },
      "source": [
        "### Ejercicio: Volviendo al ejemplo del Titanic.\n",
        "\n",
        "1) ¿Cuál era la edad promedio de los pasajeros de cada clase (Pclass)?\n",
        "\n",
        "2) ¿Cuál fue la tarifa que pagaron en promedio los hombres? ¿Y las mujeres?\n",
        "\n",
        "3) ¿Cuánto pagaron en total los pasajeros de primera clase para subir al Titanic? ¿Y los de tercera?\n",
        "\n",
        "4) ¿Cuántos pasajeros había en cada tipo de clase?"
      ]
    },
    {
      "cell_type": "code",
      "metadata": {
        "id": "4GkRYSRfk1by"
      },
      "source": [
        "df_titanic.head()"
      ],
      "execution_count": null,
      "outputs": []
    },
    {
      "cell_type": "code",
      "metadata": {
        "id": "Ej7RvjHMk1bz"
      },
      "source": [
        ""
      ],
      "execution_count": null,
      "outputs": []
    },
    {
      "cell_type": "code",
      "metadata": {
        "id": "MygNfXXwk1bz"
      },
      "source": [
        ""
      ],
      "execution_count": null,
      "outputs": []
    },
    {
      "cell_type": "code",
      "metadata": {
        "id": "rGGlOlThk1bz"
      },
      "source": [
        ""
      ],
      "execution_count": null,
      "outputs": []
    },
    {
      "cell_type": "code",
      "metadata": {
        "id": "eFf29Japk1b0"
      },
      "source": [
        ""
      ],
      "execution_count": null,
      "outputs": []
    },
    {
      "cell_type": "code",
      "metadata": {
        "id": "o4UKilUOk1b0"
      },
      "source": [
        ""
      ],
      "execution_count": null,
      "outputs": []
    },
    {
      "cell_type": "code",
      "metadata": {
        "id": "EgO4XCkzk1b0"
      },
      "source": [
        ""
      ],
      "execution_count": null,
      "outputs": []
    },
    {
      "cell_type": "code",
      "metadata": {
        "id": "PCVpjwNek1b0"
      },
      "source": [
        ""
      ],
      "execution_count": null,
      "outputs": []
    },
    {
      "cell_type": "code",
      "metadata": {
        "id": "uoFLDTU_k1b1"
      },
      "source": [
        ""
      ],
      "execution_count": null,
      "outputs": []
    },
    {
      "cell_type": "markdown",
      "metadata": {
        "id": "ebxIExqKk1b1"
      },
      "source": [
        "## Ordenar por columnas y limitar la cantidad de resultados"
      ]
    },
    {
      "cell_type": "markdown",
      "metadata": {
        "id": "ZWnIZtVCk1b1"
      },
      "source": [
        "Otra forma de resolver el problema de encontrar el mayor y el menos es con el método sort_values. Este método puede recibir un valor único (nombre de columna) o una lista (con varias columnas) y un orden asc o desc. Por default el orden es asc.\n",
        "\n",
        "Si combinamos el ordenamiento con el método head() para limitar la cantidad de resultados, podemos encontrar los N primeros. "
      ]
    },
    {
      "cell_type": "code",
      "metadata": {
        "id": "vYryxcjKk1b2"
      },
      "source": [
        "# Recordemos cómo abrir la documentación de un método\n",
        "df.sort_values?"
      ],
      "execution_count": null,
      "outputs": []
    },
    {
      "cell_type": "code",
      "metadata": {
        "id": "sIpQZSqxk1b2"
      },
      "source": [
        "# Calculamos el máximo\n",
        "df.sort_values('total_salario_bruto_i_+_ii',ascending=False).head(1)"
      ],
      "execution_count": null,
      "outputs": []
    },
    {
      "cell_type": "code",
      "metadata": {
        "id": "jeI6eAank1b2"
      },
      "source": [
        "# Calculamos el mínimo\n",
        "df.sort_values('total_salario_bruto_i_+_ii').head(1)"
      ],
      "execution_count": null,
      "outputs": []
    },
    {
      "cell_type": "markdown",
      "metadata": {
        "id": "osvnJWrYk1b3"
      },
      "source": [
        "# Anexo: volviendo al tema de la vectorización\n",
        "\n",
        "¿Por qué es tan importante trabajar con Pandas y no con funciones escritas por nosotros en Python nativo y que procesen los datos dentro de un for loop?\n",
        "\n",
        "Por un lado está la comodidad. Hay mucha funcionalidad que ya está desarrollada en Pandas. Existen funciones que resuelven muchos de los problemas clásicos de manipular datos: agrupar, sumarizar, sacar estadísticas, filtrar, etc. Pero además hay una razón de performance. \n",
        "\n",
        "Veamos una demostración de que vectorizar es más eficiente. Vamos a crear dos listas de 1.000.000 de números aleatorios cada una y vamos a tratar de multiplicar elemento por elemento con pandas y sin pandas:\n",
        "\n"
      ]
    },
    {
      "cell_type": "code",
      "metadata": {
        "id": "qTlh4xXCk1b3"
      },
      "source": [
        "lista1 = list(np.random.randint(1, 100, 1000000))\n",
        "lista2 = list(np.random.randint(1, 100, 1000000))"
      ],
      "execution_count": null,
      "outputs": []
    },
    {
      "cell_type": "code",
      "metadata": {
        "id": "X5vcproyk1b3"
      },
      "source": [
        "%%timeit \n",
        "for x,y in zip(lista1,lista2):\n",
        "    x * y"
      ],
      "execution_count": null,
      "outputs": []
    },
    {
      "cell_type": "markdown",
      "metadata": {
        "id": "fkRhcz7ek1b4"
      },
      "source": [
        "Ahora probemos hacer lo mismo con dos series de Pandas"
      ]
    },
    {
      "cell_type": "code",
      "metadata": {
        "id": "MPDo3kCRk1b4"
      },
      "source": [
        "serie1 = pd.Series(lista1)\n",
        "serie2 = pd.Series(lista2)"
      ],
      "execution_count": null,
      "outputs": []
    },
    {
      "cell_type": "code",
      "metadata": {
        "id": "FjUG27EVk1b4"
      },
      "source": [
        "%%timeit \n",
        "resultado = serie1 * serie2"
      ],
      "execution_count": null,
      "outputs": []
    },
    {
      "cell_type": "markdown",
      "metadata": {
        "id": "RB20upwHk1b5"
      },
      "source": [
        "Conclusión: la operación vectorizada es <strong> más de 70 veces más rápida.</strong>"
      ]
    },
    {
      "cell_type": "code",
      "metadata": {
        "id": "S0Bis1FUk1b5"
      },
      "source": [
        ""
      ],
      "execution_count": null,
      "outputs": []
    }
  ]
}